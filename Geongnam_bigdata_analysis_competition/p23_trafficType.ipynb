{
 "cells": [
  {
   "cell_type": "code",
   "execution_count": 57,
   "id": "87e40f83-3e8e-4cfb-b365-d57baffecc87",
   "metadata": {},
   "outputs": [
    {
     "data": {
      "text/html": [
       "<div>\n",
       "<style scoped>\n",
       "    .dataframe tbody tr th:only-of-type {\n",
       "        vertical-align: middle;\n",
       "    }\n",
       "\n",
       "    .dataframe tbody tr th {\n",
       "        vertical-align: top;\n",
       "    }\n",
       "\n",
       "    .dataframe thead th {\n",
       "        text-align: right;\n",
       "    }\n",
       "</style>\n",
       "<table border=\"1\" class=\"dataframe\">\n",
       "  <thead>\n",
       "    <tr style=\"text-align: right;\">\n",
       "      <th></th>\n",
       "      <th>노선</th>\n",
       "      <th>호선</th>\n",
       "      <th>시작주소</th>\n",
       "      <th>도착주소</th>\n",
       "      <th>통행량</th>\n",
       "    </tr>\n",
       "  </thead>\n",
       "  <tbody>\n",
       "    <tr>\n",
       "      <th>0</th>\n",
       "      <td>국도</td>\n",
       "      <td>3호</td>\n",
       "      <td>남해군</td>\n",
       "      <td>사천시</td>\n",
       "      <td>5666</td>\n",
       "    </tr>\n",
       "    <tr>\n",
       "      <th>1</th>\n",
       "      <td>국도</td>\n",
       "      <td>3호</td>\n",
       "      <td>사천시</td>\n",
       "      <td>진주시</td>\n",
       "      <td>36304</td>\n",
       "    </tr>\n",
       "    <tr>\n",
       "      <th>2</th>\n",
       "      <td>국도</td>\n",
       "      <td>3호</td>\n",
       "      <td>진주시</td>\n",
       "      <td>산청군</td>\n",
       "      <td>21402</td>\n",
       "    </tr>\n",
       "    <tr>\n",
       "      <th>3</th>\n",
       "      <td>국도</td>\n",
       "      <td>3호</td>\n",
       "      <td>산청군</td>\n",
       "      <td>함양군</td>\n",
       "      <td>6110</td>\n",
       "    </tr>\n",
       "    <tr>\n",
       "      <th>4</th>\n",
       "      <td>국도</td>\n",
       "      <td>3호</td>\n",
       "      <td>함양군</td>\n",
       "      <td>거창군</td>\n",
       "      <td>7236</td>\n",
       "    </tr>\n",
       "  </tbody>\n",
       "</table>\n",
       "</div>"
      ],
      "text/plain": [
       "   노선  호선 시작주소 도착주소    통행량\n",
       "0  국도  3호  남해군  사천시   5666\n",
       "1  국도  3호  사천시  진주시  36304\n",
       "2  국도  3호  진주시  산청군  21402\n",
       "3  국도  3호  산청군  함양군   6110\n",
       "4  국도  3호  함양군  거창군   7236"
      ]
     },
     "execution_count": 57,
     "metadata": {},
     "output_type": "execute_result"
    }
   ],
   "source": [
    "import pandas as pd\n",
    "localTraff = pd.read_excel('국도통행량.xlsx') # on a weekday for 24h\n",
    "localTraff.head()"
   ]
  },
  {
   "cell_type": "code",
   "execution_count": 58,
   "id": "ffe07f29-28a2-44ce-8f3f-7fbe85f83ce1",
   "metadata": {},
   "outputs": [
    {
     "data": {
      "text/plain": [
       "array(['국도', '국지도', '지방도'], dtype=object)"
      ]
     },
     "execution_count": 58,
     "metadata": {},
     "output_type": "execute_result"
    }
   ],
   "source": [
    "localTraff['노선'].unique()"
   ]
  },
  {
   "cell_type": "code",
   "execution_count": 3,
   "id": "73d6d67d-5c04-4b18-ad1c-18f730ee4603",
   "metadata": {},
   "outputs": [
    {
     "data": {
      "text/html": [
       "<div>\n",
       "<style scoped>\n",
       "    .dataframe tbody tr th:only-of-type {\n",
       "        vertical-align: middle;\n",
       "    }\n",
       "\n",
       "    .dataframe tbody tr th {\n",
       "        vertical-align: top;\n",
       "    }\n",
       "\n",
       "    .dataframe thead th {\n",
       "        text-align: right;\n",
       "    }\n",
       "</style>\n",
       "<table border=\"1\" class=\"dataframe\">\n",
       "  <thead>\n",
       "    <tr style=\"text-align: right;\">\n",
       "      <th></th>\n",
       "      <th>통행량</th>\n",
       "    </tr>\n",
       "    <tr>\n",
       "      <th>노선</th>\n",
       "      <th></th>\n",
       "    </tr>\n",
       "  </thead>\n",
       "  <tbody>\n",
       "    <tr>\n",
       "      <th>국도</th>\n",
       "      <td>403254</td>\n",
       "    </tr>\n",
       "    <tr>\n",
       "      <th>국지도</th>\n",
       "      <td>149923</td>\n",
       "    </tr>\n",
       "    <tr>\n",
       "      <th>지방도</th>\n",
       "      <td>205361</td>\n",
       "    </tr>\n",
       "  </tbody>\n",
       "</table>\n",
       "</div>"
      ],
      "text/plain": [
       "        통행량\n",
       "노선         \n",
       "국도   403254\n",
       "국지도  149923\n",
       "지방도  205361"
      ]
     },
     "execution_count": 3,
     "metadata": {},
     "output_type": "execute_result"
    }
   ],
   "source": [
    "trafficType = localTraff[['노선','통행량']]\n",
    "trafficType.groupby('노선').sum()"
   ]
  },
  {
   "cell_type": "code",
   "execution_count": 4,
   "id": "fb4abc4e-39d4-4980-8663-c84e4dc98c66",
   "metadata": {},
   "outputs": [
    {
     "data": {
      "text/html": [
       "<div>\n",
       "<style scoped>\n",
       "    .dataframe tbody tr th:only-of-type {\n",
       "        vertical-align: middle;\n",
       "    }\n",
       "\n",
       "    .dataframe tbody tr th {\n",
       "        vertical-align: top;\n",
       "    }\n",
       "\n",
       "    .dataframe thead th {\n",
       "        text-align: right;\n",
       "    }\n",
       "</style>\n",
       "<table border=\"1\" class=\"dataframe\">\n",
       "  <thead>\n",
       "    <tr style=\"text-align: right;\">\n",
       "      <th></th>\n",
       "      <th>출발주소2</th>\n",
       "      <th>도착주소2</th>\n",
       "      <th>출발지방향평균</th>\n",
       "    </tr>\n",
       "  </thead>\n",
       "  <tbody>\n",
       "    <tr>\n",
       "      <th>0</th>\n",
       "      <td>경기도</td>\n",
       "      <td>함양군</td>\n",
       "      <td>14.00</td>\n",
       "    </tr>\n",
       "    <tr>\n",
       "      <th>1</th>\n",
       "      <td>경기도</td>\n",
       "      <td>양산시</td>\n",
       "      <td>1.75</td>\n",
       "    </tr>\n",
       "    <tr>\n",
       "      <th>2</th>\n",
       "      <td>경기도</td>\n",
       "      <td>함안군</td>\n",
       "      <td>2.50</td>\n",
       "    </tr>\n",
       "    <tr>\n",
       "      <th>3</th>\n",
       "      <td>경기도</td>\n",
       "      <td>함안군</td>\n",
       "      <td>0.75</td>\n",
       "    </tr>\n",
       "    <tr>\n",
       "      <th>4</th>\n",
       "      <td>경기도</td>\n",
       "      <td>함안군</td>\n",
       "      <td>9.00</td>\n",
       "    </tr>\n",
       "  </tbody>\n",
       "</table>\n",
       "</div>"
      ],
      "text/plain": [
       "  출발주소2 도착주소2  출발지방향평균\n",
       "0   경기도   함양군    14.00\n",
       "1   경기도   양산시     1.75\n",
       "2   경기도   함안군     2.50\n",
       "3   경기도   함안군     0.75\n",
       "4   경기도   함안군     9.00"
      ]
     },
     "execution_count": 4,
     "metadata": {},
     "output_type": "execute_result"
    }
   ],
   "source": [
    "highwayTraff = pd.read_csv('경남평일교통량평균.csv')\n",
    "highwayTraff.head()"
   ]
  },
  {
   "cell_type": "code",
   "execution_count": 5,
   "id": "e811c1f1-58ab-4c47-9859-667bf61e52d1",
   "metadata": {},
   "outputs": [
    {
     "data": {
      "text/plain": [
       "np.float64(688899.75)"
      ]
     },
     "execution_count": 5,
     "metadata": {},
     "output_type": "execute_result"
    }
   ],
   "source": [
    "highwayTraff['출발지방향평균'].sum()"
   ]
  },
  {
   "cell_type": "code",
   "execution_count": 6,
   "id": "abd1ad0a-8ab7-4b53-acbb-d3ad8c1940f7",
   "metadata": {},
   "outputs": [
    {
     "data": {
      "text/plain": [
       "고속도로    688900\n",
       "국도      403254\n",
       "국지도     149923\n",
       "지방도     205361\n",
       "dtype: int64"
      ]
     },
     "execution_count": 6,
     "metadata": {},
     "output_type": "execute_result"
    }
   ],
   "source": [
    "compTraffc = pd.Series([688900,403254,149923,205361], index=['고속도로','국도','국지도','지방도'])\n",
    "compTraffc"
   ]
  },
  {
   "cell_type": "code",
   "execution_count": 11,
   "id": "6d436116-364c-4d50-8299-0842efb8047c",
   "metadata": {},
   "outputs": [],
   "source": [
    "import matplotlib.font_manager as fm\n",
    "import matplotlib as mpl\n",
    "import matplotlib.pyplot as plt\n",
    "fm.fontManager.addfont('BinggraeII.ttf')\n",
    "mpl.rcParams[\"font.family\"] = 'Binggrae?'"
   ]
  },
  {
   "cell_type": "code",
   "execution_count": 39,
   "id": "30f5829c-9513-4ad6-9774-198c82ce17fb",
   "metadata": {},
   "outputs": [
    {
     "data": {
      "image/png": "[encoded data removed]",
      "text/plain": [
       "<Figure size 640x480 with 1 Axes>"
      ]
     },
     "metadata": {},
     "output_type": "display_data"
    }
   ],
   "source": [
    "compTraffc.plot(kind='pie', title='도로 유형별 통행량', autopct='%1.1f%%', colormap=plt.cm.Pastel2,shadow=True)\n",
    "plt.margins(0,0.2)\n",
    "plt.show()"
   ]
  },
  {
   "cell_type": "code",
   "execution_count": 40,
   "id": "1e29e088-5914-4a0e-9139-0909b665f3b5",
   "metadata": {},
   "outputs": [],
   "source": [
    "compTraffc2 = pd.Series([403254,149923,205361,688900], index=['국도','국지도','지방도','고속도로'])"
   ]
  },
  {
   "cell_type": "code",
   "execution_count": 44,
   "id": "914185d5-000f-4656-be68-349748ec46c1",
   "metadata": {},
   "outputs": [
    {
     "data": {
      "image/png": "[encoded data removed]",
      "text/plain": [
       "<Figure size 640x480 with 1 Axes>"
      ]
     },
     "metadata": {},
     "output_type": "display_data"
    }
   ],
   "source": [
    "fig, ax = plt.subplots(1,1)\n",
    "compTraffc2.plot(kind='pie', title='도로 유형별 통행량', autopct='%1.1f%%', colormap=plt.cm.Pastel2,shadow=True,explode=(0, 0, 0, 0.05))\n",
    "plt.show()"
   ]
  },
  {
   "cell_type": "code",
   "execution_count": 45,
   "id": "9a3fbbab-030f-474e-8c43-675da9d897d6",
   "metadata": {},
   "outputs": [],
   "source": [
    "fig.savefig('도로유형별통행량.png')"
   ]
  },
  {
   "cell_type": "code",
   "execution_count": 46,
   "id": "e7382240-1899-4bf9-baee-02e232fa3eb4",
   "metadata": {},
   "outputs": [
    {
     "data": {
      "text/html": [
       "<div>\n",
       "<style scoped>\n",
       "    .dataframe tbody tr th:only-of-type {\n",
       "        vertical-align: middle;\n",
       "    }\n",
       "\n",
       "    .dataframe tbody tr th {\n",
       "        vertical-align: top;\n",
       "    }\n",
       "\n",
       "    .dataframe thead th {\n",
       "        text-align: right;\n",
       "    }\n",
       "</style>\n",
       "<table border=\"1\" class=\"dataframe\">\n",
       "  <thead>\n",
       "    <tr style=\"text-align: right;\">\n",
       "      <th></th>\n",
       "      <th>노선</th>\n",
       "      <th>호선</th>\n",
       "      <th>시작주소</th>\n",
       "      <th>도착주소</th>\n",
       "      <th>통행량</th>\n",
       "    </tr>\n",
       "  </thead>\n",
       "  <tbody>\n",
       "    <tr>\n",
       "      <th>0</th>\n",
       "      <td>국도</td>\n",
       "      <td>3호</td>\n",
       "      <td>남해군</td>\n",
       "      <td>사천시</td>\n",
       "      <td>5666</td>\n",
       "    </tr>\n",
       "    <tr>\n",
       "      <th>1</th>\n",
       "      <td>국도</td>\n",
       "      <td>3호</td>\n",
       "      <td>사천시</td>\n",
       "      <td>진주시</td>\n",
       "      <td>36304</td>\n",
       "    </tr>\n",
       "    <tr>\n",
       "      <th>2</th>\n",
       "      <td>국도</td>\n",
       "      <td>3호</td>\n",
       "      <td>진주시</td>\n",
       "      <td>산청군</td>\n",
       "      <td>21402</td>\n",
       "    </tr>\n",
       "    <tr>\n",
       "      <th>3</th>\n",
       "      <td>국도</td>\n",
       "      <td>3호</td>\n",
       "      <td>산청군</td>\n",
       "      <td>함양군</td>\n",
       "      <td>6110</td>\n",
       "    </tr>\n",
       "    <tr>\n",
       "      <th>4</th>\n",
       "      <td>국도</td>\n",
       "      <td>3호</td>\n",
       "      <td>함양군</td>\n",
       "      <td>거창군</td>\n",
       "      <td>7236</td>\n",
       "    </tr>\n",
       "  </tbody>\n",
       "</table>\n",
       "</div>"
      ],
      "text/plain": [
       "   노선  호선 시작주소 도착주소    통행량\n",
       "0  국도  3호  남해군  사천시   5666\n",
       "1  국도  3호  사천시  진주시  36304\n",
       "2  국도  3호  진주시  산청군  21402\n",
       "3  국도  3호  산청군  함양군   6110\n",
       "4  국도  3호  함양군  거창군   7236"
      ]
     },
     "execution_count": 46,
     "metadata": {},
     "output_type": "execute_result"
    }
   ],
   "source": [
    "### inside the Gyeongname province\n",
    "insideTraff = pd.read_excel('국도통행량.xlsx',sheet_name='Sheet2') # on a weekday for 24h\n",
    "insideTraff.head()"
   ]
  },
  {
   "cell_type": "code",
   "execution_count": 47,
   "id": "5b6aba14-e844-4b34-a6ba-c3db8fe0b943",
   "metadata": {},
   "outputs": [
    {
     "data": {
      "text/html": [
       "<div>\n",
       "<style scoped>\n",
       "    .dataframe tbody tr th:only-of-type {\n",
       "        vertical-align: middle;\n",
       "    }\n",
       "\n",
       "    .dataframe tbody tr th {\n",
       "        vertical-align: top;\n",
       "    }\n",
       "\n",
       "    .dataframe thead th {\n",
       "        text-align: right;\n",
       "    }\n",
       "</style>\n",
       "<table border=\"1\" class=\"dataframe\">\n",
       "  <thead>\n",
       "    <tr style=\"text-align: right;\">\n",
       "      <th></th>\n",
       "      <th>통행량</th>\n",
       "    </tr>\n",
       "    <tr>\n",
       "      <th>노선</th>\n",
       "      <th></th>\n",
       "    </tr>\n",
       "  </thead>\n",
       "  <tbody>\n",
       "    <tr>\n",
       "      <th>국도</th>\n",
       "      <td>328279</td>\n",
       "    </tr>\n",
       "    <tr>\n",
       "      <th>국지도</th>\n",
       "      <td>127795</td>\n",
       "    </tr>\n",
       "    <tr>\n",
       "      <th>지방도</th>\n",
       "      <td>204124</td>\n",
       "    </tr>\n",
       "  </tbody>\n",
       "</table>\n",
       "</div>"
      ],
      "text/plain": [
       "        통행량\n",
       "노선         \n",
       "국도   328279\n",
       "국지도  127795\n",
       "지방도  204124"
      ]
     },
     "execution_count": 47,
     "metadata": {},
     "output_type": "execute_result"
    }
   ],
   "source": [
    "trafficType2 = insideTraff[['노선','통행량']]\n",
    "trafficType2.groupby('노선').sum()"
   ]
  },
  {
   "cell_type": "code",
   "execution_count": 50,
   "id": "faa89c01-bacf-4d03-809d-7540f65d8e5d",
   "metadata": {},
   "outputs": [
    {
     "data": {
      "text/html": [
       "<div>\n",
       "<style scoped>\n",
       "    .dataframe tbody tr th:only-of-type {\n",
       "        vertical-align: middle;\n",
       "    }\n",
       "\n",
       "    .dataframe tbody tr th {\n",
       "        vertical-align: top;\n",
       "    }\n",
       "\n",
       "    .dataframe thead th {\n",
       "        text-align: right;\n",
       "    }\n",
       "</style>\n",
       "<table border=\"1\" class=\"dataframe\">\n",
       "  <thead>\n",
       "    <tr style=\"text-align: right;\">\n",
       "      <th></th>\n",
       "      <th>출발주소2</th>\n",
       "      <th>도착주소2</th>\n",
       "      <th>출발지방향평균</th>\n",
       "      <th>도착지방향평균</th>\n",
       "    </tr>\n",
       "  </thead>\n",
       "  <tbody>\n",
       "    <tr>\n",
       "      <th>0</th>\n",
       "      <td>함양군</td>\n",
       "      <td>함양군</td>\n",
       "      <td>0.25</td>\n",
       "      <td>0.25</td>\n",
       "    </tr>\n",
       "    <tr>\n",
       "      <th>1</th>\n",
       "      <td>함양군</td>\n",
       "      <td>양산시</td>\n",
       "      <td>0.50</td>\n",
       "      <td>1.00</td>\n",
       "    </tr>\n",
       "    <tr>\n",
       "      <th>2</th>\n",
       "      <td>함양군</td>\n",
       "      <td>함안군</td>\n",
       "      <td>1.75</td>\n",
       "      <td>0.75</td>\n",
       "    </tr>\n",
       "    <tr>\n",
       "      <th>3</th>\n",
       "      <td>함양군</td>\n",
       "      <td>함안군</td>\n",
       "      <td>1.25</td>\n",
       "      <td>0.25</td>\n",
       "    </tr>\n",
       "    <tr>\n",
       "      <th>4</th>\n",
       "      <td>함양군</td>\n",
       "      <td>함안군</td>\n",
       "      <td>2.00</td>\n",
       "      <td>0.75</td>\n",
       "    </tr>\n",
       "  </tbody>\n",
       "</table>\n",
       "</div>"
      ],
      "text/plain": [
       "  출발주소2 도착주소2  출발지방향평균  도착지방향평균\n",
       "0   함양군   함양군     0.25     0.25\n",
       "1   함양군   양산시     0.50     1.00\n",
       "2   함양군   함안군     1.75     0.75\n",
       "3   함양군   함안군     1.25     0.25\n",
       "4   함양군   함안군     2.00     0.75"
      ]
     },
     "execution_count": 50,
     "metadata": {},
     "output_type": "execute_result"
    }
   ],
   "source": [
    "highwayInsideTraff = pd.read_excel('경남평일교통량평균수정.xlsx',sheet_name='Sheet2')\n",
    "highwayInsideTraff.head()"
   ]
  },
  {
   "cell_type": "code",
   "execution_count": 52,
   "id": "4284a008-35d0-4fa5-a511-6a2aded2d4df",
   "metadata": {},
   "outputs": [
    {
     "data": {
      "text/plain": [
       "np.float64(337506.0)"
      ]
     },
     "execution_count": 52,
     "metadata": {},
     "output_type": "execute_result"
    }
   ],
   "source": [
    "highwayInsideTraff['출발지방향평균'].sum()"
   ]
  },
  {
   "cell_type": "code",
   "execution_count": 53,
   "id": "b5d3b7fd-8a2a-4705-a5b2-8a02ad261d10",
   "metadata": {},
   "outputs": [],
   "source": [
    "compTraffcInside = pd.Series([328279,127795,204124,337506], index=['국도','국지도','지방도','고속도로'])"
   ]
  },
  {
   "cell_type": "code",
   "execution_count": 55,
   "id": "e425f779-2c2a-4f87-b337-5a316147a727",
   "metadata": {},
   "outputs": [
    {
     "data": {
      "image/png": "[encoded data removed]",
      "text/plain": [
       "<Figure size 640x480 with 1 Axes>"
      ]
     },
     "metadata": {},
     "output_type": "display_data"
    }
   ],
   "source": [
    "fig, ax = plt.subplots(1,1)\n",
    "compTraffcInside.plot(kind='pie', title='도내 도로 유형별 통행량', autopct='%1.1f%%', colormap=plt.cm.Pastel2,shadow=True,explode=(0, 0, 0, 0.05))\n",
    "plt.show()"
   ]
  },
  {
   "cell_type": "code",
   "execution_count": 56,
   "id": "6143e619-8c81-4850-80d0-ba97d86b4644",
   "metadata": {},
   "outputs": [],
   "source": [
    "fig.savefig('도내도로유형별통행량.png')"
   ]
  },
  {
   "cell_type": "code",
   "execution_count": null,
   "id": "3d3922b5-0834-41ae-b15f-cdd36f9e9b2f",
   "metadata": {},
   "outputs": [],
   "source": []
  }
 ],
 "metadata": {
  "kernelspec": {
   "display_name": "Python 3 (ipykernel)",
   "language": "python",
   "name": "python3"
  },
  "language_info": {
   "codemirror_mode": {
    "name": "ipython",
    "version": 3
   },
   "file_extension": ".py",
   "mimetype": "text/x-python",
   "name": "python",
   "nbconvert_exporter": "python",
   "pygments_lexer": "ipython3",
   "version": "3.10.0"
  }
 },
 "nbformat": 4,
 "nbformat_minor": 5
}
