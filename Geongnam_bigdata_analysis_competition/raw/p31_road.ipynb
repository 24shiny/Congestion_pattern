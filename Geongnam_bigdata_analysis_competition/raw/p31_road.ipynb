{
 "cells": [
  {
   "cell_type": "code",
   "execution_count": 2,
   "id": "fea92856-3aaa-4a8a-b43d-4eeb547a9fa0",
   "metadata": {},
   "outputs": [],
   "source": [
    "import pandas as pd\n",
    "import numpy as np"
   ]
  },
  {
   "cell_type": "code",
   "execution_count": 3,
   "id": "45652738-64a8-4bd9-9016-160902da0781",
   "metadata": {},
   "outputs": [
    {
     "data": {
      "text/html": [
       "<div>\n",
       "<style scoped>\n",
       "    .dataframe tbody tr th:only-of-type {\n",
       "        vertical-align: middle;\n",
       "    }\n",
       "\n",
       "    .dataframe tbody tr th {\n",
       "        vertical-align: top;\n",
       "    }\n",
       "\n",
       "    .dataframe thead th {\n",
       "        text-align: right;\n",
       "    }\n",
       "</style>\n",
       "<table border=\"1\" class=\"dataframe\">\n",
       "  <thead>\n",
       "    <tr style=\"text-align: right;\">\n",
       "      <th></th>\n",
       "      <th>행정구역명</th>\n",
       "      <th>도로등급</th>\n",
       "      <th>전체(m)</th>\n",
       "      <th>포장도(m)</th>\n",
       "      <th>미포장도(m)</th>\n",
       "      <th>미개통도(m)</th>\n",
       "      <th>개통도(m)</th>\n",
       "      <th>포장률</th>\n",
       "    </tr>\n",
       "  </thead>\n",
       "  <tbody>\n",
       "    <tr>\n",
       "      <th>0</th>\n",
       "      <td>경상남도</td>\n",
       "      <td>고속국도</td>\n",
       "      <td>505790</td>\n",
       "      <td>505790</td>\n",
       "      <td>NaN</td>\n",
       "      <td>NaN</td>\n",
       "      <td>505790</td>\n",
       "      <td>100.000000</td>\n",
       "    </tr>\n",
       "    <tr>\n",
       "      <th>1</th>\n",
       "      <td>NaN</td>\n",
       "      <td>일반국도</td>\n",
       "      <td>1539579</td>\n",
       "      <td>1510769</td>\n",
       "      <td>6840.0</td>\n",
       "      <td>21970.0</td>\n",
       "      <td>1517609</td>\n",
       "      <td>99.549291</td>\n",
       "    </tr>\n",
       "    <tr>\n",
       "      <th>2</th>\n",
       "      <td>NaN</td>\n",
       "      <td>지방도</td>\n",
       "      <td>2423618</td>\n",
       "      <td>1990102</td>\n",
       "      <td>182962.0</td>\n",
       "      <td>250554.0</td>\n",
       "      <td>2173064</td>\n",
       "      <td>91.580460</td>\n",
       "    </tr>\n",
       "    <tr>\n",
       "      <th>3</th>\n",
       "      <td>NaN</td>\n",
       "      <td>시도</td>\n",
       "      <td>4704857</td>\n",
       "      <td>3699952</td>\n",
       "      <td>4691.0</td>\n",
       "      <td>1000214.0</td>\n",
       "      <td>3704643</td>\n",
       "      <td>99.873375</td>\n",
       "    </tr>\n",
       "    <tr>\n",
       "      <th>4</th>\n",
       "      <td>NaN</td>\n",
       "      <td>군도</td>\n",
       "      <td>3393160</td>\n",
       "      <td>2082096</td>\n",
       "      <td>875306.0</td>\n",
       "      <td>435758.0</td>\n",
       "      <td>2957402</td>\n",
       "      <td>70.402874</td>\n",
       "    </tr>\n",
       "  </tbody>\n",
       "</table>\n",
       "</div>"
      ],
      "text/plain": [
       "  행정구역명  도로등급    전체(m)   포장도(m)   미포장도(m)    미개통도(m)   개통도(m)         포장률\n",
       "0  경상남도  고속국도   505790   505790       NaN        NaN   505790  100.000000\n",
       "1   NaN  일반국도  1539579  1510769    6840.0    21970.0  1517609   99.549291\n",
       "2   NaN   지방도  2423618  1990102  182962.0   250554.0  2173064   91.580460\n",
       "3   NaN    시도  4704857  3699952    4691.0  1000214.0  3704643   99.873375\n",
       "4   NaN    군도  3393160  2082096  875306.0   435758.0  2957402   70.402874"
      ]
     },
     "execution_count": 3,
     "metadata": {},
     "output_type": "execute_result"
    }
   ],
   "source": [
    "road = pd.read_excel('시군별_도로현황_20171231_cng.xlsx')\n",
    "road.head()"
   ]
  },
  {
   "cell_type": "code",
   "execution_count": 4,
   "id": "36fd1f7f-9abd-4dd2-a2d9-b6e45bc4ec0b",
   "metadata": {},
   "outputs": [
    {
     "data": {
      "text/html": [
       "<div>\n",
       "<style scoped>\n",
       "    .dataframe tbody tr th:only-of-type {\n",
       "        vertical-align: middle;\n",
       "    }\n",
       "\n",
       "    .dataframe tbody tr th {\n",
       "        vertical-align: top;\n",
       "    }\n",
       "\n",
       "    .dataframe thead th {\n",
       "        text-align: right;\n",
       "    }\n",
       "</style>\n",
       "<table border=\"1\" class=\"dataframe\">\n",
       "  <thead>\n",
       "    <tr style=\"text-align: right;\">\n",
       "      <th></th>\n",
       "      <th>도로등급</th>\n",
       "      <th>개통도(m)</th>\n",
       "    </tr>\n",
       "  </thead>\n",
       "  <tbody>\n",
       "    <tr>\n",
       "      <th>0</th>\n",
       "      <td>고속국도</td>\n",
       "      <td>505790</td>\n",
       "    </tr>\n",
       "    <tr>\n",
       "      <th>1</th>\n",
       "      <td>일반국도</td>\n",
       "      <td>1517609</td>\n",
       "    </tr>\n",
       "    <tr>\n",
       "      <th>2</th>\n",
       "      <td>지방도</td>\n",
       "      <td>2173064</td>\n",
       "    </tr>\n",
       "    <tr>\n",
       "      <th>3</th>\n",
       "      <td>시도</td>\n",
       "      <td>3704643</td>\n",
       "    </tr>\n",
       "    <tr>\n",
       "      <th>4</th>\n",
       "      <td>군도</td>\n",
       "      <td>2957402</td>\n",
       "    </tr>\n",
       "  </tbody>\n",
       "</table>\n",
       "</div>"
      ],
      "text/plain": [
       "   도로등급   개통도(m)\n",
       "0  고속국도   505790\n",
       "1  일반국도  1517609\n",
       "2   지방도  2173064\n",
       "3    시도  3704643\n",
       "4    군도  2957402"
      ]
     },
     "execution_count": 4,
     "metadata": {},
     "output_type": "execute_result"
    }
   ],
   "source": [
    "pdf = road[['도로등급','개통도(m)']]\n",
    "pdf.head()"
   ]
  },
  {
   "cell_type": "code",
   "execution_count": 5,
   "id": "b45c4c88-3618-4562-8fd9-6067e550cabf",
   "metadata": {},
   "outputs": [
    {
     "data": {
      "text/html": [
       "<div>\n",
       "<style scoped>\n",
       "    .dataframe tbody tr th:only-of-type {\n",
       "        vertical-align: middle;\n",
       "    }\n",
       "\n",
       "    .dataframe tbody tr th {\n",
       "        vertical-align: top;\n",
       "    }\n",
       "\n",
       "    .dataframe thead th {\n",
       "        text-align: right;\n",
       "    }\n",
       "</style>\n",
       "<table border=\"1\" class=\"dataframe\">\n",
       "  <thead>\n",
       "    <tr style=\"text-align: right;\">\n",
       "      <th></th>\n",
       "      <th>개통도(m)</th>\n",
       "    </tr>\n",
       "    <tr>\n",
       "      <th>도로등급</th>\n",
       "      <th></th>\n",
       "    </tr>\n",
       "  </thead>\n",
       "  <tbody>\n",
       "    <tr>\n",
       "      <th>고속국도</th>\n",
       "      <td>1011580</td>\n",
       "    </tr>\n",
       "    <tr>\n",
       "      <th>군도</th>\n",
       "      <td>5914804</td>\n",
       "    </tr>\n",
       "    <tr>\n",
       "      <th>시도</th>\n",
       "      <td>7409286</td>\n",
       "    </tr>\n",
       "    <tr>\n",
       "      <th>일반국도</th>\n",
       "      <td>3035218</td>\n",
       "    </tr>\n",
       "    <tr>\n",
       "      <th>지방도</th>\n",
       "      <td>4346128</td>\n",
       "    </tr>\n",
       "  </tbody>\n",
       "</table>\n",
       "</div>"
      ],
      "text/plain": [
       "       개통도(m)\n",
       "도로등급         \n",
       "고속국도  1011580\n",
       "군도    5914804\n",
       "시도    7409286\n",
       "일반국도  3035218\n",
       "지방도   4346128"
      ]
     },
     "execution_count": 5,
     "metadata": {},
     "output_type": "execute_result"
    }
   ],
   "source": [
    "roadLenth = pdf.groupby('도로등급').sum()\n",
    "roadLenth"
   ]
  },
  {
   "cell_type": "code",
   "execution_count": 6,
   "id": "8dd56295-35cb-42de-9afb-ca1713a2b447",
   "metadata": {},
   "outputs": [
    {
     "data": {
      "text/html": [
       "<div>\n",
       "<style scoped>\n",
       "    .dataframe tbody tr th:only-of-type {\n",
       "        vertical-align: middle;\n",
       "    }\n",
       "\n",
       "    .dataframe tbody tr th {\n",
       "        vertical-align: top;\n",
       "    }\n",
       "\n",
       "    .dataframe thead th {\n",
       "        text-align: right;\n",
       "    }\n",
       "</style>\n",
       "<table border=\"1\" class=\"dataframe\">\n",
       "  <thead>\n",
       "    <tr style=\"text-align: right;\">\n",
       "      <th></th>\n",
       "      <th>도로등급</th>\n",
       "      <th>개통도(m)</th>\n",
       "    </tr>\n",
       "  </thead>\n",
       "  <tbody>\n",
       "    <tr>\n",
       "      <th>0</th>\n",
       "      <td>고속국도</td>\n",
       "      <td>1011580</td>\n",
       "    </tr>\n",
       "    <tr>\n",
       "      <th>1</th>\n",
       "      <td>군도</td>\n",
       "      <td>5914804</td>\n",
       "    </tr>\n",
       "    <tr>\n",
       "      <th>2</th>\n",
       "      <td>시도</td>\n",
       "      <td>7409286</td>\n",
       "    </tr>\n",
       "    <tr>\n",
       "      <th>3</th>\n",
       "      <td>일반국도</td>\n",
       "      <td>3035218</td>\n",
       "    </tr>\n",
       "    <tr>\n",
       "      <th>4</th>\n",
       "      <td>지방도</td>\n",
       "      <td>4346128</td>\n",
       "    </tr>\n",
       "  </tbody>\n",
       "</table>\n",
       "</div>"
      ],
      "text/plain": [
       "   도로등급   개통도(m)\n",
       "0  고속국도  1011580\n",
       "1    군도  5914804\n",
       "2    시도  7409286\n",
       "3  일반국도  3035218\n",
       "4   지방도  4346128"
      ]
     },
     "execution_count": 6,
     "metadata": {},
     "output_type": "execute_result"
    }
   ],
   "source": [
    "roadLenth = roadLenth.reset_index()\n",
    "roadLenth"
   ]
  },
  {
   "cell_type": "code",
   "execution_count": 7,
   "id": "3131f544-f302-4f97-9d3c-336f29bf96cb",
   "metadata": {},
   "outputs": [],
   "source": [
    "import matplotlib as mpl\n",
    "import matplotlib.pyplot as plt\n",
    "import matplotlib.font_manager as fm\n",
    "fm.fontManager.addfont('BinggraeII.ttf')\n",
    "mpl.rcParams[\"font.family\"] = 'Binggrae?'"
   ]
  },
  {
   "cell_type": "code",
   "execution_count": 8,
   "id": "f700af4f-6136-48b6-adf2-fe474962772a",
   "metadata": {},
   "outputs": [
    {
     "data": {
      "image/png": "[encoded data removed]",
      "text/plain": [
       "<Figure size 640x480 with 1 Axes>"
      ]
     },
     "metadata": {},
     "output_type": "display_data"
    }
   ],
   "source": [
    "# bar chart\n",
    "roadLenth.plot(x='도로등급', y='개통도(m)', kind='pie',title='도로 유형별 개통도 길이', xlabel='길이 [m]', legend=False, colormap=plt.cm.PiYG.reversed())\n",
    "plt.show()"
   ]
  },
  {
   "cell_type": "code",
   "execution_count": 9,
   "id": "9661b5ab-7323-4ce3-872e-fbbc86b54fe0",
   "metadata": {},
   "outputs": [],
   "source": [
    "roadLenth.set_index('도로등급', inplace=True)"
   ]
  },
  {
   "cell_type": "code",
   "execution_count": 10,
   "id": "03c5839e-6fe5-4e6e-bb83-2acb8e15e032",
   "metadata": {},
   "outputs": [
    {
     "data": {
      "image/png": "[encoded data removed]",
      "text/plain": [
       "<Figure size 640x480 with 1 Axes>"
      ]
     },
     "metadata": {},
     "output_type": "display_data"
    }
   ],
   "source": [
    "roadLenth.plot(x='도로등급', y='개통도(m)', kind='pie', title='도로 유형별 개통도 비율', autopct='%1.1f%%',colormap=plt.cm.Pastel1,shadow=True,legend=False)\n",
    "plt.show()"
   ]
  },
  {
   "cell_type": "code",
   "execution_count": 11,
   "id": "f3ea144f-dfbc-4d38-a54b-a45081a775ea",
   "metadata": {},
   "outputs": [
    {
     "data": {
      "text/html": [
       "<div>\n",
       "<style scoped>\n",
       "    .dataframe tbody tr th:only-of-type {\n",
       "        vertical-align: middle;\n",
       "    }\n",
       "\n",
       "    .dataframe tbody tr th {\n",
       "        vertical-align: top;\n",
       "    }\n",
       "\n",
       "    .dataframe thead th {\n",
       "        text-align: right;\n",
       "    }\n",
       "</style>\n",
       "<table border=\"1\" class=\"dataframe\">\n",
       "  <thead>\n",
       "    <tr style=\"text-align: right;\">\n",
       "      <th></th>\n",
       "      <th>개통도(m)</th>\n",
       "    </tr>\n",
       "    <tr>\n",
       "      <th>도로등급</th>\n",
       "      <th></th>\n",
       "    </tr>\n",
       "  </thead>\n",
       "  <tbody>\n",
       "    <tr>\n",
       "      <th>고속국도</th>\n",
       "      <td>1011580</td>\n",
       "    </tr>\n",
       "    <tr>\n",
       "      <th>일반국도</th>\n",
       "      <td>3035218</td>\n",
       "    </tr>\n",
       "    <tr>\n",
       "      <th>지방도</th>\n",
       "      <td>4346128</td>\n",
       "    </tr>\n",
       "  </tbody>\n",
       "</table>\n",
       "</div>"
      ],
      "text/plain": [
       "       개통도(m)\n",
       "도로등급         \n",
       "고속국도  1011580\n",
       "일반국도  3035218\n",
       "지방도   4346128"
      ]
     },
     "execution_count": 11,
     "metadata": {},
     "output_type": "execute_result"
    }
   ],
   "source": [
    "pRoadLen = roadLenth.iloc[[0,3,4],:]\n",
    "pRoadLen"
   ]
  },
  {
   "cell_type": "code",
   "execution_count": 12,
   "id": "c8c5fb8b-886d-434d-b88c-5f78c4a49e9c",
   "metadata": {},
   "outputs": [
    {
     "data": {
      "image/png": "[encoded data removed]",
      "text/plain": [
       "<Figure size 640x480 with 1 Axes>"
      ]
     },
     "metadata": {},
     "output_type": "display_data"
    }
   ],
   "source": [
    "pRoadLen.plot(x='도로등급', y='개통도(m)', kind='pie', title='도로 유형별 개통도 비율', autopct='%1.1f%%',colormap=plt.cm.Pastel1,shadow=True,legend=False)\n",
    "plt.show()"
   ]
  },
  {
   "cell_type": "code",
   "execution_count": null,
   "id": "8d61e4da-11cf-4a88-8893-afff0037e301",
   "metadata": {},
   "outputs": [],
   "source": []
  }
 ],
 "metadata": {
  "kernelspec": {
   "display_name": "Python 3 (ipykernel)",
   "language": "python",
   "name": "python3"
  },
  "language_info": {
   "codemirror_mode": {
    "name": "ipython",
    "version": 3
   },
   "file_extension": ".py",
   "mimetype": "text/x-python",
   "name": "python",
   "nbconvert_exporter": "python",
   "pygments_lexer": "ipython3",
   "version": "3.10.0"
  }
 },
 "nbformat": 4,
 "nbformat_minor": 5
}
