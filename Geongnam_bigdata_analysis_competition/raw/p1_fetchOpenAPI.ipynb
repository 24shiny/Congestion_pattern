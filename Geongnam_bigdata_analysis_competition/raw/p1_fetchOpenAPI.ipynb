{
 "cells": [
  {
   "cell_type": "code",
   "execution_count": 10,
   "id": "9e821226-8409-4652-8502-99a274e8144b",
   "metadata": {},
   "outputs": [
    {
     "name": "stdout",
     "output_type": "stream",
     "text": [
      "Collecting pandas\n",
      "  Downloading pandas-2.2.2-cp310-cp310-win_amd64.whl (11.6 MB)\n",
      "Requirement already satisfied: python-dateutil>=2.8.2 in c:\\users\\syj43\\appdata\\local\\programs\\python\\python310\\lib\\site-packages (from pandas) (2.9.0.post0)\n",
      "Collecting numpy>=1.22.4\n",
      "  Downloading numpy-2.0.0-cp310-cp310-win_amd64.whl (16.5 MB)\n",
      "Collecting pytz>=2020.1\n",
      "  Downloading pytz-2024.1-py2.py3-none-any.whl (505 kB)\n",
      "Collecting tzdata>=2022.7\n",
      "  Downloading tzdata-2024.1-py2.py3-none-any.whl (345 kB)\n",
      "Requirement already satisfied: six>=1.5 in c:\\users\\syj43\\appdata\\local\\programs\\python\\python310\\lib\\site-packages (from python-dateutil>=2.8.2->pandas) (1.16.0)\n",
      "Installing collected packages: tzdata, pytz, numpy, pandas\n",
      "Successfully installed numpy-2.0.0 pandas-2.2.2 pytz-2024.1 tzdata-2024.1\n"
     ]
    },
    {
     "name": "stderr",
     "output_type": "stream",
     "text": [
      "WARNING: You are using pip version 21.2.3; however, version 24.1 is available.\n",
      "You should consider upgrading via the 'C:\\Users\\syj43\\AppData\\Local\\Programs\\Python\\Python310\\python.exe -m pip install --upgrade pip' command.\n"
     ]
    }
   ],
   "source": [
    "! pip install pandas"
   ]
  },
  {
   "cell_type": "code",
   "execution_count": 12,
   "id": "1606d6d0-e260-4644-935a-14d68a7189a4",
   "metadata": {
    "editable": true,
    "slideshow": {
     "slide_type": ""
    },
    "tags": []
   },
   "outputs": [
    {
     "name": "stdout",
     "output_type": "stream",
     "text": [
      "Requirement already satisfied: requests in c:\\users\\syj43\\appdata\\local\\programs\\python\\python310\\lib\\site-packages (2.32.3)\n",
      "Requirement already satisfied: urllib3<3,>=1.21.1 in c:\\users\\syj43\\appdata\\local\\programs\\python\\python310\\lib\\site-packages (from requests) (2.2.2)\n",
      "Requirement already satisfied: idna<4,>=2.5 in c:\\users\\syj43\\appdata\\local\\programs\\python\\python310\\lib\\site-packages (from requests) (3.7)\n",
      "Requirement already satisfied: charset-normalizer<4,>=2 in c:\\users\\syj43\\appdata\\local\\programs\\python\\python310\\lib\\site-packages (from requests) (3.3.2)\n",
      "Requirement already satisfied: certifi>=2017.4.17 in c:\\users\\syj43\\appdata\\local\\programs\\python\\python310\\lib\\site-packages (from requests) (2024.6.2)\n"
     ]
    },
    {
     "name": "stderr",
     "output_type": "stream",
     "text": [
      "WARNING: You are using pip version 21.2.3; however, version 24.1 is available.\n",
      "You should consider upgrading via the 'C:\\Users\\syj43\\AppData\\Local\\Programs\\Python\\Python310\\python.exe -m pip install --upgrade pip' command.\n"
     ]
    }
   ],
   "source": [
    "!pip install requests"
   ]
  },
  {
   "cell_type": "code",
   "execution_count": 14,
   "id": "ac7a3146-1839-4e38-ac8e-819985e59ee7",
   "metadata": {
    "editable": true,
    "slideshow": {
     "slide_type": ""
    },
    "tags": []
   },
   "outputs": [],
   "source": [
    "import pandas as pd\n",
    "import requests\n",
    "import json"
   ]
  },
  {
   "cell_type": "code",
   "execution_count": 73,
   "id": "2296808f-81fd-427f-9f25-4062c38f23fa",
   "metadata": {
    "editable": true,
    "slideshow": {
     "slide_type": ""
    },
    "tags": []
   },
   "outputs": [],
   "source": [
    "# Define the parameters for the API request\n",
    "parameters = {\n",
    "    \"key\": \"***\",  # hide API key by using .gitignore\n",
    "    \"type\": \"json\",       \n",
    "    \"numOfRows\": 100,\n",
    "    \"pageNo\": 5 # data consist of five pages in total\n",
    "}\n",
    "\n",
    "url = \"https://data.ex.co.kr/openapi/basicinfo/unitList?\"\n",
    "\n",
    "# Send an HTTP GET request to the specified URL with the given parameters\n",
    "response = requests.get(url, params=parameters)\n",
    "\n",
    "# Print the HTTP status code (e.g., 200 for \"OK\", 404 for \"Not Found\")\n",
    "# print(response.status_code)\n",
    "# print(response.json())"
   ]
  },
  {
   "cell_type": "code",
   "execution_count": 74,
   "id": "a9aa0e0d-611b-4520-b38e-2ce7dadd321a",
   "metadata": {},
   "outputs": [
    {
     "data": {
      "text/plain": [
       "{'unitName': '동둔내',\n",
       " 'pageNo': None,\n",
       " 'numOfRows': None,\n",
       " 'unitCode': '734',\n",
       " 'exDivCode': '00',\n",
       " 'exDivName': '도공',\n",
       " 'openClType': '0',\n",
       " 'openClName': '폐쇄',\n",
       " 'tollListCode': None,\n",
       " 'tollYn': None}"
      ]
     },
     "execution_count": 74,
     "metadata": {},
     "output_type": "execute_result"
    }
   ],
   "source": [
    "response.json()['unitLists'][0]"
   ]
  },
  {
   "cell_type": "code",
   "execution_count": 75,
   "id": "1ba6186d-4599-409b-aaeb-e41d0a75eeb5",
   "metadata": {},
   "outputs": [],
   "source": [
    "# code = []\n",
    "# name = []\n",
    "\n",
    "for i in range(len(response.json()['unitLists'])):\n",
    "    name.append(response.json()['unitLists'][i]['unitName'])\n",
    "    code.append(response.json()['unitLists'][i]['unitCode'])"
   ]
  },
  {
   "cell_type": "code",
   "execution_count": 76,
   "id": "adfaf940-edf4-40a7-9289-60ca702058f1",
   "metadata": {
    "editable": true,
    "slideshow": {
     "slide_type": ""
    },
    "tags": []
   },
   "outputs": [
    {
     "data": {
      "text/html": [
       "<div>\n",
       "<style scoped>\n",
       "    .dataframe tbody tr th:only-of-type {\n",
       "        vertical-align: middle;\n",
       "    }\n",
       "\n",
       "    .dataframe tbody tr th {\n",
       "        vertical-align: top;\n",
       "    }\n",
       "\n",
       "    .dataframe thead th {\n",
       "        text-align: right;\n",
       "    }\n",
       "</style>\n",
       "<table border=\"1\" class=\"dataframe\">\n",
       "  <thead>\n",
       "    <tr style=\"text-align: right;\">\n",
       "      <th></th>\n",
       "      <th>code</th>\n",
       "      <th>name</th>\n",
       "    </tr>\n",
       "  </thead>\n",
       "  <tbody>\n",
       "    <tr>\n",
       "      <th>0</th>\n",
       "      <td>011</td>\n",
       "      <td>인천</td>\n",
       "    </tr>\n",
       "    <tr>\n",
       "      <th>1</th>\n",
       "      <td>012</td>\n",
       "      <td>서영암(개)</td>\n",
       "    </tr>\n",
       "    <tr>\n",
       "      <th>2</th>\n",
       "      <td>013</td>\n",
       "      <td>순천만</td>\n",
       "    </tr>\n",
       "    <tr>\n",
       "      <th>3</th>\n",
       "      <td>025</td>\n",
       "      <td>동부산</td>\n",
       "    </tr>\n",
       "    <tr>\n",
       "      <th>4</th>\n",
       "      <td>029</td>\n",
       "      <td>가락(개)</td>\n",
       "    </tr>\n",
       "    <tr>\n",
       "      <th>...</th>\n",
       "      <td>...</td>\n",
       "      <td>...</td>\n",
       "    </tr>\n",
       "    <tr>\n",
       "      <th>441</th>\n",
       "      <td>983</td>\n",
       "      <td>장흥</td>\n",
       "    </tr>\n",
       "    <tr>\n",
       "      <th>442</th>\n",
       "      <td>984</td>\n",
       "      <td>보성</td>\n",
       "    </tr>\n",
       "    <tr>\n",
       "      <th>443</th>\n",
       "      <td>985</td>\n",
       "      <td>벌교</td>\n",
       "    </tr>\n",
       "    <tr>\n",
       "      <th>444</th>\n",
       "      <td>986</td>\n",
       "      <td>고흥</td>\n",
       "    </tr>\n",
       "    <tr>\n",
       "      <th>445</th>\n",
       "      <td>987</td>\n",
       "      <td>남순천</td>\n",
       "    </tr>\n",
       "  </tbody>\n",
       "</table>\n",
       "<p>446 rows × 2 columns</p>\n",
       "</div>"
      ],
      "text/plain": [
       "    code    name\n",
       "0    011      인천\n",
       "1    012  서영암(개)\n",
       "2    013     순천만\n",
       "3    025     동부산\n",
       "4    029   가락(개)\n",
       "..   ...     ...\n",
       "441  983      장흥\n",
       "442  984      보성\n",
       "443  985      벌교\n",
       "444  986      고흥\n",
       "445  987     남순천\n",
       "\n",
       "[446 rows x 2 columns]"
      ]
     },
     "execution_count": 76,
     "metadata": {},
     "output_type": "execute_result"
    }
   ],
   "source": [
    "df = pd.DataFrame({'code':pd.Series(code), 'name':pd.Series(name)})\n",
    "df"
   ]
  },
  {
   "cell_type": "code",
   "execution_count": 78,
   "id": "e022dc8a-1e0b-4b65-b8c5-92a6d7496385",
   "metadata": {},
   "outputs": [],
   "source": [
    "# save df in the csv format\n",
    "df.to_csv('영업소코드.csv', index=False) "
   ]
  }
 ],
 "metadata": {
  "kernelspec": {
   "display_name": "Python 3 (ipykernel)",
   "language": "python",
   "name": "python3"
  },
  "language_info": {
   "codemirror_mode": {
    "name": "ipython",
    "version": 3
   },
   "file_extension": ".py",
   "mimetype": "text/x-python",
   "name": "python",
   "nbconvert_exporter": "python",
   "pygments_lexer": "ipython3",
   "version": "3.10.0"
  }
 },
 "nbformat": 4,
 "nbformat_minor": 5
}
