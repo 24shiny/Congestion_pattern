{
 "cells": [
  {
   "cell_type": "code",
   "execution_count": 84,
   "id": "05294a10-7d99-4e15-9a72-32f67d38095f",
   "metadata": {},
   "outputs": [
    {
     "name": "stdout",
     "output_type": "stream",
     "text": [
      "Requirement already satisfied: pandas in c:\\users\\syj43\\appdata\\local\\programs\\python\\python310\\lib\\site-packages (2.2.2)\n",
      "Collecting openpyxl\n",
      "  Downloading openpyxl-3.1.4-py2.py3-none-any.whl (251 kB)\n",
      "Requirement already satisfied: python-dateutil>=2.8.2 in c:\\users\\syj43\\appdata\\local\\programs\\python\\python310\\lib\\site-packages (from pandas) (2.9.0.post0)\n",
      "Requirement already satisfied: pytz>=2020.1 in c:\\users\\syj43\\appdata\\local\\programs\\python\\python310\\lib\\site-packages (from pandas) (2024.1)\n",
      "Requirement already satisfied: tzdata>=2022.7 in c:\\users\\syj43\\appdata\\local\\programs\\python\\python310\\lib\\site-packages (from pandas) (2024.1)\n",
      "Requirement already satisfied: numpy>=1.22.4 in c:\\users\\syj43\\appdata\\local\\programs\\python\\python310\\lib\\site-packages (from pandas) (2.0.0)\n",
      "Collecting et-xmlfile\n",
      "  Downloading et_xmlfile-1.1.0-py3-none-any.whl (4.7 kB)\n",
      "Requirement already satisfied: six>=1.5 in c:\\users\\syj43\\appdata\\local\\programs\\python\\python310\\lib\\site-packages (from python-dateutil>=2.8.2->pandas) (1.16.0)\n",
      "Installing collected packages: et-xmlfile, openpyxl\n",
      "Successfully installed et-xmlfile-1.1.0 openpyxl-3.1.4\n"
     ]
    },
    {
     "name": "stderr",
     "output_type": "stream",
     "text": [
      "WARNING: You are using pip version 21.2.3; however, version 24.1 is available.\n",
      "You should consider upgrading via the 'C:\\Users\\syj43\\AppData\\Local\\Programs\\Python\\Python310\\python.exe -m pip install --upgrade pip' command.\n"
     ]
    }
   ],
   "source": [
    "# install this module to rean a xlsx file\n",
    "!pip install pandas openpyxl"
   ]
  },
  {
   "cell_type": "code",
   "execution_count": 86,
   "id": "d82298a7-bfca-459f-9815-c22c52b774ab",
   "metadata": {
    "editable": true,
    "slideshow": {
     "slide_type": ""
    },
    "tags": []
   },
   "outputs": [
    {
     "data": {
      "text/html": [
       "<div>\n",
       "<style scoped>\n",
       "    .dataframe tbody tr th:only-of-type {\n",
       "        vertical-align: middle;\n",
       "    }\n",
       "\n",
       "    .dataframe tbody tr th {\n",
       "        vertical-align: top;\n",
       "    }\n",
       "\n",
       "    .dataframe thead th {\n",
       "        text-align: right;\n",
       "    }\n",
       "</style>\n",
       "<table border=\"1\" class=\"dataframe\">\n",
       "  <thead>\n",
       "    <tr style=\"text-align: right;\">\n",
       "      <th></th>\n",
       "      <th>집계일자</th>\n",
       "      <th>출발영업소코드</th>\n",
       "      <th>도착영업소코드</th>\n",
       "      <th>출발영업소명</th>\n",
       "      <th>도착영업소명</th>\n",
       "      <th>도착지방향1종교통량</th>\n",
       "      <th>도착지방향2종교통량</th>\n",
       "      <th>도착지방향3종교통량</th>\n",
       "      <th>도착지방향4종교통량</th>\n",
       "      <th>도착지방향5종교통량</th>\n",
       "      <th>도착지방향6종교통량</th>\n",
       "      <th>도착지방향총교통량</th>\n",
       "      <th>출발지방향1종교통량</th>\n",
       "      <th>출발지방향2종교통량</th>\n",
       "      <th>출발지방향3종교통량</th>\n",
       "      <th>출발지방향4종교통량</th>\n",
       "      <th>출발지방향5종교통량</th>\n",
       "      <th>출발지방향6종교통량</th>\n",
       "      <th>출발지방향총교통량</th>\n",
       "    </tr>\n",
       "  </thead>\n",
       "  <tbody>\n",
       "    <tr>\n",
       "      <th>0</th>\n",
       "      <td>2024-06-20</td>\n",
       "      <td>255</td>\n",
       "      <td>253</td>\n",
       "      <td>서안산</td>\n",
       "      <td>서서울</td>\n",
       "      <td>15546</td>\n",
       "      <td>510</td>\n",
       "      <td>517</td>\n",
       "      <td>465</td>\n",
       "      <td>290</td>\n",
       "      <td>925</td>\n",
       "      <td>18253</td>\n",
       "      <td>16124</td>\n",
       "      <td>548</td>\n",
       "      <td>627</td>\n",
       "      <td>536</td>\n",
       "      <td>365</td>\n",
       "      <td>916</td>\n",
       "      <td>19116</td>\n",
       "    </tr>\n",
       "    <tr>\n",
       "      <th>1</th>\n",
       "      <td>2024-06-20</td>\n",
       "      <td>103</td>\n",
       "      <td>101</td>\n",
       "      <td>수원신갈</td>\n",
       "      <td>서울</td>\n",
       "      <td>14340</td>\n",
       "      <td>576</td>\n",
       "      <td>1630</td>\n",
       "      <td>311</td>\n",
       "      <td>135</td>\n",
       "      <td>643</td>\n",
       "      <td>17635</td>\n",
       "      <td>15561</td>\n",
       "      <td>586</td>\n",
       "      <td>1621</td>\n",
       "      <td>366</td>\n",
       "      <td>201</td>\n",
       "      <td>747</td>\n",
       "      <td>19082</td>\n",
       "    </tr>\n",
       "    <tr>\n",
       "      <th>2</th>\n",
       "      <td>2024-06-20</td>\n",
       "      <td>253</td>\n",
       "      <td>255</td>\n",
       "      <td>서서울</td>\n",
       "      <td>서안산</td>\n",
       "      <td>16124</td>\n",
       "      <td>548</td>\n",
       "      <td>627</td>\n",
       "      <td>536</td>\n",
       "      <td>365</td>\n",
       "      <td>916</td>\n",
       "      <td>19116</td>\n",
       "      <td>15546</td>\n",
       "      <td>510</td>\n",
       "      <td>517</td>\n",
       "      <td>465</td>\n",
       "      <td>290</td>\n",
       "      <td>925</td>\n",
       "      <td>18253</td>\n",
       "    </tr>\n",
       "    <tr>\n",
       "      <th>3</th>\n",
       "      <td>2024-06-20</td>\n",
       "      <td>101</td>\n",
       "      <td>103</td>\n",
       "      <td>서울</td>\n",
       "      <td>수원신갈</td>\n",
       "      <td>15561</td>\n",
       "      <td>586</td>\n",
       "      <td>1621</td>\n",
       "      <td>366</td>\n",
       "      <td>201</td>\n",
       "      <td>747</td>\n",
       "      <td>19082</td>\n",
       "      <td>14340</td>\n",
       "      <td>576</td>\n",
       "      <td>1630</td>\n",
       "      <td>311</td>\n",
       "      <td>135</td>\n",
       "      <td>643</td>\n",
       "      <td>17635</td>\n",
       "    </tr>\n",
       "    <tr>\n",
       "      <th>4</th>\n",
       "      <td>2024-06-20</td>\n",
       "      <td>651</td>\n",
       "      <td>652</td>\n",
       "      <td>남양주</td>\n",
       "      <td>화도</td>\n",
       "      <td>13159</td>\n",
       "      <td>426</td>\n",
       "      <td>422</td>\n",
       "      <td>367</td>\n",
       "      <td>264</td>\n",
       "      <td>985</td>\n",
       "      <td>15623</td>\n",
       "      <td>14821</td>\n",
       "      <td>512</td>\n",
       "      <td>487</td>\n",
       "      <td>330</td>\n",
       "      <td>240</td>\n",
       "      <td>1115</td>\n",
       "      <td>17505</td>\n",
       "    </tr>\n",
       "  </tbody>\n",
       "</table>\n",
       "</div>"
      ],
      "text/plain": [
       "        집계일자  출발영업소코드  도착영업소코드 출발영업소명 도착영업소명  도착지방향1종교통량  도착지방향2종교통량  \\\n",
       "0 2024-06-20      255      253    서안산    서서울       15546         510   \n",
       "1 2024-06-20      103      101   수원신갈     서울       14340         576   \n",
       "2 2024-06-20      253      255    서서울    서안산       16124         548   \n",
       "3 2024-06-20      101      103     서울   수원신갈       15561         586   \n",
       "4 2024-06-20      651      652    남양주     화도       13159         426   \n",
       "\n",
       "   도착지방향3종교통량  도착지방향4종교통량  도착지방향5종교통량  도착지방향6종교통량  도착지방향총교통량  출발지방향1종교통량  \\\n",
       "0         517         465         290         925      18253       16124   \n",
       "1        1630         311         135         643      17635       15561   \n",
       "2         627         536         365         916      19116       15546   \n",
       "3        1621         366         201         747      19082       14340   \n",
       "4         422         367         264         985      15623       14821   \n",
       "\n",
       "   출발지방향2종교통량  출발지방향3종교통량  출발지방향4종교통량  출발지방향5종교통량  출발지방향6종교통량  출발지방향총교통량  \n",
       "0         548         627         536         365         916      19116  \n",
       "1         586        1621         366         201         747      19082  \n",
       "2         510         517         465         290         925      18253  \n",
       "3         576        1630         311         135         643      17635  \n",
       "4         512         487         330         240        1115      17505  "
      ]
     },
     "execution_count": 86,
     "metadata": {},
     "output_type": "execute_result"
    }
   ],
   "source": [
    "# read an xlsx file\n",
    "df2 = pd.read_excel('영업소간교통량240620.xlsx')\n",
    "df2.head()"
   ]
  },
  {
   "cell_type": "code",
   "execution_count": 89,
   "id": "8ca8dfd5-a67f-450c-9098-78f498544f73",
   "metadata": {
    "editable": true,
    "slideshow": {
     "slide_type": ""
    },
    "tags": []
   },
   "outputs": [
    {
     "data": {
      "text/html": [
       "<div>\n",
       "<style scoped>\n",
       "    .dataframe tbody tr th:only-of-type {\n",
       "        vertical-align: middle;\n",
       "    }\n",
       "\n",
       "    .dataframe tbody tr th {\n",
       "        vertical-align: top;\n",
       "    }\n",
       "\n",
       "    .dataframe thead th {\n",
       "        text-align: right;\n",
       "    }\n",
       "</style>\n",
       "<table border=\"1\" class=\"dataframe\">\n",
       "  <thead>\n",
       "    <tr style=\"text-align: right;\">\n",
       "      <th></th>\n",
       "      <th>출발영업소코드</th>\n",
       "      <th>도착영업소코드</th>\n",
       "      <th>출발영업소명</th>\n",
       "      <th>도착영업소명</th>\n",
       "      <th>도착지방향총교통량</th>\n",
       "      <th>출발지방향총교통량</th>\n",
       "    </tr>\n",
       "  </thead>\n",
       "  <tbody>\n",
       "    <tr>\n",
       "      <th>0</th>\n",
       "      <td>255</td>\n",
       "      <td>253</td>\n",
       "      <td>서안산</td>\n",
       "      <td>서서울</td>\n",
       "      <td>18253</td>\n",
       "      <td>19116</td>\n",
       "    </tr>\n",
       "    <tr>\n",
       "      <th>1</th>\n",
       "      <td>103</td>\n",
       "      <td>101</td>\n",
       "      <td>수원신갈</td>\n",
       "      <td>서울</td>\n",
       "      <td>17635</td>\n",
       "      <td>19082</td>\n",
       "    </tr>\n",
       "    <tr>\n",
       "      <th>2</th>\n",
       "      <td>253</td>\n",
       "      <td>255</td>\n",
       "      <td>서서울</td>\n",
       "      <td>서안산</td>\n",
       "      <td>19116</td>\n",
       "      <td>18253</td>\n",
       "    </tr>\n",
       "    <tr>\n",
       "      <th>3</th>\n",
       "      <td>101</td>\n",
       "      <td>103</td>\n",
       "      <td>서울</td>\n",
       "      <td>수원신갈</td>\n",
       "      <td>19082</td>\n",
       "      <td>17635</td>\n",
       "    </tr>\n",
       "    <tr>\n",
       "      <th>4</th>\n",
       "      <td>651</td>\n",
       "      <td>652</td>\n",
       "      <td>남양주</td>\n",
       "      <td>화도</td>\n",
       "      <td>15623</td>\n",
       "      <td>17505</td>\n",
       "    </tr>\n",
       "  </tbody>\n",
       "</table>\n",
       "</div>"
      ],
      "text/plain": [
       "   출발영업소코드  도착영업소코드 출발영업소명 도착영업소명  도착지방향총교통량  출발지방향총교통량\n",
       "0      255      253    서안산    서서울      18253      19116\n",
       "1      103      101   수원신갈     서울      17635      19082\n",
       "2      253      255    서서울    서안산      19116      18253\n",
       "3      101      103     서울   수원신갈      19082      17635\n",
       "4      651      652    남양주     화도      15623      17505"
      ]
     },
     "execution_count": 89,
     "metadata": {},
     "output_type": "execute_result"
    }
   ],
   "source": [
    "# create a new df from subset of the columns\n",
    "df2_reduced = df2[['출발영업소코드','도착영업소코드','출발영업소명','도착영업소명','도착지방향총교통량','출발지방향총교통량']]\n",
    "df2_reduced.head()"
   ]
  },
  {
   "cell_type": "code",
   "execution_count": 155,
   "id": "a348906a-e9ed-4871-af00-b3e9b52d5d58",
   "metadata": {
    "editable": true,
    "slideshow": {
     "slide_type": ""
    },
    "tags": []
   },
   "outputs": [
    {
     "name": "stdout",
     "output_type": "stream",
     "text": [
      "      출발영업소코드  도착영업소코드 출발영업소명 도착영업소명  도착지방향총교통량  출발지방향총교통량\n",
      "5603      243      241    해인사    동고령         97         85\n"
     ]
    }
   ],
   "source": [
    "startCode = 243\n",
    "destCode = 241\n",
    "bMask1 = (df2_reduced['출발영업소코드']==startCode) & (df2_reduced['도착영업소코드']==destCode)\n",
    "# bMask2 = (df2_reduced['출발영업소코드']==destCode) & (df2_reduced['도착영업소코드']==startCode)\n",
    "print(df2_reduced[bMask1])\n",
    "# print(df2_reduced[bMask2])"
   ]
  },
  {
   "cell_type": "code",
   "execution_count": 145,
   "id": "31226a4a-04ba-49a2-a09a-0b6e3ea07f06",
   "metadata": {
    "editable": true,
    "slideshow": {
     "slide_type": ""
    },
    "tags": []
   },
   "outputs": [
    {
     "name": "stdout",
     "output_type": "stream",
     "text": [
      "        출발영업소코드  도착영업소코드 출발영업소명 도착영업소명  도착지방향총교통량  출발지방향총교통량\n",
      "254         239      238     칠원     칠서       2309       2404\n",
      "264         238      239     칠서     칠원       2404       2309\n",
      "503         239      519     칠원    남대구       1363       1396\n",
      "514         519      239    남대구     칠원       1396       1363\n",
      "720         239      237     칠원     남지        966        991\n",
      "...         ...      ...    ...    ...        ...        ...\n",
      "186365      593      239     부여     칠원          7          0\n",
      "186711      594      239     청양     칠원          1          0\n",
      "187331      596      239    가락2     칠원          0          0\n",
      "188149      599      239     양촌     칠원          0          0\n",
      "188997      603      239     정안     칠원          4          0\n",
      "\n",
      "[869 rows x 6 columns]\n"
     ]
    }
   ],
   "source": [
    "code = 239\n",
    "bMask3 = (df2_reduced['출발영업소코드']==code) | (df2_reduced['도착영업소코드']==code)\n",
    "print(df2_reduced[bMask3])"
   ]
  }
 ],
 "metadata": {
  "kernelspec": {
   "display_name": "Python 3 (ipykernel)",
   "language": "python",
   "name": "python3"
  },
  "language_info": {
   "codemirror_mode": {
    "name": "ipython",
    "version": 3
   },
   "file_extension": ".py",
   "mimetype": "text/x-python",
   "name": "python",
   "nbconvert_exporter": "python",
   "pygments_lexer": "ipython3",
   "version": "3.10.0"
  }
 },
 "nbformat": 4,
 "nbformat_minor": 5
}
