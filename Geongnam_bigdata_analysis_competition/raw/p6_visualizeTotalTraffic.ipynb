{
 "cells": [
  {
   "cell_type": "code",
   "execution_count": 5,
   "id": "410338bc-ee5f-49cc-b64e-203cb2ea56a8",
   "metadata": {
    "editable": true,
    "slideshow": {
     "slide_type": ""
    },
    "tags": []
   },
   "outputs": [
    {
     "name": "stdout",
     "output_type": "stream",
     "text": [
      "Index(['Unnamed: 0', '경기도', '함양군', '충청남도', '충청북도', '대전광역시', '경상북도', '대구광역시',\n",
      "       '울산광역시', '양산시', '부산광역시', '함안군', '창원시', '김해시', '전라북도', '전라남도', '강원도',\n",
      "       '산청군', '진주시', '창녕군', '합천군', '광주광역시', '거창군', '하동군', '사천시', '고성군', '통영시',\n",
      "       '세종특별자치시', '밀양시'],\n",
      "      dtype='object')\n"
     ]
    }
   ],
   "source": [
    "import pandas as pd\n",
    "adjMatrix = pd.read_csv('adjMatrix.csv', encoding='utf-8')\n",
    "print(adjMatrix.columns)"
   ]
  },
  {
   "cell_type": "code",
   "execution_count": 6,
   "id": "724e6cf2-4d1b-4d9b-a117-93b0c043bd91",
   "metadata": {
    "editable": true,
    "slideshow": {
     "slide_type": ""
    },
    "tags": []
   },
   "outputs": [
    {
     "data": {
      "text/html": [
       "<div>\n",
       "<style scoped>\n",
       "    .dataframe tbody tr th:only-of-type {\n",
       "        vertical-align: middle;\n",
       "    }\n",
       "\n",
       "    .dataframe tbody tr th {\n",
       "        vertical-align: top;\n",
       "    }\n",
       "\n",
       "    .dataframe thead th {\n",
       "        text-align: right;\n",
       "    }\n",
       "</style>\n",
       "<table border=\"1\" class=\"dataframe\">\n",
       "  <thead>\n",
       "    <tr style=\"text-align: right;\">\n",
       "      <th></th>\n",
       "      <th>경기도</th>\n",
       "      <th>함양군</th>\n",
       "      <th>충청남도</th>\n",
       "      <th>충청북도</th>\n",
       "      <th>대전광역시</th>\n",
       "      <th>경상북도</th>\n",
       "      <th>대구광역시</th>\n",
       "      <th>울산광역시</th>\n",
       "      <th>양산시</th>\n",
       "      <th>부산광역시</th>\n",
       "      <th>...</th>\n",
       "      <th>창녕군</th>\n",
       "      <th>합천군</th>\n",
       "      <th>광주광역시</th>\n",
       "      <th>거창군</th>\n",
       "      <th>하동군</th>\n",
       "      <th>사천시</th>\n",
       "      <th>고성군</th>\n",
       "      <th>통영시</th>\n",
       "      <th>세종특별자치시</th>\n",
       "      <th>밀양시</th>\n",
       "    </tr>\n",
       "    <tr>\n",
       "      <th>지명</th>\n",
       "      <th></th>\n",
       "      <th></th>\n",
       "      <th></th>\n",
       "      <th></th>\n",
       "      <th></th>\n",
       "      <th></th>\n",
       "      <th></th>\n",
       "      <th></th>\n",
       "      <th></th>\n",
       "      <th></th>\n",
       "      <th></th>\n",
       "      <th></th>\n",
       "      <th></th>\n",
       "      <th></th>\n",
       "      <th></th>\n",
       "      <th></th>\n",
       "      <th></th>\n",
       "      <th></th>\n",
       "      <th></th>\n",
       "      <th></th>\n",
       "      <th></th>\n",
       "    </tr>\n",
       "  </thead>\n",
       "  <tbody>\n",
       "    <tr>\n",
       "      <th>경기도</th>\n",
       "      <td>0.00</td>\n",
       "      <td>461.50</td>\n",
       "      <td>0.00</td>\n",
       "      <td>0.00</td>\n",
       "      <td>0.0</td>\n",
       "      <td>0.00</td>\n",
       "      <td>0.0</td>\n",
       "      <td>0.00</td>\n",
       "      <td>58.75</td>\n",
       "      <td>0.0</td>\n",
       "      <td>...</td>\n",
       "      <td>479.25</td>\n",
       "      <td>18.75</td>\n",
       "      <td>0.0</td>\n",
       "      <td>101.25</td>\n",
       "      <td>74.5</td>\n",
       "      <td>420.00</td>\n",
       "      <td>155.00</td>\n",
       "      <td>841.75</td>\n",
       "      <td>0.0</td>\n",
       "      <td>10.25</td>\n",
       "    </tr>\n",
       "    <tr>\n",
       "      <th>함양군</th>\n",
       "      <td>419.75</td>\n",
       "      <td>595.75</td>\n",
       "      <td>195.75</td>\n",
       "      <td>91.75</td>\n",
       "      <td>254.5</td>\n",
       "      <td>178.25</td>\n",
       "      <td>329.0</td>\n",
       "      <td>22.75</td>\n",
       "      <td>13.75</td>\n",
       "      <td>117.0</td>\n",
       "      <td>...</td>\n",
       "      <td>20.00</td>\n",
       "      <td>16.50</td>\n",
       "      <td>143.0</td>\n",
       "      <td>272.75</td>\n",
       "      <td>23.0</td>\n",
       "      <td>118.75</td>\n",
       "      <td>28.00</td>\n",
       "      <td>92.00</td>\n",
       "      <td>27.5</td>\n",
       "      <td>0.00</td>\n",
       "    </tr>\n",
       "    <tr>\n",
       "      <th>충청남도</th>\n",
       "      <td>0.00</td>\n",
       "      <td>176.25</td>\n",
       "      <td>0.00</td>\n",
       "      <td>0.00</td>\n",
       "      <td>0.0</td>\n",
       "      <td>0.00</td>\n",
       "      <td>0.0</td>\n",
       "      <td>0.00</td>\n",
       "      <td>27.75</td>\n",
       "      <td>0.0</td>\n",
       "      <td>...</td>\n",
       "      <td>116.25</td>\n",
       "      <td>3.50</td>\n",
       "      <td>0.0</td>\n",
       "      <td>36.50</td>\n",
       "      <td>139.0</td>\n",
       "      <td>160.50</td>\n",
       "      <td>49.00</td>\n",
       "      <td>292.00</td>\n",
       "      <td>0.0</td>\n",
       "      <td>1.75</td>\n",
       "    </tr>\n",
       "    <tr>\n",
       "      <th>충청북도</th>\n",
       "      <td>0.00</td>\n",
       "      <td>102.50</td>\n",
       "      <td>0.00</td>\n",
       "      <td>0.00</td>\n",
       "      <td>0.0</td>\n",
       "      <td>0.00</td>\n",
       "      <td>0.0</td>\n",
       "      <td>0.00</td>\n",
       "      <td>15.75</td>\n",
       "      <td>0.0</td>\n",
       "      <td>...</td>\n",
       "      <td>188.75</td>\n",
       "      <td>11.25</td>\n",
       "      <td>0.0</td>\n",
       "      <td>36.25</td>\n",
       "      <td>54.0</td>\n",
       "      <td>122.00</td>\n",
       "      <td>35.75</td>\n",
       "      <td>190.25</td>\n",
       "      <td>0.0</td>\n",
       "      <td>0.50</td>\n",
       "    </tr>\n",
       "    <tr>\n",
       "      <th>대전광역시</th>\n",
       "      <td>0.00</td>\n",
       "      <td>233.25</td>\n",
       "      <td>0.00</td>\n",
       "      <td>0.00</td>\n",
       "      <td>0.0</td>\n",
       "      <td>0.00</td>\n",
       "      <td>0.0</td>\n",
       "      <td>0.00</td>\n",
       "      <td>14.75</td>\n",
       "      <td>0.0</td>\n",
       "      <td>...</td>\n",
       "      <td>82.00</td>\n",
       "      <td>3.25</td>\n",
       "      <td>0.0</td>\n",
       "      <td>35.25</td>\n",
       "      <td>55.0</td>\n",
       "      <td>216.00</td>\n",
       "      <td>60.75</td>\n",
       "      <td>354.25</td>\n",
       "      <td>0.0</td>\n",
       "      <td>0.25</td>\n",
       "    </tr>\n",
       "  </tbody>\n",
       "</table>\n",
       "<p>5 rows × 28 columns</p>\n",
       "</div>"
      ],
      "text/plain": [
       "          경기도     함양군    충청남도   충청북도  대전광역시    경상북도  대구광역시  울산광역시    양산시  \\\n",
       "지명                                                                         \n",
       "경기도      0.00  461.50    0.00   0.00    0.0    0.00    0.0   0.00  58.75   \n",
       "함양군    419.75  595.75  195.75  91.75  254.5  178.25  329.0  22.75  13.75   \n",
       "충청남도     0.00  176.25    0.00   0.00    0.0    0.00    0.0   0.00  27.75   \n",
       "충청북도     0.00  102.50    0.00   0.00    0.0    0.00    0.0   0.00  15.75   \n",
       "대전광역시    0.00  233.25    0.00   0.00    0.0    0.00    0.0   0.00  14.75   \n",
       "\n",
       "       부산광역시  ...     창녕군    합천군  광주광역시     거창군    하동군     사천시     고성군  \\\n",
       "지명            ...                                                        \n",
       "경기도      0.0  ...  479.25  18.75    0.0  101.25   74.5  420.00  155.00   \n",
       "함양군    117.0  ...   20.00  16.50  143.0  272.75   23.0  118.75   28.00   \n",
       "충청남도     0.0  ...  116.25   3.50    0.0   36.50  139.0  160.50   49.00   \n",
       "충청북도     0.0  ...  188.75  11.25    0.0   36.25   54.0  122.00   35.75   \n",
       "대전광역시    0.0  ...   82.00   3.25    0.0   35.25   55.0  216.00   60.75   \n",
       "\n",
       "          통영시  세종특별자치시    밀양시  \n",
       "지명                             \n",
       "경기도    841.75      0.0  10.25  \n",
       "함양군     92.00     27.5   0.00  \n",
       "충청남도   292.00      0.0   1.75  \n",
       "충청북도   190.25      0.0   0.50  \n",
       "대전광역시  354.25      0.0   0.25  \n",
       "\n",
       "[5 rows x 28 columns]"
      ]
     },
     "execution_count": 6,
     "metadata": {},
     "output_type": "execute_result"
    }
   ],
   "source": [
    "# restore its format\n",
    "adjMatrix = adjMatrix.rename(columns={'Unnamed: 0':'지명'})\n",
    "adjMatrix = adjMatrix.set_index('지명')\n",
    "adjMatrix.head()"
   ]
  },
  {
   "cell_type": "code",
   "execution_count": 7,
   "id": "c12decfd-c7df-4e86-94d3-304a9583b55c",
   "metadata": {
    "editable": true,
    "slideshow": {
     "slide_type": ""
    },
    "tags": []
   },
   "outputs": [
    {
     "name": "stdout",
     "output_type": "stream",
     "text": [
      "<class 'pandas.core.series.Series'>\n"
     ]
    },
    {
     "data": {
      "text/plain": [
       "지명\n",
       "경기도          6976.75\n",
       "함양군          5001.25\n",
       "충청남도         2424.50\n",
       "충청북도         2122.50\n",
       "대전광역시        2232.25\n",
       "경상북도        17309.25\n",
       "대구광역시       30477.50\n",
       "울산광역시       22032.25\n",
       "양산시         58086.00\n",
       "부산광역시       83339.75\n",
       "함안군         55858.00\n",
       "창원시         36911.50\n",
       "김해시        204033.25\n",
       "전라북도         5143.75\n",
       "전라남도        10665.00\n",
       "강원도           253.00\n",
       "산청군          5538.00\n",
       "진주시         31413.50\n",
       "창녕군          8540.25\n",
       "합천군          2798.75\n",
       "광주광역시        2102.75\n",
       "거창군          7223.75\n",
       "하동군          9267.25\n",
       "사천시         18993.00\n",
       "고성군         12907.75\n",
       "통영시         15509.25\n",
       "세종특별자치시       379.25\n",
       "밀양시         34645.25\n",
       "dtype: float64"
      ]
     },
     "execution_count": 7,
     "metadata": {},
     "output_type": "execute_result"
    }
   ],
   "source": [
    "# total traffic in each region will be set to the size of nodes\n",
    "totalTraff = adjMatrix.sum(axis='columns')\n",
    "print(type(totalTraff))\n",
    "totalTraff"
   ]
  },
  {
   "cell_type": "code",
   "execution_count": 8,
   "id": "604d6c42-1379-44dc-a19b-a635ebe1efb2",
   "metadata": {
    "editable": true,
    "slideshow": {
     "slide_type": ""
    },
    "tags": []
   },
   "outputs": [
    {
     "data": {
      "image/png": "[encoded data removed]",
      "text/plain": [
       "<Figure size 500x500 with 1 Axes>"
      ]
     },
     "metadata": {},
     "output_type": "display_data"
    }
   ],
   "source": [
    "import seaborn as sns\n",
    "import matplotlib.pyplot as plt\n",
    "import numpy as np\n",
    "sns.displot(np.log(totalTraff.values.flatten())) \n",
    "plt.xlabel('logOfTotalTraffic')\n",
    "plt.ylabel('count')\n",
    "plt.title('Distribution of Total Traffic')\n",
    "plt.show() # ~ normalized"
   ]
  },
  {
   "cell_type": "code",
   "execution_count": 9,
   "id": "51546d00-2a4a-48c7-8767-d1239674ce2c",
   "metadata": {
    "editable": true,
    "slideshow": {
     "slide_type": ""
    },
    "tags": []
   },
   "outputs": [],
   "source": [
    "# split it into 경상남도 and the others\n",
    "# prepare lists of their names\n",
    "gyeongnam = ['거창군', '고성군', '사천시', '김해시', '함안군', '밀양시', '양산시', '창녕군', '산청군',\n",
    "       '창원시', '진주시', '통영시', '함양군', '하동군', '합천군']\n",
    "others = ['부산광역시', '경상북도', '충청북도', '강원도', '전라남도', '경기도', '충청남도', '전라북도',\n",
    "       '광주광역시', '대구광역시', '대전광역시', '세종특별자치시', '울산광역시']"
   ]
  },
  {
   "cell_type": "code",
   "execution_count": 10,
   "id": "4d5a5e76-3f92-42a4-8498-3a7aef49c3f8",
   "metadata": {},
   "outputs": [
    {
     "data": {
      "text/plain": [
       "지명\n",
       "거창군      7223.75\n",
       "고성군     12907.75\n",
       "사천시     18993.00\n",
       "김해시    204033.25\n",
       "함안군     55858.00\n",
       "밀양시     34645.25\n",
       "양산시     58086.00\n",
       "창녕군      8540.25\n",
       "산청군      5538.00\n",
       "창원시     36911.50\n",
       "진주시     31413.50\n",
       "통영시     15509.25\n",
       "함양군      5001.25\n",
       "하동군      9267.25\n",
       "합천군      2798.75\n",
       "dtype: float64"
      ]
     },
     "execution_count": 10,
     "metadata": {},
     "output_type": "execute_result"
    }
   ],
   "source": [
    "# and split the totalTraff series into two\n",
    "gyeongnamTraff = totalTraff[gyeongnam]\n",
    "othersTraff = totalTraff[others]\n",
    "gyeongnamTraff"
   ]
  },
  {
   "cell_type": "code",
   "execution_count": 11,
   "id": "8915024c-641a-42d4-97ba-2f790cd37fc6",
   "metadata": {
    "editable": true,
    "slideshow": {
     "slide_type": ""
    },
    "tags": []
   },
   "outputs": [
    {
     "name": "stdout",
     "output_type": "stream",
     "text": [
      "gyeongnam traffic sorted :\n",
      " [  2798.75   5001.25   5538.     7223.75   8540.25   9267.25  12907.75\n",
      "  15509.25  18993.    31413.5   34645.25  36911.5   55858.    58086.\n",
      " 204033.25]\n",
      "others traffic sorted :\n",
      " [  253.     379.25  2102.75  2122.5   2232.25  2424.5   5143.75  6976.75\n",
      " 10665.   17309.25 22032.25 30477.5  83339.75]\n"
     ]
    }
   ],
   "source": [
    "# sort two series by values in the ascending order\n",
    "gTraffSorted = gyeongnamTraff.sort_values(ascending=True)\n",
    "gTraffSortedV = gTraffSorted.values.flatten()\n",
    "print('gyeongnam traffic sorted :\\n',gTraffSortedV)\n",
    "\n",
    "oTraffSorted = othersTraff.sort_values(ascending=True)\n",
    "oTraffSortedV = oTraffSorted.values.flatten()\n",
    "print('others traffic sorted :\\n',oTraffSortedV)"
   ]
  },
  {
   "cell_type": "code",
   "execution_count": 12,
   "id": "283d36ae-b35a-491a-ad38-7378827a78fa",
   "metadata": {
    "editable": true,
    "slideshow": {
     "slide_type": ""
    },
    "tags": []
   },
   "outputs": [
    {
     "data": {
      "image/png": "[encoded data removed]",
      "text/plain": [
       "<Figure size 3000x400 with 1 Axes>"
      ]
     },
     "metadata": {},
     "output_type": "display_data"
    }
   ],
   "source": [
    "import networkx as nx\n",
    "\n",
    "G = nx.Graph()\n",
    "# group elements\n",
    "upper_nodes = gTraffSorted.index\n",
    "bottom_nodes = oTraffSorted.index\n",
    "# add nodes\n",
    "G.add_nodes_from(upper_nodes)\n",
    "G.add_nodes_from(bottom_nodes)\n",
    "# set their poisition\n",
    "pos = {val: (idx*2, 0) for idx, val in enumerate(upper_nodes)}\n",
    "pos.update({val: (idx*2, 1.5) for idx, val in enumerate(bottom_nodes)})\n",
    "\n",
    "sizeList = np.concatenate([gTraffSorted.values, oTraffSorted.values])\n",
    "\n",
    "plt.figure(figsize=(30,4))\n",
    "plt.margins(0.5,1)\n",
    "nx.draw(G, with_labels=True, pos=pos, node_size=sizeList/10 ,font_family='Batang', node_color='skyblue', font_size=10)\n",
    "plt.savefig('nodesWithSize.png')"
   ]
  },
  {
   "cell_type": "code",
   "execution_count": 13,
   "id": "30557355-32b8-4e92-8608-232d464f7fb3",
   "metadata": {},
   "outputs": [],
   "source": [
    "# store 경상남도 data for later use\n",
    "gTraffSorted.to_csv('gTraffSorted.csv', index=True)"
   ]
  },
  {
   "cell_type": "code",
   "execution_count": 14,
   "id": "560d43a6-c86d-4b15-b82e-1f1fa1768823",
   "metadata": {},
   "outputs": [],
   "source": [
    "oTraffSorted.to_csv('oTraffSorted.csv', index=True)"
   ]
  },
  {
   "cell_type": "code",
   "execution_count": null,
   "id": "ad120fd9-e1b2-47cd-bd3b-22ba3d371cc0",
   "metadata": {
    "editable": true,
    "slideshow": {
     "slide_type": ""
    },
    "tags": []
   },
   "outputs": [],
   "source": [
    "# end of the code"
   ]
  }
 ],
 "metadata": {
  "kernelspec": {
   "display_name": "Python 3 (ipykernel)",
   "language": "python",
   "name": "python3"
  },
  "language_info": {
   "codemirror_mode": {
    "name": "ipython",
    "version": 3
   },
   "file_extension": ".py",
   "mimetype": "text/x-python",
   "name": "python",
   "nbconvert_exporter": "python",
   "pygments_lexer": "ipython3",
   "version": "3.10.0"
  }
 },
 "nbformat": 4,
 "nbformat_minor": 5
}
