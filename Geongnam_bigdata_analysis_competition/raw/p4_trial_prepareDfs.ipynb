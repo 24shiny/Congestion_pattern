{
 "cells": [
  {
   "cell_type": "code",
   "execution_count": 32,
   "id": "2ef00d4c-d428-453e-915b-eec337161e74",
   "metadata": {
    "editable": true,
    "scrolled": true,
    "slideshow": {
     "slide_type": ""
    },
    "tags": []
   },
   "outputs": [
    {
     "name": "stdout",
     "output_type": "stream",
     "text": [
      "fdf :\n",
      "    출발영업소코드  도착영업소코드 출발영업소명 도착영업소명   도착지방향평균   출발지방향평균\n",
      "0      101      101     서울     서울     61.75     61.75\n",
      "1      101      102     서울    동수원   3706.75   5166.50\n",
      "2      101      103     서울   수원신갈  16726.50  16281.25\n",
      "3      101      104     서울     지곡     17.75     15.00\n",
      "4      101      105     서울     기흥   9217.75   9065.50\n"
     ]
    }
   ],
   "source": [
    "import pandas as pd\n",
    "\n",
    "# import fdf from the previous work 'avgFourDays_3'\n",
    "fdf = pd.read_csv('fdf.csv')\n",
    "print(\"fdf :\\n\", fdf.head())"
   ]
  },
  {
   "cell_type": "code",
   "execution_count": 33,
   "id": "b100fb1d-70f3-4fa2-9f8c-6b74808fed21",
   "metadata": {
    "editable": true,
    "slideshow": {
     "slide_type": ""
    },
    "tags": []
   },
   "outputs": [
    {
     "name": "stdout",
     "output_type": "stream",
     "text": [
      "sdf :\n",
      "    노선명  영업소명          전화번호                팩스번호  우편번호\\n(5자리)  \\\n",
      "0  경부선    오산  031-327-2128        031-894-4128      18150.0   \n",
      "1  경부선    기흥  031-327-2126        031-894-4126      17086.0   \n",
      "2  경부선  기흥동탄  031-327-2127        031-894-4127      17102.0   \n",
      "3  경부선  수원신갈  031-327-2125  031-894-4125(4159)      17096.0   \n",
      "4  경부선    서울  031-327-2124        031-894-4124      13550.0   \n",
      "\n",
      "                               주소  \n",
      "0             경기도 오산시 원동로 105(원동)  \n",
      "1           경기도 용인시 기흥구 고매동 519-1  \n",
      "2  경기도 용인시 기흥구 경부고속도로 387번지 (고매동)  \n",
      "3       경기도 용인시 기흥구 하갈로 240 (상갈동)  \n",
      "4     경기도 성남시 분당구 대왕판교로 240 (궁내동)  \n"
     ]
    }
   ],
   "source": [
    "# sdf stands for station dataFrame\n",
    "sdf = pd.read_excel('노선별영업소현황.xlsx')\n",
    "print(\"sdf :\\n\", sdf.head())"
   ]
  },
  {
   "cell_type": "code",
   "execution_count": 35,
   "id": "5afdebf2-f95e-4887-a9a7-00550f2622b4",
   "metadata": {
    "editable": true,
    "slideshow": {
     "slide_type": ""
    },
    "tags": []
   },
   "outputs": [
    {
     "name": "stdout",
     "output_type": "stream",
     "text": [
      "경기도 오산시 원동로 105(원동)\n",
      "['경기도', '오산시', '원동로', '105(원동)']\n",
      "경기도\n",
      "오산시\n"
     ]
    }
   ],
   "source": [
    "# feature engineering on sdf['주소'] before it is joined with fdf\n",
    "# with the use of .split() method. The followings are examples :\n",
    "print(sdf['주소'][0])\n",
    "print(sdf['주소'][0].split())\n",
    "print(sdf['주소'][0].split()[0])\n",
    "print(sdf['주소'][0].split()[1])"
   ]
  },
  {
   "cell_type": "code",
   "execution_count": 41,
   "id": "435a5736-2141-4683-ac42-04414dfb7d2f",
   "metadata": {
    "editable": true,
    "slideshow": {
     "slide_type": ""
    },
    "tags": []
   },
   "outputs": [],
   "source": [
    "# 세부주소1 refers to province, while 세부주소2 does to province or municipality\n",
    "# the latter depends on whether a region concerns 경상남도\n",
    "sdf['세부주소1'] = sdf['주소'].apply(lambda x: x.split()[0]) \n",
    "sdf['세부주소2'] = sdf['주소'].apply(lambda x: x.split()[0] if x.split()[0]!='경상남도' else x.split()[1])"
   ]
  },
  {
   "cell_type": "code",
   "execution_count": 42,
   "id": "8488133a-4f8b-4043-b4d3-76a839ac175e",
   "metadata": {},
   "outputs": [
    {
     "data": {
      "text/html": [
       "<div>\n",
       "<style scoped>\n",
       "    .dataframe tbody tr th:only-of-type {\n",
       "        vertical-align: middle;\n",
       "    }\n",
       "\n",
       "    .dataframe tbody tr th {\n",
       "        vertical-align: top;\n",
       "    }\n",
       "\n",
       "    .dataframe thead th {\n",
       "        text-align: right;\n",
       "    }\n",
       "</style>\n",
       "<table border=\"1\" class=\"dataframe\">\n",
       "  <thead>\n",
       "    <tr style=\"text-align: right;\">\n",
       "      <th></th>\n",
       "      <th>노선명</th>\n",
       "      <th>영업소명</th>\n",
       "      <th>전화번호</th>\n",
       "      <th>팩스번호</th>\n",
       "      <th>우편번호\\n(5자리)</th>\n",
       "      <th>주소</th>\n",
       "      <th>세부주소1</th>\n",
       "      <th>세부주소2</th>\n",
       "    </tr>\n",
       "  </thead>\n",
       "  <tbody>\n",
       "    <tr>\n",
       "      <th>122</th>\n",
       "      <td>대구외곽순환선</td>\n",
       "      <td>북다사</td>\n",
       "      <td>053-717-2786</td>\n",
       "      <td>053-715-4786</td>\n",
       "      <td>42907.0</td>\n",
       "      <td>대구광역시 달성군 다사읍 다사로 320</td>\n",
       "      <td>대구광역시</td>\n",
       "      <td>대구광역시</td>\n",
       "    </tr>\n",
       "    <tr>\n",
       "      <th>142</th>\n",
       "      <td>동해선</td>\n",
       "      <td>양양</td>\n",
       "      <td>033-812-2228</td>\n",
       "      <td>033-810-4228</td>\n",
       "      <td>25035.0</td>\n",
       "      <td>강원도 양양군 곰밭길 175-32</td>\n",
       "      <td>강원도</td>\n",
       "      <td>강원도</td>\n",
       "    </tr>\n",
       "  </tbody>\n",
       "</table>\n",
       "</div>"
      ],
      "text/plain": [
       "         노선명 영업소명          전화번호          팩스번호  우편번호\\n(5자리)  \\\n",
       "122  대구외곽순환선  북다사  053-717-2786  053-715-4786      42907.0   \n",
       "142      동해선   양양  033-812-2228  033-810-4228      25035.0   \n",
       "\n",
       "                        주소  세부주소1  세부주소2  \n",
       "122  대구광역시 달성군 다사읍 다사로 320  대구광역시  대구광역시  \n",
       "142     강원도 양양군 곰밭길 175-32    강원도    강원도  "
      ]
     },
     "execution_count": 42,
     "metadata": {},
     "output_type": "execute_result"
    }
   ],
   "source": [
    "# check the following two cells out :\n",
    "# as for stations outside 경상남도, both detailed addresses have the same value refering to province\n",
    "# for example,\n",
    "bMask = (sdf['영업소명']=='북다사') | (sdf['영업소명']=='양양')\n",
    "sdf[bMask]"
   ]
  },
  {
   "cell_type": "code",
   "execution_count": 40,
   "id": "8fb37595-6357-4d83-b261-7cba2bdb3843",
   "metadata": {
    "editable": true,
    "slideshow": {
     "slide_type": ""
    },
    "tags": []
   },
   "outputs": [
    {
     "data": {
      "text/html": [
       "<div>\n",
       "<style scoped>\n",
       "    .dataframe tbody tr th:only-of-type {\n",
       "        vertical-align: middle;\n",
       "    }\n",
       "\n",
       "    .dataframe tbody tr th {\n",
       "        vertical-align: top;\n",
       "    }\n",
       "\n",
       "    .dataframe thead th {\n",
       "        text-align: right;\n",
       "    }\n",
       "</style>\n",
       "<table border=\"1\" class=\"dataframe\">\n",
       "  <thead>\n",
       "    <tr style=\"text-align: right;\">\n",
       "      <th></th>\n",
       "      <th>노선명</th>\n",
       "      <th>영업소명</th>\n",
       "      <th>전화번호</th>\n",
       "      <th>팩스번호</th>\n",
       "      <th>우편번호\\n(5자리)</th>\n",
       "      <th>주소</th>\n",
       "      <th>세부주소1</th>\n",
       "      <th>세부주소2</th>\n",
       "    </tr>\n",
       "  </thead>\n",
       "  <tbody>\n",
       "    <tr>\n",
       "      <th>34</th>\n",
       "      <td>경부선</td>\n",
       "      <td>양산</td>\n",
       "      <td>055-711-2822</td>\n",
       "      <td>055-717-4822</td>\n",
       "      <td>50565.0</td>\n",
       "      <td>경상남도 양산시 상북면 와곡2길 12-1</td>\n",
       "      <td>경상남도</td>\n",
       "      <td>양산시</td>\n",
       "    </tr>\n",
       "    <tr>\n",
       "      <th>63</th>\n",
       "      <td>남해 제2지선</td>\n",
       "      <td>장유</td>\n",
       "      <td>055-711-2811</td>\n",
       "      <td>055-717-4811</td>\n",
       "      <td>50983.0</td>\n",
       "      <td>경상남도 김해시 장유로 324번길 44-43</td>\n",
       "      <td>경상남도</td>\n",
       "      <td>김해시</td>\n",
       "    </tr>\n",
       "  </tbody>\n",
       "</table>\n",
       "</div>"
      ],
      "text/plain": [
       "        노선명 영업소명          전화번호          팩스번호  우편번호\\n(5자리)  \\\n",
       "34      경부선   양산  055-711-2822  055-717-4822      50565.0   \n",
       "63  남해 제2지선   장유  055-711-2811  055-717-4811      50983.0   \n",
       "\n",
       "                          주소 세부주소1 세부주소2  \n",
       "34    경상남도 양산시 상북면 와곡2길 12-1  경상남도   양산시  \n",
       "63  경상남도 김해시 장유로 324번길 44-43  경상남도   김해시  "
      ]
     },
     "execution_count": 40,
     "metadata": {},
     "output_type": "execute_result"
    }
   ],
   "source": [
    "# on contrary, 세부주소2 refers to a certain municipality when it comes to stations inside 경상남도\n",
    "bMask = (sdf['영업소명']=='양산') | (sdf['영업소명']=='장유')\n",
    "sdf[bMask]"
   ]
  },
  {
   "cell_type": "code",
   "execution_count": 43,
   "id": "2ffb2661-19a5-43f9-9870-87203a154dd2",
   "metadata": {},
   "outputs": [
    {
     "data": {
      "text/html": [
       "<div>\n",
       "<style scoped>\n",
       "    .dataframe tbody tr th:only-of-type {\n",
       "        vertical-align: middle;\n",
       "    }\n",
       "\n",
       "    .dataframe tbody tr th {\n",
       "        vertical-align: top;\n",
       "    }\n",
       "\n",
       "    .dataframe thead th {\n",
       "        text-align: right;\n",
       "    }\n",
       "</style>\n",
       "<table border=\"1\" class=\"dataframe\">\n",
       "  <thead>\n",
       "    <tr style=\"text-align: right;\">\n",
       "      <th></th>\n",
       "      <th>노선명</th>\n",
       "      <th>영업소명</th>\n",
       "      <th>세부주소1</th>\n",
       "      <th>세부주소2</th>\n",
       "    </tr>\n",
       "  </thead>\n",
       "  <tbody>\n",
       "    <tr>\n",
       "      <th>0</th>\n",
       "      <td>경부선</td>\n",
       "      <td>오산</td>\n",
       "      <td>경기도</td>\n",
       "      <td>경기도</td>\n",
       "    </tr>\n",
       "    <tr>\n",
       "      <th>1</th>\n",
       "      <td>경부선</td>\n",
       "      <td>기흥</td>\n",
       "      <td>경기도</td>\n",
       "      <td>경기도</td>\n",
       "    </tr>\n",
       "    <tr>\n",
       "      <th>2</th>\n",
       "      <td>경부선</td>\n",
       "      <td>기흥동탄</td>\n",
       "      <td>경기도</td>\n",
       "      <td>경기도</td>\n",
       "    </tr>\n",
       "    <tr>\n",
       "      <th>3</th>\n",
       "      <td>경부선</td>\n",
       "      <td>수원신갈</td>\n",
       "      <td>경기도</td>\n",
       "      <td>경기도</td>\n",
       "    </tr>\n",
       "    <tr>\n",
       "      <th>4</th>\n",
       "      <td>경부선</td>\n",
       "      <td>서울</td>\n",
       "      <td>경기도</td>\n",
       "      <td>경기도</td>\n",
       "    </tr>\n",
       "  </tbody>\n",
       "</table>\n",
       "</div>"
      ],
      "text/plain": [
       "   노선명  영업소명 세부주소1 세부주소2\n",
       "0  경부선    오산   경기도   경기도\n",
       "1  경부선    기흥   경기도   경기도\n",
       "2  경부선  기흥동탄   경기도   경기도\n",
       "3  경부선  수원신갈   경기도   경기도\n",
       "4  경부선    서울   경기도   경기도"
      ]
     },
     "execution_count": 43,
     "metadata": {},
     "output_type": "execute_result"
    }
   ],
   "source": [
    "# for the sake of simplicity, drop redundant columns\n",
    "# 노선명 won't be directly used, either, but let's just leave it there for reference\n",
    "sdf = sdf.drop(columns=['전화번호','팩스번호','우편번호\\n(5자리)','주소'])\n",
    "sdf.head()"
   ]
  },
  {
   "cell_type": "code",
   "execution_count": 55,
   "id": "f3ce1509-06ce-4ea3-b4fd-9296156dfe28",
   "metadata": {},
   "outputs": [
    {
     "name": "stdout",
     "output_type": "stream",
     "text": [
      "429\n",
      "429\n",
      "370\n"
     ]
    }
   ],
   "source": [
    "# before join the two fdf and sdf on 영업소명, check whether the two 영업소명 are compatible\n",
    "fdfStation1 = sorted(fdf['출발영업소명'].unique())\n",
    "fdfStation2 = sorted(fdf['도착영업소명'].unique())\n",
    "sdfStation = sorted(sdf['영업소명'].unique())\n",
    "\n",
    "# check the number of their elements\n",
    "print(len(fdfStation1))\n",
    "print(len(fdfStation2))\n",
    "print(len(sdfStation))\n",
    "\n",
    "# well they do not match well !"
   ]
  },
  {
   "cell_type": "code",
   "execution_count": 56,
   "id": "85f30412-6bd9-44b0-afb5-280c83dc6fcc",
   "metadata": {
    "editable": true,
    "slideshow": {
     "slide_type": ""
    },
    "tags": []
   },
   "outputs": [],
   "source": [
    "# construct a dataFrame with them and convert it to csv\n",
    "compStation = pd.DataFrame({'fdf':pd.Series(fdfStation1), 'sdf':pd.Series(sdfStation)})\n",
    "compStation.to_csv('compStation.csv', index=False)"
   ]
  },
  {
   "cell_type": "code",
   "execution_count": null,
   "id": "c4484662-290a-4f65-ad01-81a5c7c0ddde",
   "metadata": {
    "editable": true,
    "slideshow": {
     "slide_type": ""
    },
    "tags": []
   },
   "outputs": [],
   "source": [
    "# the data list is quite long!\n",
    "# better filter out lines passing through 경상남도\n"
   ]
  },
  {
   "cell_type": "code",
   "execution_count": 3,
   "id": "99174565-4531-47fb-8123-4cacb56720af",
   "metadata": {
    "editable": true,
    "slideshow": {
     "slide_type": ""
    },
    "tags": []
   },
   "outputs": [
    {
     "data": {
      "text/plain": [
       "23"
      ]
     },
     "execution_count": 3,
     "metadata": {},
     "output_type": "execute_result"
    }
   ],
   "source": [
    "myNode = ['거제시','거창군','고성군','김해시','남해군','밀양시','사천시','산청군','양산시','의령군','진주시','창녕군'\n",
    "         ,'창원시','통영시','하동군','함안군','함양군','합천군','경상북도','전라북도','전라남도','울산광역시','부산광역시']\n",
    "len(myNode)"
   ]
  },
  {
   "cell_type": "code",
   "execution_count": 7,
   "id": "fcddd844-2b8a-419f-9e3e-ee2e3267bb85",
   "metadata": {
    "editable": true,
    "slideshow": {
     "slide_type": ""
    },
    "tags": []
   },
   "outputs": [
    {
     "data": {
      "text/html": [
       "<div>\n",
       "<style scoped>\n",
       "    .dataframe tbody tr th:only-of-type {\n",
       "        vertical-align: middle;\n",
       "    }\n",
       "\n",
       "    .dataframe tbody tr th {\n",
       "        vertical-align: top;\n",
       "    }\n",
       "\n",
       "    .dataframe thead th {\n",
       "        text-align: right;\n",
       "    }\n",
       "</style>\n",
       "<table border=\"1\" class=\"dataframe\">\n",
       "  <thead>\n",
       "    <tr style=\"text-align: right;\">\n",
       "      <th></th>\n",
       "      <th>거제시</th>\n",
       "      <th>거창군</th>\n",
       "      <th>고성군</th>\n",
       "      <th>김해시</th>\n",
       "      <th>남해군</th>\n",
       "      <th>밀양시</th>\n",
       "      <th>사천시</th>\n",
       "      <th>산청군</th>\n",
       "      <th>양산시</th>\n",
       "      <th>의령군</th>\n",
       "      <th>...</th>\n",
       "      <th>통영시</th>\n",
       "      <th>하동군</th>\n",
       "      <th>함안군</th>\n",
       "      <th>함양군</th>\n",
       "      <th>합천군</th>\n",
       "      <th>경상북도</th>\n",
       "      <th>전라북도</th>\n",
       "      <th>전라남도</th>\n",
       "      <th>울산광역시</th>\n",
       "      <th>부산광역시</th>\n",
       "    </tr>\n",
       "  </thead>\n",
       "  <tbody>\n",
       "    <tr>\n",
       "      <th>거제시</th>\n",
       "      <td>0.0</td>\n",
       "      <td>0.0</td>\n",
       "      <td>0.0</td>\n",
       "      <td>0.0</td>\n",
       "      <td>0.0</td>\n",
       "      <td>0.0</td>\n",
       "      <td>0.0</td>\n",
       "      <td>0.0</td>\n",
       "      <td>0.0</td>\n",
       "      <td>0.0</td>\n",
       "      <td>...</td>\n",
       "      <td>0.0</td>\n",
       "      <td>0.0</td>\n",
       "      <td>0.0</td>\n",
       "      <td>0.0</td>\n",
       "      <td>0.0</td>\n",
       "      <td>0.0</td>\n",
       "      <td>0.0</td>\n",
       "      <td>0.0</td>\n",
       "      <td>0.0</td>\n",
       "      <td>0.0</td>\n",
       "    </tr>\n",
       "    <tr>\n",
       "      <th>거창군</th>\n",
       "      <td>0.0</td>\n",
       "      <td>0.0</td>\n",
       "      <td>0.0</td>\n",
       "      <td>0.0</td>\n",
       "      <td>0.0</td>\n",
       "      <td>0.0</td>\n",
       "      <td>0.0</td>\n",
       "      <td>0.0</td>\n",
       "      <td>0.0</td>\n",
       "      <td>0.0</td>\n",
       "      <td>...</td>\n",
       "      <td>0.0</td>\n",
       "      <td>0.0</td>\n",
       "      <td>0.0</td>\n",
       "      <td>0.0</td>\n",
       "      <td>0.0</td>\n",
       "      <td>0.0</td>\n",
       "      <td>0.0</td>\n",
       "      <td>0.0</td>\n",
       "      <td>0.0</td>\n",
       "      <td>0.0</td>\n",
       "    </tr>\n",
       "    <tr>\n",
       "      <th>고성군</th>\n",
       "      <td>0.0</td>\n",
       "      <td>0.0</td>\n",
       "      <td>0.0</td>\n",
       "      <td>0.0</td>\n",
       "      <td>0.0</td>\n",
       "      <td>0.0</td>\n",
       "      <td>0.0</td>\n",
       "      <td>0.0</td>\n",
       "      <td>0.0</td>\n",
       "      <td>0.0</td>\n",
       "      <td>...</td>\n",
       "      <td>0.0</td>\n",
       "      <td>0.0</td>\n",
       "      <td>0.0</td>\n",
       "      <td>0.0</td>\n",
       "      <td>0.0</td>\n",
       "      <td>0.0</td>\n",
       "      <td>0.0</td>\n",
       "      <td>0.0</td>\n",
       "      <td>0.0</td>\n",
       "      <td>0.0</td>\n",
       "    </tr>\n",
       "    <tr>\n",
       "      <th>김해시</th>\n",
       "      <td>0.0</td>\n",
       "      <td>0.0</td>\n",
       "      <td>0.0</td>\n",
       "      <td>0.0</td>\n",
       "      <td>0.0</td>\n",
       "      <td>0.0</td>\n",
       "      <td>0.0</td>\n",
       "      <td>0.0</td>\n",
       "      <td>0.0</td>\n",
       "      <td>0.0</td>\n",
       "      <td>...</td>\n",
       "      <td>0.0</td>\n",
       "      <td>0.0</td>\n",
       "      <td>0.0</td>\n",
       "      <td>0.0</td>\n",
       "      <td>0.0</td>\n",
       "      <td>0.0</td>\n",
       "      <td>0.0</td>\n",
       "      <td>0.0</td>\n",
       "      <td>0.0</td>\n",
       "      <td>0.0</td>\n",
       "    </tr>\n",
       "    <tr>\n",
       "      <th>남해군</th>\n",
       "      <td>0.0</td>\n",
       "      <td>0.0</td>\n",
       "      <td>0.0</td>\n",
       "      <td>0.0</td>\n",
       "      <td>0.0</td>\n",
       "      <td>0.0</td>\n",
       "      <td>0.0</td>\n",
       "      <td>0.0</td>\n",
       "      <td>0.0</td>\n",
       "      <td>0.0</td>\n",
       "      <td>...</td>\n",
       "      <td>0.0</td>\n",
       "      <td>0.0</td>\n",
       "      <td>0.0</td>\n",
       "      <td>0.0</td>\n",
       "      <td>0.0</td>\n",
       "      <td>0.0</td>\n",
       "      <td>0.0</td>\n",
       "      <td>0.0</td>\n",
       "      <td>0.0</td>\n",
       "      <td>0.0</td>\n",
       "    </tr>\n",
       "  </tbody>\n",
       "</table>\n",
       "<p>5 rows × 23 columns</p>\n",
       "</div>"
      ],
      "text/plain": [
       "     거제시  거창군  고성군  김해시  남해군  밀양시  사천시  산청군  양산시  의령군  ...  통영시  하동군  함안군  \\\n",
       "거제시  0.0  0.0  0.0  0.0  0.0  0.0  0.0  0.0  0.0  0.0  ...  0.0  0.0  0.0   \n",
       "거창군  0.0  0.0  0.0  0.0  0.0  0.0  0.0  0.0  0.0  0.0  ...  0.0  0.0  0.0   \n",
       "고성군  0.0  0.0  0.0  0.0  0.0  0.0  0.0  0.0  0.0  0.0  ...  0.0  0.0  0.0   \n",
       "김해시  0.0  0.0  0.0  0.0  0.0  0.0  0.0  0.0  0.0  0.0  ...  0.0  0.0  0.0   \n",
       "남해군  0.0  0.0  0.0  0.0  0.0  0.0  0.0  0.0  0.0  0.0  ...  0.0  0.0  0.0   \n",
       "\n",
       "     함양군  합천군  경상북도  전라북도  전라남도  울산광역시  부산광역시  \n",
       "거제시  0.0  0.0   0.0   0.0   0.0    0.0    0.0  \n",
       "거창군  0.0  0.0   0.0   0.0   0.0    0.0    0.0  \n",
       "고성군  0.0  0.0   0.0   0.0   0.0    0.0    0.0  \n",
       "김해시  0.0  0.0   0.0   0.0   0.0    0.0    0.0  \n",
       "남해군  0.0  0.0   0.0   0.0   0.0    0.0    0.0  \n",
       "\n",
       "[5 rows x 23 columns]"
      ]
     },
     "execution_count": 7,
     "metadata": {},
     "output_type": "execute_result"
    }
   ],
   "source": [
    "import numpy as np\n",
    "adjMatrix = pd.DataFrame(np.zeros((23,23)), columns=myNode, index=myNode)\n",
    "adjMatrix.head()"
   ]
  },
  {
   "cell_type": "code",
   "execution_count": 29,
   "id": "086c8db9-6012-4141-a1fc-f17c1315659b",
   "metadata": {
    "editable": true,
    "slideshow": {
     "slide_type": ""
    },
    "tags": []
   },
   "outputs": [
    {
     "name": "stdout",
     "output_type": "stream",
     "text": [
      "       출발영업소코드  도착영업소코드 출발영업소명 도착영업소명  도착지방향평균  출발지방향평균\n",
      "97420      529      138     노포     양산    306.0    405.5\n",
      "       출발영업소코드  도착영업소코드 출발영업소명 도착영업소명  도착지방향평균  출발지방향평균\n",
      "16100      138      529     양산     노포    405.5    306.0\n"
     ]
    }
   ],
   "source": [
    "# use the code from the previous work 'checkRoute_2' for reference\n",
    "# when it comes to 경부선(부산->양산)\n",
    "## check the figures again before adding them to the adjMatrix \n",
    "startCode = 529\n",
    "destCode = 138\n",
    "bMask1 = (df['출발영업소코드']==startCode) & (df['도착영업소코드']==destCode)\n",
    "bMask2 = (df['출발영업소코드']==destCode) & (df['도착영업소코드']==startCode)\n",
    "print(df[bMask1])\n",
    "print(df[bMask2])"
   ]
  },
  {
   "cell_type": "code",
   "execution_count": null,
   "id": "2d2fb101-e919-44a6-951f-4ca15dd24ff1",
   "metadata": {
    "editable": true,
    "slideshow": {
     "slide_type": ""
    },
    "tags": []
   },
   "outputs": [],
   "source": [
    "# fill up adjMatrix with data from df\n",
    "# forward\n",
    "adjMatrix['부산광역시']['양산시'] += df[bMask1]['도착지방향평균']\n",
    "# backward\n",
    "adjMatrix['양산시']['부산광역시'] += df[bMask1]['도착지방향평균']"
   ]
  }
 ],
 "metadata": {
  "kernelspec": {
   "display_name": "Python 3 (ipykernel)",
   "language": "python",
   "name": "python3"
  },
  "language_info": {
   "codemirror_mode": {
    "name": "ipython",
    "version": 3
   },
   "file_extension": ".py",
   "mimetype": "text/x-python",
   "name": "python",
   "nbconvert_exporter": "python",
   "pygments_lexer": "ipython3",
   "version": "3.10.0"
  }
 },
 "nbformat": 4,
 "nbformat_minor": 5
}
