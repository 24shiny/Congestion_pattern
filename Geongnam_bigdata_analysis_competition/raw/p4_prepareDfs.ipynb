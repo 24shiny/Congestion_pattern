{
 "cells": [
  {
   "cell_type": "code",
   "execution_count": 2,
   "id": "264d9431-8654-49d4-b5c6-1df1f5956b76",
   "metadata": {},
   "outputs": [],
   "source": [
    "# as it turned out that the data sets were incompatible...\n",
    "# employ another data file with modifications based on wikiPage concerning highway stations :\n",
    "# (https://ko.wikipedia.org/wiki/%EB%8C%80%ED%95%9C%EB%AF%BC%EA%B5%AD%EC%9D%98_%EA%B3%A0%EC%86%8D%EB%8F%84%EB%A1%9C_%EC%98%81%EC%97%85%EC%86%8C_%EB%AA%A9%EB%A1%9D)\n",
    "import pandas as pd"
   ]
  },
  {
   "cell_type": "code",
   "execution_count": 31,
   "id": "2ef00d4c-d428-453e-915b-eec337161e74",
   "metadata": {
    "editable": true,
    "scrolled": true,
    "slideshow": {
     "slide_type": ""
    },
    "tags": []
   },
   "outputs": [
    {
     "name": "stdout",
     "output_type": "stream",
     "text": [
      "fdf :\n",
      "    출발영업소코드  도착영업소코드 출발영업소명 도착영업소명   도착지방향평균   출발지방향평균\n",
      "0      101      101     서울     서울     61.75     61.75\n",
      "1      101      102     서울    동수원   3706.75   5166.50\n",
      "2      101      103     서울   수원신갈  16726.50  16281.25\n",
      "3      101      104     서울     지곡     17.75     15.00\n",
      "4      101      105     서울     기흥   9217.75   9065.50\n"
     ]
    }
   ],
   "source": [
    "# import fdf from the previous work 'avgFourDays_3'\n",
    "fdf = pd.read_csv('fdf.csv')\n",
    "print(\"fdf :\\n\", fdf.head())"
   ]
  },
  {
   "cell_type": "code",
   "execution_count": 32,
   "id": "4dde17c0-48f4-4f69-9b06-20c8c15a6e5f",
   "metadata": {},
   "outputs": [
    {
     "name": "stdout",
     "output_type": "stream",
     "text": [
      "fdf :\n",
      "   출발영업소명 도착영업소명   도착지방향평균\n",
      "0     서울     서울     61.75\n",
      "1     서울    동수원   3706.75\n",
      "2     서울   수원신갈  16726.50\n",
      "3     서울     지곡     17.75\n",
      "4     서울     기흥   9217.75\n"
     ]
    }
   ],
   "source": [
    "# edit out redundant columns\n",
    "fdf = fdf.drop(columns=['출발영업소코드','도착영업소코드','출발지방향평균'])\n",
    "print(\"fdf :\\n\", fdf.head())"
   ]
  },
  {
   "cell_type": "code",
   "execution_count": 24,
   "id": "b100fb1d-70f3-4fa2-9f8c-6b74808fed21",
   "metadata": {
    "editable": true,
    "slideshow": {
     "slide_type": ""
    },
    "tags": []
   },
   "outputs": [
    {
     "name": "stdout",
     "output_type": "stream",
     "text": [
      "sdf :\n",
      " Index(['노선명', '영업소명', '전화번호', '팩스번호', '우편번호\\n(5자리)', '주소', '새영업소명'], dtype='object')\n",
      "\n",
      "             노선명   영업소명 전화번호 팩스번호  우편번호\\n(5자리)  \\\n",
      "0       남해 제2지선  가락(개)  NaN  NaN      46709.0   \n",
      "1       남해 제2지선  가락(개)  NaN  NaN      46709.0   \n",
      "2           중앙선     가산  NaN  NaN      39852.0   \n",
      "3  광주대구선, 무안광주선     가조  NaN  NaN      50118.0   \n",
      "4         중부내륙선     감곡  NaN  NaN      27605.0   \n",
      "\n",
      "                                주소 새영업소명  \n",
      "0      부산광역시 강서구 남해2지선고속도로 13(봉림동)    가락  \n",
      "1      부산광역시 강서구 남해2지선고속도로 13(봉림동)   가락2  \n",
      "2  경상북도 칠곡군 가산면 송신로54 (천평리 612-29)    가산  \n",
      "3            경상남도 거창군 가조면 지산로 1412    가조  \n",
      "4          충청북도 음성군 감곡면 가곡로 193-27    감곡  \n"
     ]
    }
   ],
   "source": [
    "# this is our brand new sdf\n",
    "sdf = pd.read_excel('새영업소현황.xlsx')\n",
    "print(\"sdf :\\n\", sdf.keys())\n",
    "print(\"\\n\", sdf.head())"
   ]
  },
  {
   "cell_type": "code",
   "execution_count": 25,
   "id": "09953666-4f2e-46ca-b1d1-907d0f3e0410",
   "metadata": {},
   "outputs": [
    {
     "data": {
      "text/html": [
       "<div>\n",
       "<style scoped>\n",
       "    .dataframe tbody tr th:only-of-type {\n",
       "        vertical-align: middle;\n",
       "    }\n",
       "\n",
       "    .dataframe tbody tr th {\n",
       "        vertical-align: top;\n",
       "    }\n",
       "\n",
       "    .dataframe thead th {\n",
       "        text-align: right;\n",
       "    }\n",
       "</style>\n",
       "<table border=\"1\" class=\"dataframe\">\n",
       "  <thead>\n",
       "    <tr style=\"text-align: right;\">\n",
       "      <th></th>\n",
       "      <th>노선명</th>\n",
       "      <th>영업소명</th>\n",
       "      <th>주소</th>\n",
       "      <th>새영업소명</th>\n",
       "    </tr>\n",
       "  </thead>\n",
       "  <tbody>\n",
       "    <tr>\n",
       "      <th>0</th>\n",
       "      <td>남해 제2지선</td>\n",
       "      <td>가락(개)</td>\n",
       "      <td>부산광역시 강서구 남해2지선고속도로 13(봉림동)</td>\n",
       "      <td>가락</td>\n",
       "    </tr>\n",
       "    <tr>\n",
       "      <th>1</th>\n",
       "      <td>남해 제2지선</td>\n",
       "      <td>가락(개)</td>\n",
       "      <td>부산광역시 강서구 남해2지선고속도로 13(봉림동)</td>\n",
       "      <td>가락2</td>\n",
       "    </tr>\n",
       "    <tr>\n",
       "      <th>2</th>\n",
       "      <td>중앙선</td>\n",
       "      <td>가산</td>\n",
       "      <td>경상북도 칠곡군 가산면 송신로54 (천평리 612-29)</td>\n",
       "      <td>가산</td>\n",
       "    </tr>\n",
       "    <tr>\n",
       "      <th>3</th>\n",
       "      <td>광주대구선, 무안광주선</td>\n",
       "      <td>가조</td>\n",
       "      <td>경상남도 거창군 가조면 지산로 1412</td>\n",
       "      <td>가조</td>\n",
       "    </tr>\n",
       "    <tr>\n",
       "      <th>4</th>\n",
       "      <td>중부내륙선</td>\n",
       "      <td>감곡</td>\n",
       "      <td>충청북도 음성군 감곡면 가곡로 193-27</td>\n",
       "      <td>감곡</td>\n",
       "    </tr>\n",
       "  </tbody>\n",
       "</table>\n",
       "</div>"
      ],
      "text/plain": [
       "            노선명   영업소명                               주소 새영업소명\n",
       "0       남해 제2지선  가락(개)      부산광역시 강서구 남해2지선고속도로 13(봉림동)    가락\n",
       "1       남해 제2지선  가락(개)      부산광역시 강서구 남해2지선고속도로 13(봉림동)   가락2\n",
       "2           중앙선     가산  경상북도 칠곡군 가산면 송신로54 (천평리 612-29)    가산\n",
       "3  광주대구선, 무안광주선     가조            경상남도 거창군 가조면 지산로 1412    가조\n",
       "4         중부내륙선     감곡          충청북도 음성군 감곡면 가곡로 193-27    감곡"
      ]
     },
     "execution_count": 25,
     "metadata": {},
     "output_type": "execute_result"
    }
   ],
   "source": [
    "sdf = sdf.drop(columns=['전화번호','팩스번호','우편번호\\n(5자리)'])\n",
    "sdf.head()\n",
    "# in the new xlsx sheet, 새영업소명 is added to match names of stations to those of fdf"
   ]
  },
  {
   "cell_type": "code",
   "execution_count": 26,
   "id": "f617bd70-a094-4222-8b2f-57da76f54736",
   "metadata": {},
   "outputs": [
    {
     "data": {
      "text/html": [
       "<div>\n",
       "<style scoped>\n",
       "    .dataframe tbody tr th:only-of-type {\n",
       "        vertical-align: middle;\n",
       "    }\n",
       "\n",
       "    .dataframe tbody tr th {\n",
       "        vertical-align: top;\n",
       "    }\n",
       "\n",
       "    .dataframe thead th {\n",
       "        text-align: right;\n",
       "    }\n",
       "</style>\n",
       "<table border=\"1\" class=\"dataframe\">\n",
       "  <thead>\n",
       "    <tr style=\"text-align: right;\">\n",
       "      <th></th>\n",
       "      <th>노선명</th>\n",
       "      <th>주소</th>\n",
       "      <th>새영업소명</th>\n",
       "    </tr>\n",
       "  </thead>\n",
       "  <tbody>\n",
       "    <tr>\n",
       "      <th>0</th>\n",
       "      <td>남해 제2지선</td>\n",
       "      <td>부산광역시 강서구 남해2지선고속도로 13(봉림동)</td>\n",
       "      <td>가락</td>\n",
       "    </tr>\n",
       "    <tr>\n",
       "      <th>1</th>\n",
       "      <td>남해 제2지선</td>\n",
       "      <td>부산광역시 강서구 남해2지선고속도로 13(봉림동)</td>\n",
       "      <td>가락2</td>\n",
       "    </tr>\n",
       "    <tr>\n",
       "      <th>2</th>\n",
       "      <td>중앙선</td>\n",
       "      <td>경상북도 칠곡군 가산면 송신로54 (천평리 612-29)</td>\n",
       "      <td>가산</td>\n",
       "    </tr>\n",
       "    <tr>\n",
       "      <th>3</th>\n",
       "      <td>광주대구선, 무안광주선</td>\n",
       "      <td>경상남도 거창군 가조면 지산로 1412</td>\n",
       "      <td>가조</td>\n",
       "    </tr>\n",
       "    <tr>\n",
       "      <th>4</th>\n",
       "      <td>중부내륙선</td>\n",
       "      <td>충청북도 음성군 감곡면 가곡로 193-27</td>\n",
       "      <td>감곡</td>\n",
       "    </tr>\n",
       "  </tbody>\n",
       "</table>\n",
       "</div>"
      ],
      "text/plain": [
       "            노선명                               주소 새영업소명\n",
       "0       남해 제2지선      부산광역시 강서구 남해2지선고속도로 13(봉림동)    가락\n",
       "1       남해 제2지선      부산광역시 강서구 남해2지선고속도로 13(봉림동)   가락2\n",
       "2           중앙선  경상북도 칠곡군 가산면 송신로54 (천평리 612-29)    가산\n",
       "3  광주대구선, 무안광주선            경상남도 거창군 가조면 지산로 1412    가조\n",
       "4         중부내륙선          충청북도 음성군 감곡면 가곡로 193-27    감곡"
      ]
     },
     "execution_count": 26,
     "metadata": {},
     "output_type": "execute_result"
    }
   ],
   "source": [
    "# as the old column 영업소명 is replaced by 새명업소명, let's drop it\n",
    "sdf = sdf.drop(['영업소명'], axis=1)\n",
    "sdf.head()"
   ]
  },
  {
   "cell_type": "code",
   "execution_count": 27,
   "id": "435a5736-2141-4683-ac42-04414dfb7d2f",
   "metadata": {
    "editable": true,
    "slideshow": {
     "slide_type": ""
    },
    "tags": []
   },
   "outputs": [
    {
     "data": {
      "text/html": [
       "<div>\n",
       "<style scoped>\n",
       "    .dataframe tbody tr th:only-of-type {\n",
       "        vertical-align: middle;\n",
       "    }\n",
       "\n",
       "    .dataframe tbody tr th {\n",
       "        vertical-align: top;\n",
       "    }\n",
       "\n",
       "    .dataframe thead th {\n",
       "        text-align: right;\n",
       "    }\n",
       "</style>\n",
       "<table border=\"1\" class=\"dataframe\">\n",
       "  <thead>\n",
       "    <tr style=\"text-align: right;\">\n",
       "      <th></th>\n",
       "      <th>노선명</th>\n",
       "      <th>주소</th>\n",
       "      <th>새영업소명</th>\n",
       "      <th>세부주소1</th>\n",
       "      <th>세부주소2</th>\n",
       "    </tr>\n",
       "  </thead>\n",
       "  <tbody>\n",
       "    <tr>\n",
       "      <th>0</th>\n",
       "      <td>남해 제2지선</td>\n",
       "      <td>부산광역시 강서구 남해2지선고속도로 13(봉림동)</td>\n",
       "      <td>가락</td>\n",
       "      <td>부산광역시</td>\n",
       "      <td>부산광역시</td>\n",
       "    </tr>\n",
       "    <tr>\n",
       "      <th>1</th>\n",
       "      <td>남해 제2지선</td>\n",
       "      <td>부산광역시 강서구 남해2지선고속도로 13(봉림동)</td>\n",
       "      <td>가락2</td>\n",
       "      <td>부산광역시</td>\n",
       "      <td>부산광역시</td>\n",
       "    </tr>\n",
       "    <tr>\n",
       "      <th>2</th>\n",
       "      <td>중앙선</td>\n",
       "      <td>경상북도 칠곡군 가산면 송신로54 (천평리 612-29)</td>\n",
       "      <td>가산</td>\n",
       "      <td>경상북도</td>\n",
       "      <td>경상북도</td>\n",
       "    </tr>\n",
       "    <tr>\n",
       "      <th>3</th>\n",
       "      <td>광주대구선, 무안광주선</td>\n",
       "      <td>경상남도 거창군 가조면 지산로 1412</td>\n",
       "      <td>가조</td>\n",
       "      <td>경상남도</td>\n",
       "      <td>거창군</td>\n",
       "    </tr>\n",
       "    <tr>\n",
       "      <th>4</th>\n",
       "      <td>중부내륙선</td>\n",
       "      <td>충청북도 음성군 감곡면 가곡로 193-27</td>\n",
       "      <td>감곡</td>\n",
       "      <td>충청북도</td>\n",
       "      <td>충청북도</td>\n",
       "    </tr>\n",
       "  </tbody>\n",
       "</table>\n",
       "</div>"
      ],
      "text/plain": [
       "            노선명                               주소 새영업소명  세부주소1  세부주소2\n",
       "0       남해 제2지선      부산광역시 강서구 남해2지선고속도로 13(봉림동)    가락  부산광역시  부산광역시\n",
       "1       남해 제2지선      부산광역시 강서구 남해2지선고속도로 13(봉림동)   가락2  부산광역시  부산광역시\n",
       "2           중앙선  경상북도 칠곡군 가산면 송신로54 (천평리 612-29)    가산   경상북도   경상북도\n",
       "3  광주대구선, 무안광주선            경상남도 거창군 가조면 지산로 1412    가조   경상남도    거창군\n",
       "4         중부내륙선          충청북도 음성군 감곡면 가곡로 193-27    감곡   충청북도   충청북도"
      ]
     },
     "execution_count": 27,
     "metadata": {},
     "output_type": "execute_result"
    }
   ],
   "source": [
    "# just like in the previous work, add new addresses 세부주소1 and 세부주소2\n",
    "sdf['세부주소1'] = sdf['주소'].apply(lambda x: x.split()[0]) \n",
    "sdf['세부주소2'] = sdf['주소'].apply(lambda x: x.split()[0] if x.split()[0]!='경상남도' else x.split()[1])\n",
    "sdf.head()"
   ]
  },
  {
   "cell_type": "code",
   "execution_count": 75,
   "id": "039ce1ca-d9e7-44a8-96b7-15ec444b9a14",
   "metadata": {
    "editable": true,
    "slideshow": {
     "slide_type": ""
    },
    "tags": []
   },
   "outputs": [
    {
     "data": {
      "text/plain": [
       "array(['부산광역시', '경상북도', '경상남도', '충청북도', '강원도', '전라남도', '경기도', '충청남도',\n",
       "       '전라북도', '광주광역시', '대구광역시', '대전광역시', '세종특별자치시', '예정', '울산광역시'],\n",
       "      dtype=object)"
      ]
     },
     "execution_count": 75,
     "metadata": {},
     "output_type": "execute_result"
    }
   ],
   "source": [
    "# get lists of names ; in- and outside 경상남도\n",
    "others = sdf['세부주소1'].unique()\n",
    "others"
   ]
  },
  {
   "cell_type": "code",
   "execution_count": 81,
   "id": "5e3abb08-8099-474e-b8d9-f3f6e3d848e3",
   "metadata": {},
   "outputs": [
    {
     "data": {
      "text/plain": [
       "array(['부산광역시', '경상북도', '충청북도', '강원도', '전라남도', '경기도', '충청남도', '전라북도',\n",
       "       '광주광역시', '대구광역시', '대전광역시', '세종특별자치시', '예정'], dtype=object)"
      ]
     },
     "execution_count": 81,
     "metadata": {},
     "output_type": "execute_result"
    }
   ],
   "source": [
    "import numpy as np\n",
    "# np.delete(arrayName, index)\n",
    "others = sdf['세부주소1'].unique()\n",
    "for idx, val in enumerate(others):\n",
    "    if val in ['예정','경상남도']:\n",
    "        others = np.delete(others, idx)\n",
    "others # why need to execute this cell twice ?"
   ]
  },
  {
   "cell_type": "code",
   "execution_count": 85,
   "id": "1c9099d4-165a-4471-bd9c-933acfcfc210",
   "metadata": {
    "editable": true,
    "slideshow": {
     "slide_type": ""
    },
    "tags": []
   },
   "outputs": [
    {
     "data": {
      "text/plain": [
       "array(['부산광역시', '경상북도', '충청북도', '강원도', '전라남도', '경기도', '충청남도', '전라북도',\n",
       "       '광주광역시', '대구광역시', '대전광역시', '세종특별자치시', '울산광역시'], dtype=object)"
      ]
     },
     "execution_count": 85,
     "metadata": {},
     "output_type": "execute_result"
    }
   ],
   "source": [
    "# alternatively.\n",
    "others = sdf['세부주소1'].unique()\n",
    "for elem in ['예정','경상남도']:\n",
    "    others = np.delete(others, np.where(others==elem))\n",
    "others"
   ]
  },
  {
   "cell_type": "code",
   "execution_count": 92,
   "id": "45ae17a2-f6e8-406e-8362-20fd50f38d54",
   "metadata": {
    "editable": true,
    "slideshow": {
     "slide_type": ""
    },
    "tags": []
   },
   "outputs": [
    {
     "data": {
      "text/plain": [
       "array(['거창군', '고성군', '사천시', '김해시', '함안군', '밀양시', '양산시', '창녕군', '산청군',\n",
       "       '창원시', '예정', '진주시', '통영시', '함양군', '하동군', '합천군'], dtype=object)"
      ]
     },
     "execution_count": 92,
     "metadata": {},
     "output_type": "execute_result"
    }
   ],
   "source": [
    "gyeongnam = sdf['세부주소2'].unique()\n",
    "for elem in others:\n",
    "    gyeongnam = np.delete(gyeongnam, np.where(gyeongnam==elem))\n",
    "gyeongnam"
   ]
  },
  {
   "cell_type": "code",
   "execution_count": 28,
   "id": "8fb37595-6357-4d83-b261-7cba2bdb3843",
   "metadata": {
    "editable": true,
    "slideshow": {
     "slide_type": ""
    },
    "tags": []
   },
   "outputs": [
    {
     "data": {
      "text/html": [
       "<div>\n",
       "<style scoped>\n",
       "    .dataframe tbody tr th:only-of-type {\n",
       "        vertical-align: middle;\n",
       "    }\n",
       "\n",
       "    .dataframe tbody tr th {\n",
       "        vertical-align: top;\n",
       "    }\n",
       "\n",
       "    .dataframe thead th {\n",
       "        text-align: right;\n",
       "    }\n",
       "</style>\n",
       "<table border=\"1\" class=\"dataframe\">\n",
       "  <thead>\n",
       "    <tr style=\"text-align: right;\">\n",
       "      <th></th>\n",
       "      <th>노선명</th>\n",
       "      <th>새영업소명</th>\n",
       "      <th>세부주소1</th>\n",
       "      <th>세부주소2</th>\n",
       "    </tr>\n",
       "  </thead>\n",
       "  <tbody>\n",
       "    <tr>\n",
       "      <th>0</th>\n",
       "      <td>남해 제2지선</td>\n",
       "      <td>가락</td>\n",
       "      <td>부산광역시</td>\n",
       "      <td>부산광역시</td>\n",
       "    </tr>\n",
       "    <tr>\n",
       "      <th>1</th>\n",
       "      <td>남해 제2지선</td>\n",
       "      <td>가락2</td>\n",
       "      <td>부산광역시</td>\n",
       "      <td>부산광역시</td>\n",
       "    </tr>\n",
       "    <tr>\n",
       "      <th>2</th>\n",
       "      <td>중앙선</td>\n",
       "      <td>가산</td>\n",
       "      <td>경상북도</td>\n",
       "      <td>경상북도</td>\n",
       "    </tr>\n",
       "    <tr>\n",
       "      <th>3</th>\n",
       "      <td>광주대구선, 무안광주선</td>\n",
       "      <td>가조</td>\n",
       "      <td>경상남도</td>\n",
       "      <td>거창군</td>\n",
       "    </tr>\n",
       "    <tr>\n",
       "      <th>4</th>\n",
       "      <td>중부내륙선</td>\n",
       "      <td>감곡</td>\n",
       "      <td>충청북도</td>\n",
       "      <td>충청북도</td>\n",
       "    </tr>\n",
       "  </tbody>\n",
       "</table>\n",
       "</div>"
      ],
      "text/plain": [
       "            노선명 새영업소명  세부주소1  세부주소2\n",
       "0       남해 제2지선    가락  부산광역시  부산광역시\n",
       "1       남해 제2지선   가락2  부산광역시  부산광역시\n",
       "2           중앙선    가산   경상북도   경상북도\n",
       "3  광주대구선, 무안광주선    가조   경상남도    거창군\n",
       "4         중부내륙선    감곡   충청북도   충청북도"
      ]
     },
     "execution_count": 28,
     "metadata": {},
     "output_type": "execute_result"
    }
   ],
   "source": [
    "# drop the column of complete addresses\n",
    "sdf = sdf.drop(['주소'], axis=1)\n",
    "sdf.head()"
   ]
  },
  {
   "cell_type": "code",
   "execution_count": 93,
   "id": "422c5e8f-f1cd-4d74-9967-77c5718987f8",
   "metadata": {},
   "outputs": [],
   "source": [
    "# save for later use\n",
    "sdf.to_csv('sdf.csv', index=False) "
   ]
  },
  {
   "cell_type": "code",
   "execution_count": 95,
   "id": "969d2bfb-c21e-4b93-8ae6-0a31344393a3",
   "metadata": {
    "editable": true,
    "slideshow": {
     "slide_type": ""
    },
    "tags": []
   },
   "outputs": [
    {
     "data": {
      "text/html": [
       "<div>\n",
       "<style scoped>\n",
       "    .dataframe tbody tr th:only-of-type {\n",
       "        vertical-align: middle;\n",
       "    }\n",
       "\n",
       "    .dataframe tbody tr th {\n",
       "        vertical-align: top;\n",
       "    }\n",
       "\n",
       "    .dataframe thead th {\n",
       "        text-align: right;\n",
       "    }\n",
       "</style>\n",
       "<table border=\"1\" class=\"dataframe\">\n",
       "  <thead>\n",
       "    <tr style=\"text-align: right;\">\n",
       "      <th></th>\n",
       "      <th>출발영업소명</th>\n",
       "      <th>도착영업소명</th>\n",
       "      <th>도착지방향평균</th>\n",
       "      <th>노선명_x</th>\n",
       "      <th>세부주소1_x</th>\n",
       "      <th>세부주소2_x</th>\n",
       "      <th>노선명_y</th>\n",
       "      <th>세부주소1_y</th>\n",
       "      <th>세부주소2_y</th>\n",
       "    </tr>\n",
       "  </thead>\n",
       "  <tbody>\n",
       "    <tr>\n",
       "      <th>0</th>\n",
       "      <td>서울</td>\n",
       "      <td>서울</td>\n",
       "      <td>61.75</td>\n",
       "      <td>경부선</td>\n",
       "      <td>경기도</td>\n",
       "      <td>경기도</td>\n",
       "      <td>경부선</td>\n",
       "      <td>경기도</td>\n",
       "      <td>경기도</td>\n",
       "    </tr>\n",
       "    <tr>\n",
       "      <th>1</th>\n",
       "      <td>서울</td>\n",
       "      <td>동수원</td>\n",
       "      <td>3706.75</td>\n",
       "      <td>경부선</td>\n",
       "      <td>경기도</td>\n",
       "      <td>경기도</td>\n",
       "      <td>영동선</td>\n",
       "      <td>경기도</td>\n",
       "      <td>경기도</td>\n",
       "    </tr>\n",
       "    <tr>\n",
       "      <th>2</th>\n",
       "      <td>서울</td>\n",
       "      <td>수원신갈</td>\n",
       "      <td>16726.50</td>\n",
       "      <td>경부선</td>\n",
       "      <td>경기도</td>\n",
       "      <td>경기도</td>\n",
       "      <td>경부선</td>\n",
       "      <td>경기도</td>\n",
       "      <td>경기도</td>\n",
       "    </tr>\n",
       "    <tr>\n",
       "      <th>3</th>\n",
       "      <td>서울</td>\n",
       "      <td>지곡</td>\n",
       "      <td>17.75</td>\n",
       "      <td>경부선</td>\n",
       "      <td>경기도</td>\n",
       "      <td>경기도</td>\n",
       "      <td>통영대전 중부선</td>\n",
       "      <td>경상남도</td>\n",
       "      <td>함양군</td>\n",
       "    </tr>\n",
       "    <tr>\n",
       "      <th>4</th>\n",
       "      <td>서울</td>\n",
       "      <td>기흥</td>\n",
       "      <td>9217.75</td>\n",
       "      <td>경부선</td>\n",
       "      <td>경기도</td>\n",
       "      <td>경기도</td>\n",
       "      <td>경부선</td>\n",
       "      <td>경기도</td>\n",
       "      <td>경기도</td>\n",
       "    </tr>\n",
       "  </tbody>\n",
       "</table>\n",
       "</div>"
      ],
      "text/plain": [
       "  출발영업소명 도착영업소명   도착지방향평균 노선명_x 세부주소1_x 세부주소2_x     노선명_y 세부주소1_y 세부주소2_y\n",
       "0     서울     서울     61.75   경부선     경기도     경기도       경부선     경기도     경기도\n",
       "1     서울    동수원   3706.75   경부선     경기도     경기도       영동선     경기도     경기도\n",
       "2     서울   수원신갈  16726.50   경부선     경기도     경기도       경부선     경기도     경기도\n",
       "3     서울     지곡     17.75   경부선     경기도     경기도  통영대전 중부선    경상남도     함양군\n",
       "4     서울     기흥   9217.75   경부선     경기도     경기도       경부선     경기도     경기도"
      ]
     },
     "execution_count": 95,
     "metadata": {},
     "output_type": "execute_result"
    }
   ],
   "source": [
    "# join the two dfs, fdf and sdf\n",
    "# first to add address columns for start-stations\n",
    "# mdf stands for merged dataFrame\n",
    "mdf = pd.merge(fdf, sdf, left_on=\"출발영업소명\", right_on=\"새영업소명\").drop('새영업소명', axis=1)\n",
    "mdf = pd.merge(mdf, sdf, left_on=\"도착영업소명\", right_on=\"새영업소명\").drop('새영업소명', axis=1)\n",
    "mdf.head()"
   ]
  },
  {
   "cell_type": "code",
   "execution_count": 96,
   "id": "f0bc0830-7b55-49da-826a-736a1cd4d9d5",
   "metadata": {},
   "outputs": [
    {
     "data": {
      "text/html": [
       "<div>\n",
       "<style scoped>\n",
       "    .dataframe tbody tr th:only-of-type {\n",
       "        vertical-align: middle;\n",
       "    }\n",
       "\n",
       "    .dataframe tbody tr th {\n",
       "        vertical-align: top;\n",
       "    }\n",
       "\n",
       "    .dataframe thead th {\n",
       "        text-align: right;\n",
       "    }\n",
       "</style>\n",
       "<table border=\"1\" class=\"dataframe\">\n",
       "  <thead>\n",
       "    <tr style=\"text-align: right;\">\n",
       "      <th></th>\n",
       "      <th>출발영업소명</th>\n",
       "      <th>도착영업소명</th>\n",
       "      <th>도착지방향평균</th>\n",
       "      <th>세부주소1_x</th>\n",
       "      <th>세부주소2_x</th>\n",
       "      <th>세부주소1_y</th>\n",
       "      <th>세부주소2_y</th>\n",
       "    </tr>\n",
       "  </thead>\n",
       "  <tbody>\n",
       "    <tr>\n",
       "      <th>0</th>\n",
       "      <td>서울</td>\n",
       "      <td>서울</td>\n",
       "      <td>61.75</td>\n",
       "      <td>경기도</td>\n",
       "      <td>경기도</td>\n",
       "      <td>경기도</td>\n",
       "      <td>경기도</td>\n",
       "    </tr>\n",
       "    <tr>\n",
       "      <th>1</th>\n",
       "      <td>서울</td>\n",
       "      <td>동수원</td>\n",
       "      <td>3706.75</td>\n",
       "      <td>경기도</td>\n",
       "      <td>경기도</td>\n",
       "      <td>경기도</td>\n",
       "      <td>경기도</td>\n",
       "    </tr>\n",
       "    <tr>\n",
       "      <th>2</th>\n",
       "      <td>서울</td>\n",
       "      <td>수원신갈</td>\n",
       "      <td>16726.50</td>\n",
       "      <td>경기도</td>\n",
       "      <td>경기도</td>\n",
       "      <td>경기도</td>\n",
       "      <td>경기도</td>\n",
       "    </tr>\n",
       "    <tr>\n",
       "      <th>3</th>\n",
       "      <td>서울</td>\n",
       "      <td>지곡</td>\n",
       "      <td>17.75</td>\n",
       "      <td>경기도</td>\n",
       "      <td>경기도</td>\n",
       "      <td>경상남도</td>\n",
       "      <td>함양군</td>\n",
       "    </tr>\n",
       "    <tr>\n",
       "      <th>4</th>\n",
       "      <td>서울</td>\n",
       "      <td>기흥</td>\n",
       "      <td>9217.75</td>\n",
       "      <td>경기도</td>\n",
       "      <td>경기도</td>\n",
       "      <td>경기도</td>\n",
       "      <td>경기도</td>\n",
       "    </tr>\n",
       "  </tbody>\n",
       "</table>\n",
       "</div>"
      ],
      "text/plain": [
       "  출발영업소명 도착영업소명   도착지방향평균 세부주소1_x 세부주소2_x 세부주소1_y 세부주소2_y\n",
       "0     서울     서울     61.75     경기도     경기도     경기도     경기도\n",
       "1     서울    동수원   3706.75     경기도     경기도     경기도     경기도\n",
       "2     서울   수원신갈  16726.50     경기도     경기도     경기도     경기도\n",
       "3     서울     지곡     17.75     경기도     경기도    경상남도     함양군\n",
       "4     서울     기흥   9217.75     경기도     경기도     경기도     경기도"
      ]
     },
     "execution_count": 96,
     "metadata": {},
     "output_type": "execute_result"
    }
   ],
   "source": [
    "# drop redundant columns\n",
    "mdf = mdf.drop(columns=['노선명_x','노선명_y'])\n",
    "mdf.head()"
   ]
  },
  {
   "cell_type": "code",
   "execution_count": 97,
   "id": "ab14c812-d942-4596-b987-92eeae82e45d",
   "metadata": {
    "editable": true,
    "slideshow": {
     "slide_type": ""
    },
    "tags": []
   },
   "outputs": [
    {
     "data": {
      "text/html": [
       "<div>\n",
       "<style scoped>\n",
       "    .dataframe tbody tr th:only-of-type {\n",
       "        vertical-align: middle;\n",
       "    }\n",
       "\n",
       "    .dataframe tbody tr th {\n",
       "        vertical-align: top;\n",
       "    }\n",
       "\n",
       "    .dataframe thead th {\n",
       "        text-align: right;\n",
       "    }\n",
       "</style>\n",
       "<table border=\"1\" class=\"dataframe\">\n",
       "  <thead>\n",
       "    <tr style=\"text-align: right;\">\n",
       "      <th></th>\n",
       "      <th>출발영업소명</th>\n",
       "      <th>도착영업소명</th>\n",
       "      <th>도착지방향평균</th>\n",
       "      <th>출발주소1</th>\n",
       "      <th>출발주소2</th>\n",
       "      <th>도착주소1</th>\n",
       "      <th>도착주소2</th>\n",
       "    </tr>\n",
       "  </thead>\n",
       "  <tbody>\n",
       "    <tr>\n",
       "      <th>0</th>\n",
       "      <td>서울</td>\n",
       "      <td>서울</td>\n",
       "      <td>61.75</td>\n",
       "      <td>경기도</td>\n",
       "      <td>경기도</td>\n",
       "      <td>경기도</td>\n",
       "      <td>경기도</td>\n",
       "    </tr>\n",
       "    <tr>\n",
       "      <th>1</th>\n",
       "      <td>서울</td>\n",
       "      <td>동수원</td>\n",
       "      <td>3706.75</td>\n",
       "      <td>경기도</td>\n",
       "      <td>경기도</td>\n",
       "      <td>경기도</td>\n",
       "      <td>경기도</td>\n",
       "    </tr>\n",
       "    <tr>\n",
       "      <th>2</th>\n",
       "      <td>서울</td>\n",
       "      <td>수원신갈</td>\n",
       "      <td>16726.50</td>\n",
       "      <td>경기도</td>\n",
       "      <td>경기도</td>\n",
       "      <td>경기도</td>\n",
       "      <td>경기도</td>\n",
       "    </tr>\n",
       "    <tr>\n",
       "      <th>3</th>\n",
       "      <td>서울</td>\n",
       "      <td>지곡</td>\n",
       "      <td>17.75</td>\n",
       "      <td>경기도</td>\n",
       "      <td>경기도</td>\n",
       "      <td>경상남도</td>\n",
       "      <td>함양군</td>\n",
       "    </tr>\n",
       "    <tr>\n",
       "      <th>4</th>\n",
       "      <td>서울</td>\n",
       "      <td>기흥</td>\n",
       "      <td>9217.75</td>\n",
       "      <td>경기도</td>\n",
       "      <td>경기도</td>\n",
       "      <td>경기도</td>\n",
       "      <td>경기도</td>\n",
       "    </tr>\n",
       "  </tbody>\n",
       "</table>\n",
       "</div>"
      ],
      "text/plain": [
       "  출발영업소명 도착영업소명   도착지방향평균 출발주소1 출발주소2 도착주소1 도착주소2\n",
       "0     서울     서울     61.75   경기도   경기도   경기도   경기도\n",
       "1     서울    동수원   3706.75   경기도   경기도   경기도   경기도\n",
       "2     서울   수원신갈  16726.50   경기도   경기도   경기도   경기도\n",
       "3     서울     지곡     17.75   경기도   경기도  경상남도   함양군\n",
       "4     서울     기흥   9217.75   경기도   경기도   경기도   경기도"
      ]
     },
     "execution_count": 97,
     "metadata": {},
     "output_type": "execute_result"
    }
   ],
   "source": [
    "# rename the added columns\n",
    "mdf = mdf.rename(columns={'세부주소1_x':'출발주소1', '세부주소2_x':'출발주소2',\n",
    "                         '세부주소1_y':'도착주소1', '세부주소2_y':'도착주소2'})\n",
    "mdf.head()"
   ]
  },
  {
   "cell_type": "code",
   "execution_count": 98,
   "id": "d59d68c8-3a40-48dc-b470-b4c4f3d9ba69",
   "metadata": {},
   "outputs": [
    {
     "data": {
      "text/html": [
       "<div>\n",
       "<style scoped>\n",
       "    .dataframe tbody tr th:only-of-type {\n",
       "        vertical-align: middle;\n",
       "    }\n",
       "\n",
       "    .dataframe tbody tr th {\n",
       "        vertical-align: top;\n",
       "    }\n",
       "\n",
       "    .dataframe thead th {\n",
       "        text-align: right;\n",
       "    }\n",
       "</style>\n",
       "<table border=\"1\" class=\"dataframe\">\n",
       "  <thead>\n",
       "    <tr style=\"text-align: right;\">\n",
       "      <th></th>\n",
       "      <th>출발영업소명</th>\n",
       "      <th>출발주소1</th>\n",
       "      <th>출발주소2</th>\n",
       "      <th>도착영업소명</th>\n",
       "      <th>도착주소1</th>\n",
       "      <th>도착주소2</th>\n",
       "      <th>도착지방향평균</th>\n",
       "    </tr>\n",
       "  </thead>\n",
       "  <tbody>\n",
       "    <tr>\n",
       "      <th>0</th>\n",
       "      <td>서울</td>\n",
       "      <td>경기도</td>\n",
       "      <td>경기도</td>\n",
       "      <td>서울</td>\n",
       "      <td>경기도</td>\n",
       "      <td>경기도</td>\n",
       "      <td>61.75</td>\n",
       "    </tr>\n",
       "    <tr>\n",
       "      <th>1</th>\n",
       "      <td>서울</td>\n",
       "      <td>경기도</td>\n",
       "      <td>경기도</td>\n",
       "      <td>동수원</td>\n",
       "      <td>경기도</td>\n",
       "      <td>경기도</td>\n",
       "      <td>3706.75</td>\n",
       "    </tr>\n",
       "    <tr>\n",
       "      <th>2</th>\n",
       "      <td>서울</td>\n",
       "      <td>경기도</td>\n",
       "      <td>경기도</td>\n",
       "      <td>수원신갈</td>\n",
       "      <td>경기도</td>\n",
       "      <td>경기도</td>\n",
       "      <td>16726.50</td>\n",
       "    </tr>\n",
       "    <tr>\n",
       "      <th>3</th>\n",
       "      <td>서울</td>\n",
       "      <td>경기도</td>\n",
       "      <td>경기도</td>\n",
       "      <td>지곡</td>\n",
       "      <td>경상남도</td>\n",
       "      <td>함양군</td>\n",
       "      <td>17.75</td>\n",
       "    </tr>\n",
       "    <tr>\n",
       "      <th>4</th>\n",
       "      <td>서울</td>\n",
       "      <td>경기도</td>\n",
       "      <td>경기도</td>\n",
       "      <td>기흥</td>\n",
       "      <td>경기도</td>\n",
       "      <td>경기도</td>\n",
       "      <td>9217.75</td>\n",
       "    </tr>\n",
       "  </tbody>\n",
       "</table>\n",
       "</div>"
      ],
      "text/plain": [
       "  출발영업소명 출발주소1 출발주소2 도착영업소명 도착주소1 도착주소2   도착지방향평균\n",
       "0     서울   경기도   경기도     서울   경기도   경기도     61.75\n",
       "1     서울   경기도   경기도    동수원   경기도   경기도   3706.75\n",
       "2     서울   경기도   경기도   수원신갈   경기도   경기도  16726.50\n",
       "3     서울   경기도   경기도     지곡  경상남도   함양군     17.75\n",
       "4     서울   경기도   경기도     기흥   경기도   경기도   9217.75"
      ]
     },
     "execution_count": 98,
     "metadata": {},
     "output_type": "execute_result"
    }
   ],
   "source": [
    "# change the order of columns\n",
    "mdf = mdf.iloc[:,[0,3,4,1,5,6,2]]\n",
    "mdf.head()"
   ]
  },
  {
   "cell_type": "code",
   "execution_count": 99,
   "id": "02db5ff1-0ef1-440d-8f8a-637ef539743a",
   "metadata": {},
   "outputs": [
    {
     "data": {
      "text/html": [
       "<div>\n",
       "<style scoped>\n",
       "    .dataframe tbody tr th:only-of-type {\n",
       "        vertical-align: middle;\n",
       "    }\n",
       "\n",
       "    .dataframe tbody tr th {\n",
       "        vertical-align: top;\n",
       "    }\n",
       "\n",
       "    .dataframe thead th {\n",
       "        text-align: right;\n",
       "    }\n",
       "</style>\n",
       "<table border=\"1\" class=\"dataframe\">\n",
       "  <thead>\n",
       "    <tr style=\"text-align: right;\">\n",
       "      <th></th>\n",
       "      <th>출발영업소명</th>\n",
       "      <th>출발주소1</th>\n",
       "      <th>출발주소2</th>\n",
       "      <th>도착영업소명</th>\n",
       "      <th>도착주소1</th>\n",
       "      <th>도착주소2</th>\n",
       "      <th>도착지방향평균</th>\n",
       "    </tr>\n",
       "  </thead>\n",
       "  <tbody>\n",
       "    <tr>\n",
       "      <th>3</th>\n",
       "      <td>서울</td>\n",
       "      <td>경기도</td>\n",
       "      <td>경기도</td>\n",
       "      <td>지곡</td>\n",
       "      <td>경상남도</td>\n",
       "      <td>함양군</td>\n",
       "      <td>17.75</td>\n",
       "    </tr>\n",
       "    <tr>\n",
       "      <th>37</th>\n",
       "      <td>서울</td>\n",
       "      <td>경기도</td>\n",
       "      <td>경기도</td>\n",
       "      <td>양산</td>\n",
       "      <td>경상남도</td>\n",
       "      <td>양산시</td>\n",
       "      <td>0.75</td>\n",
       "    </tr>\n",
       "    <tr>\n",
       "      <th>40</th>\n",
       "      <td>서울</td>\n",
       "      <td>경기도</td>\n",
       "      <td>경기도</td>\n",
       "      <td>군북</td>\n",
       "      <td>경상남도</td>\n",
       "      <td>함안군</td>\n",
       "      <td>0.75</td>\n",
       "    </tr>\n",
       "    <tr>\n",
       "      <th>41</th>\n",
       "      <td>서울</td>\n",
       "      <td>경기도</td>\n",
       "      <td>경기도</td>\n",
       "      <td>장지</td>\n",
       "      <td>경상남도</td>\n",
       "      <td>함안군</td>\n",
       "      <td>0.75</td>\n",
       "    </tr>\n",
       "    <tr>\n",
       "      <th>42</th>\n",
       "      <td>서울</td>\n",
       "      <td>경기도</td>\n",
       "      <td>경기도</td>\n",
       "      <td>함안</td>\n",
       "      <td>경상남도</td>\n",
       "      <td>함안군</td>\n",
       "      <td>4.50</td>\n",
       "    </tr>\n",
       "  </tbody>\n",
       "</table>\n",
       "</div>"
      ],
      "text/plain": [
       "   출발영업소명 출발주소1 출발주소2 도착영업소명 도착주소1 도착주소2  도착지방향평균\n",
       "3      서울   경기도   경기도     지곡  경상남도   함양군    17.75\n",
       "37     서울   경기도   경기도     양산  경상남도   양산시     0.75\n",
       "40     서울   경기도   경기도     군북  경상남도   함안군     0.75\n",
       "41     서울   경기도   경기도     장지  경상남도   함안군     0.75\n",
       "42     서울   경기도   경기도     함안  경상남도   함안군     4.50"
      ]
     },
     "execution_count": 99,
     "metadata": {},
     "output_type": "execute_result"
    }
   ],
   "source": [
    "# drop rows having nothing to do with 경상남도 by using 도착주소1 which refers to province\n",
    "# namely, leave no rows whose start- and terminal stations are both outside 경상남도\n",
    "dropCond = mdf[(mdf['출발주소1']!='경상남도') & (mdf['도착주소1']!='경상남도')].index\n",
    "mdf = mdf.drop(dropCond)\n",
    "mdf.head()"
   ]
  },
  {
   "cell_type": "code",
   "execution_count": 100,
   "id": "e830e9a2-188a-4432-8c72-08d2c3ee5071",
   "metadata": {},
   "outputs": [],
   "source": [
    "## add lately\n",
    "# for the network over all provinces, take some parts of mdf\n",
    "# the first partial mdf\n",
    "pmdf = mdf[['출발주소1','도착주소1','도착지방향평균']]\n",
    "pmdf.to_csv('전국교통량평균.csv', index=False, encoding='utf-8') "
   ]
  },
  {
   "cell_type": "code",
   "execution_count": 59,
   "id": "98247f91-06f2-4ae9-95fe-3540e483e840",
   "metadata": {
    "editable": true,
    "slideshow": {
     "slide_type": ""
    },
    "tags": []
   },
   "outputs": [
    {
     "data": {
      "text/html": [
       "<div>\n",
       "<style scoped>\n",
       "    .dataframe tbody tr th:only-of-type {\n",
       "        vertical-align: middle;\n",
       "    }\n",
       "\n",
       "    .dataframe tbody tr th {\n",
       "        vertical-align: top;\n",
       "    }\n",
       "\n",
       "    .dataframe thead th {\n",
       "        text-align: right;\n",
       "    }\n",
       "</style>\n",
       "<table border=\"1\" class=\"dataframe\">\n",
       "  <thead>\n",
       "    <tr style=\"text-align: right;\">\n",
       "      <th></th>\n",
       "      <th>출발영업소명</th>\n",
       "      <th>출발영업소주소</th>\n",
       "      <th>도착영업소명</th>\n",
       "      <th>도착영업소주소</th>\n",
       "      <th>도착지방향평균</th>\n",
       "    </tr>\n",
       "  </thead>\n",
       "  <tbody>\n",
       "    <tr>\n",
       "      <th>3</th>\n",
       "      <td>서울</td>\n",
       "      <td>경기도</td>\n",
       "      <td>지곡</td>\n",
       "      <td>함양군</td>\n",
       "      <td>17.75</td>\n",
       "    </tr>\n",
       "    <tr>\n",
       "      <th>37</th>\n",
       "      <td>서울</td>\n",
       "      <td>경기도</td>\n",
       "      <td>양산</td>\n",
       "      <td>양산시</td>\n",
       "      <td>0.75</td>\n",
       "    </tr>\n",
       "    <tr>\n",
       "      <th>40</th>\n",
       "      <td>서울</td>\n",
       "      <td>경기도</td>\n",
       "      <td>군북</td>\n",
       "      <td>함안군</td>\n",
       "      <td>0.75</td>\n",
       "    </tr>\n",
       "    <tr>\n",
       "      <th>41</th>\n",
       "      <td>서울</td>\n",
       "      <td>경기도</td>\n",
       "      <td>장지</td>\n",
       "      <td>함안군</td>\n",
       "      <td>0.75</td>\n",
       "    </tr>\n",
       "    <tr>\n",
       "      <th>42</th>\n",
       "      <td>서울</td>\n",
       "      <td>경기도</td>\n",
       "      <td>함안</td>\n",
       "      <td>함안군</td>\n",
       "      <td>4.50</td>\n",
       "    </tr>\n",
       "  </tbody>\n",
       "</table>\n",
       "</div>"
      ],
      "text/plain": [
       "   출발영업소명 출발영업소주소 도착영업소명 도착영업소주소  도착지방향평균\n",
       "3      서울     경기도     지곡     함양군    17.75\n",
       "37     서울     경기도     양산     양산시     0.75\n",
       "40     서울     경기도     군북     함안군     0.75\n",
       "41     서울     경기도     장지     함안군     0.75\n",
       "42     서울     경기도     함안     함안군     4.50"
      ]
     },
     "execution_count": 59,
     "metadata": {},
     "output_type": "execute_result"
    }
   ],
   "source": [
    "## not excecuted accordingly\n",
    "\n",
    "# then, first addresses are redundant\n",
    "# a corresponding adjacency matrix will be constructed based on the second addresses\n",
    "mdf = mdf.drop(columns=['출발주소1','도착주소1'])\n",
    "\n",
    "# rename the second ones\n",
    "mdf = mdf.rename(columns={'출발주소2':'출발영업소주소', '도착주소2':'도착영업소주소'})\n",
    "mdf.head()"
   ]
  },
  {
   "cell_type": "code",
   "execution_count": 94,
   "id": "3468000a-7abb-4220-b3ef-6ba4751c2adf",
   "metadata": {
    "editable": true,
    "slideshow": {
     "slide_type": ""
    },
    "tags": []
   },
   "outputs": [],
   "source": [
    "# save this dataFrame in csv format\n",
    "mdf.to_csv('mdf.csv', index=False) "
   ]
  },
  {
   "cell_type": "code",
   "execution_count": null,
   "id": "f469e6e0-0c73-410e-96d8-01566df55f95",
   "metadata": {},
   "outputs": [],
   "source": [
    "# end of the code"
   ]
  }
 ],
 "metadata": {
  "kernelspec": {
   "display_name": "Python 3 (ipykernel)",
   "language": "python",
   "name": "python3"
  },
  "language_info": {
   "codemirror_mode": {
    "name": "ipython",
    "version": 3
   },
   "file_extension": ".py",
   "mimetype": "text/x-python",
   "name": "python",
   "nbconvert_exporter": "python",
   "pygments_lexer": "ipython3",
   "version": "3.10.0"
  }
 },
 "nbformat": 4,
 "nbformat_minor": 5
}
