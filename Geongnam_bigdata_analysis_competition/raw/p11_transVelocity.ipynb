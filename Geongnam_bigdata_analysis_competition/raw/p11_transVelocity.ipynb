{
 "cells": [
  {
   "cell_type": "code",
   "execution_count": 75,
   "id": "192e6446-886f-4b90-8dcf-468be9fac767",
   "metadata": {},
   "outputs": [
    {
     "data": {
      "text/html": [
       "<div>\n",
       "<style scoped>\n",
       "    .dataframe tbody tr th:only-of-type {\n",
       "        vertical-align: middle;\n",
       "    }\n",
       "\n",
       "    .dataframe tbody tr th {\n",
       "        vertical-align: top;\n",
       "    }\n",
       "\n",
       "    .dataframe thead th {\n",
       "        text-align: right;\n",
       "    }\n",
       "</style>\n",
       "<table border=\"1\" class=\"dataframe\">\n",
       "  <thead>\n",
       "    <tr style=\"text-align: right;\">\n",
       "      <th></th>\n",
       "      <th>콘존ID</th>\n",
       "      <th>콘존길이</th>\n",
       "      <th>기점종점방향구분코드</th>\n",
       "      <th>시작노드ID</th>\n",
       "      <th>종료노드ID</th>\n",
       "      <th>차로수</th>\n",
       "      <th>노선번호</th>\n",
       "      <th>제한속도</th>\n",
       "      <th>노선구성순번</th>\n",
       "      <th>시작노드</th>\n",
       "      <th>도착노드</th>\n",
       "      <th>버스전용차로유무</th>\n",
       "      <th>도로등급구분코드</th>\n",
       "    </tr>\n",
       "  </thead>\n",
       "  <tbody>\n",
       "    <tr>\n",
       "      <th>0</th>\n",
       "      <td>0010CZE005</td>\n",
       "      <td>200</td>\n",
       "      <td>E</td>\n",
       "      <td>491</td>\n",
       "      <td>4</td>\n",
       "      <td>3.0</td>\n",
       "      <td>10</td>\n",
       "      <td>100</td>\n",
       "      <td>1</td>\n",
       "      <td>경부고속국도시점</td>\n",
       "      <td>구서IC</td>\n",
       "      <td>0.0</td>\n",
       "      <td>101.0</td>\n",
       "    </tr>\n",
       "    <tr>\n",
       "      <th>1</th>\n",
       "      <td>0010CZE010</td>\n",
       "      <td>1820</td>\n",
       "      <td>E</td>\n",
       "      <td>4</td>\n",
       "      <td>446</td>\n",
       "      <td>3.0</td>\n",
       "      <td>10</td>\n",
       "      <td>100</td>\n",
       "      <td>2</td>\n",
       "      <td>구서IC</td>\n",
       "      <td>영락IC</td>\n",
       "      <td>0.0</td>\n",
       "      <td>101.0</td>\n",
       "    </tr>\n",
       "    <tr>\n",
       "      <th>2</th>\n",
       "      <td>0010CZE011</td>\n",
       "      <td>1990</td>\n",
       "      <td>E</td>\n",
       "      <td>446</td>\n",
       "      <td>486</td>\n",
       "      <td>3.0</td>\n",
       "      <td>10</td>\n",
       "      <td>100</td>\n",
       "      <td>3</td>\n",
       "      <td>영락IC</td>\n",
       "      <td>부산TG</td>\n",
       "      <td>0.0</td>\n",
       "      <td>101.0</td>\n",
       "    </tr>\n",
       "    <tr>\n",
       "      <th>3</th>\n",
       "      <td>0010CZE020</td>\n",
       "      <td>1070</td>\n",
       "      <td>E</td>\n",
       "      <td>486</td>\n",
       "      <td>447</td>\n",
       "      <td>3.0</td>\n",
       "      <td>10</td>\n",
       "      <td>100</td>\n",
       "      <td>4</td>\n",
       "      <td>부산TG</td>\n",
       "      <td>노포</td>\n",
       "      <td>0.0</td>\n",
       "      <td>101.0</td>\n",
       "    </tr>\n",
       "    <tr>\n",
       "      <th>4</th>\n",
       "      <td>0010CZE030</td>\n",
       "      <td>7780</td>\n",
       "      <td>E</td>\n",
       "      <td>447</td>\n",
       "      <td>669</td>\n",
       "      <td>3.0</td>\n",
       "      <td>10</td>\n",
       "      <td>100</td>\n",
       "      <td>5</td>\n",
       "      <td>노포IC</td>\n",
       "      <td>노포JC</td>\n",
       "      <td>0.0</td>\n",
       "      <td>101.0</td>\n",
       "    </tr>\n",
       "  </tbody>\n",
       "</table>\n",
       "</div>"
      ],
      "text/plain": [
       "         콘존ID  콘존길이 기점종점방향구분코드  시작노드ID  종료노드ID  차로수  노선번호  제한속도  노선구성순번  \\\n",
       "0  0010CZE005   200          E     491       4  3.0    10   100       1   \n",
       "1  0010CZE010  1820          E       4     446  3.0    10   100       2   \n",
       "2  0010CZE011  1990          E     446     486  3.0    10   100       3   \n",
       "3  0010CZE020  1070          E     486     447  3.0    10   100       4   \n",
       "4  0010CZE030  7780          E     447     669  3.0    10   100       5   \n",
       "\n",
       "       시작노드  도착노드  버스전용차로유무  도로등급구분코드  \n",
       "0  경부고속국도시점  구서IC       0.0     101.0  \n",
       "1      구서IC  영락IC       0.0     101.0  \n",
       "2      영락IC  부산TG       0.0     101.0  \n",
       "3      부산TG    노포       0.0     101.0  \n",
       "4      노포IC  노포JC       0.0     101.0  "
      ]
     },
     "execution_count": 75,
     "metadata": {},
     "output_type": "execute_result"
    }
   ],
   "source": [
    "import pandas as pd\n",
    "df = pd.read_excel('ETC콘존.xlsx')\n",
    "df.head()"
   ]
  },
  {
   "cell_type": "code",
   "execution_count": 76,
   "id": "fed8e2c1-03a3-459b-88b7-16c93f591615",
   "metadata": {},
   "outputs": [
    {
     "data": {
      "text/html": [
       "<div>\n",
       "<style scoped>\n",
       "    .dataframe tbody tr th:only-of-type {\n",
       "        vertical-align: middle;\n",
       "    }\n",
       "\n",
       "    .dataframe tbody tr th {\n",
       "        vertical-align: top;\n",
       "    }\n",
       "\n",
       "    .dataframe thead th {\n",
       "        text-align: right;\n",
       "    }\n",
       "</style>\n",
       "<table border=\"1\" class=\"dataframe\">\n",
       "  <thead>\n",
       "    <tr style=\"text-align: right;\">\n",
       "      <th></th>\n",
       "      <th>콘존ID</th>\n",
       "      <th>시작노드</th>\n",
       "      <th>도착노드</th>\n",
       "    </tr>\n",
       "  </thead>\n",
       "  <tbody>\n",
       "    <tr>\n",
       "      <th>0</th>\n",
       "      <td>0010CZE005</td>\n",
       "      <td>경부고속국도시점</td>\n",
       "      <td>구서IC</td>\n",
       "    </tr>\n",
       "    <tr>\n",
       "      <th>1</th>\n",
       "      <td>0010CZE010</td>\n",
       "      <td>구서IC</td>\n",
       "      <td>영락IC</td>\n",
       "    </tr>\n",
       "    <tr>\n",
       "      <th>2</th>\n",
       "      <td>0010CZE011</td>\n",
       "      <td>영락IC</td>\n",
       "      <td>부산TG</td>\n",
       "    </tr>\n",
       "    <tr>\n",
       "      <th>3</th>\n",
       "      <td>0010CZE020</td>\n",
       "      <td>부산TG</td>\n",
       "      <td>노포</td>\n",
       "    </tr>\n",
       "    <tr>\n",
       "      <th>4</th>\n",
       "      <td>0010CZE030</td>\n",
       "      <td>노포IC</td>\n",
       "      <td>노포JC</td>\n",
       "    </tr>\n",
       "  </tbody>\n",
       "</table>\n",
       "</div>"
      ],
      "text/plain": [
       "         콘존ID      시작노드  도착노드\n",
       "0  0010CZE005  경부고속국도시점  구서IC\n",
       "1  0010CZE010      구서IC  영락IC\n",
       "2  0010CZE011      영락IC  부산TG\n",
       "3  0010CZE020      부산TG    노포\n",
       "4  0010CZE030      노포IC  노포JC"
      ]
     },
     "execution_count": 76,
     "metadata": {},
     "output_type": "execute_result"
    }
   ],
   "source": [
    "zone = df[['콘존ID','시작노드','도착노드']]\n",
    "zone.head()"
   ]
  },
  {
   "cell_type": "code",
   "execution_count": 77,
   "id": "ba670809-59b8-4e61-9801-e63c5b879aab",
   "metadata": {},
   "outputs": [
    {
     "data": {
      "text/html": [
       "<div>\n",
       "<style scoped>\n",
       "    .dataframe tbody tr th:only-of-type {\n",
       "        vertical-align: middle;\n",
       "    }\n",
       "\n",
       "    .dataframe tbody tr th {\n",
       "        vertical-align: top;\n",
       "    }\n",
       "\n",
       "    .dataframe thead th {\n",
       "        text-align: right;\n",
       "    }\n",
       "</style>\n",
       "<table border=\"1\" class=\"dataframe\">\n",
       "  <thead>\n",
       "    <tr style=\"text-align: right;\">\n",
       "      <th></th>\n",
       "      <th>콘존ID</th>\n",
       "      <th>평균속도04</th>\n",
       "    </tr>\n",
       "  </thead>\n",
       "  <tbody>\n",
       "    <tr>\n",
       "      <th>0</th>\n",
       "      <td>0010CZE010</td>\n",
       "      <td>72.80</td>\n",
       "    </tr>\n",
       "    <tr>\n",
       "      <th>1</th>\n",
       "      <td>0010CZE011</td>\n",
       "      <td>85.45</td>\n",
       "    </tr>\n",
       "    <tr>\n",
       "      <th>2</th>\n",
       "      <td>0010CZE020</td>\n",
       "      <td>0.00</td>\n",
       "    </tr>\n",
       "    <tr>\n",
       "      <th>3</th>\n",
       "      <td>0010CZE030</td>\n",
       "      <td>0.00</td>\n",
       "    </tr>\n",
       "    <tr>\n",
       "      <th>4</th>\n",
       "      <td>0010CZE035</td>\n",
       "      <td>92.32</td>\n",
       "    </tr>\n",
       "  </tbody>\n",
       "</table>\n",
       "</div>"
      ],
      "text/plain": [
       "         콘존ID  평균속도04\n",
       "0  0010CZE010   72.80\n",
       "1  0010CZE011   85.45\n",
       "2  0010CZE020    0.00\n",
       "3  0010CZE030    0.00\n",
       "4  0010CZE035   92.32"
      ]
     },
     "execution_count": 77,
     "metadata": {},
     "output_type": "execute_result"
    }
   ],
   "source": [
    "vel04 = pd.read_excel('7시구간통행속도240604.xlsx')\n",
    "vel04 = vel04.rename(columns={'평균속도':'평균속도04'})\n",
    "vel04.head()"
   ]
  },
  {
   "cell_type": "code",
   "execution_count": 78,
   "id": "b2536c20-ca0e-4bf7-93cf-c3e1c7b13c73",
   "metadata": {},
   "outputs": [],
   "source": [
    "vel12 = pd.read_excel('7시구간통행속도240612.xlsx')\n",
    "vel20 = pd.read_excel('7시구간통행속도240620.xlsx')\n",
    "vel24 = pd.read_excel('7시구간통행속도240624.xlsx')"
   ]
  },
  {
   "cell_type": "code",
   "execution_count": 79,
   "id": "d5712895-b77f-41f6-8f9c-1d8cba30d952",
   "metadata": {},
   "outputs": [],
   "source": [
    "vel12 = pd.read_excel('7시구간통행속도240612.xlsx')\n",
    "vel12 = vel12.rename(columns={'평균속도':'평균속도12'})\n",
    "vel20 = pd.read_excel('7시구간통행속도240620.xlsx')\n",
    "vel20 = vel20.rename(columns={'평균속도':'평균속도20'})\n",
    "vel24 = pd.read_excel('7시구간통행속도240624.xlsx')\n",
    "vel24 = vel24.rename(columns={'평균속도':'평균속도24'})"
   ]
  },
  {
   "cell_type": "code",
   "execution_count": 80,
   "id": "fdf048bc-35df-4896-8749-7fa8dcfc9ec9",
   "metadata": {},
   "outputs": [
    {
     "data": {
      "text/html": [
       "<div>\n",
       "<style scoped>\n",
       "    .dataframe tbody tr th:only-of-type {\n",
       "        vertical-align: middle;\n",
       "    }\n",
       "\n",
       "    .dataframe tbody tr th {\n",
       "        vertical-align: top;\n",
       "    }\n",
       "\n",
       "    .dataframe thead th {\n",
       "        text-align: right;\n",
       "    }\n",
       "</style>\n",
       "<table border=\"1\" class=\"dataframe\">\n",
       "  <thead>\n",
       "    <tr style=\"text-align: right;\">\n",
       "      <th></th>\n",
       "      <th>콘존ID</th>\n",
       "      <th>시작노드</th>\n",
       "      <th>도착노드</th>\n",
       "      <th>평균속도04</th>\n",
       "      <th>평균속도12</th>\n",
       "      <th>평균속도20</th>\n",
       "      <th>평균속도24</th>\n",
       "    </tr>\n",
       "  </thead>\n",
       "  <tbody>\n",
       "    <tr>\n",
       "      <th>0</th>\n",
       "      <td>0010CZE010</td>\n",
       "      <td>구서IC</td>\n",
       "      <td>영락IC</td>\n",
       "      <td>72.80</td>\n",
       "      <td>74.75</td>\n",
       "      <td>74.94</td>\n",
       "      <td>73.35</td>\n",
       "    </tr>\n",
       "    <tr>\n",
       "      <th>1</th>\n",
       "      <td>0010CZE011</td>\n",
       "      <td>영락IC</td>\n",
       "      <td>부산TG</td>\n",
       "      <td>85.45</td>\n",
       "      <td>87.03</td>\n",
       "      <td>87.09</td>\n",
       "      <td>84.51</td>\n",
       "    </tr>\n",
       "    <tr>\n",
       "      <th>2</th>\n",
       "      <td>0010CZE020</td>\n",
       "      <td>부산TG</td>\n",
       "      <td>노포</td>\n",
       "      <td>0.00</td>\n",
       "      <td>0.00</td>\n",
       "      <td>0.00</td>\n",
       "      <td>0.00</td>\n",
       "    </tr>\n",
       "    <tr>\n",
       "      <th>3</th>\n",
       "      <td>0010CZE030</td>\n",
       "      <td>노포IC</td>\n",
       "      <td>노포JC</td>\n",
       "      <td>0.00</td>\n",
       "      <td>0.00</td>\n",
       "      <td>0.00</td>\n",
       "      <td>0.00</td>\n",
       "    </tr>\n",
       "    <tr>\n",
       "      <th>4</th>\n",
       "      <td>0010CZE035</td>\n",
       "      <td>노포JC</td>\n",
       "      <td>양산JC</td>\n",
       "      <td>92.32</td>\n",
       "      <td>91.90</td>\n",
       "      <td>92.88</td>\n",
       "      <td>91.92</td>\n",
       "    </tr>\n",
       "  </tbody>\n",
       "</table>\n",
       "</div>"
      ],
      "text/plain": [
       "         콘존ID  시작노드  도착노드  평균속도04  평균속도12  평균속도20  평균속도24\n",
       "0  0010CZE010  구서IC  영락IC   72.80   74.75   74.94   73.35\n",
       "1  0010CZE011  영락IC  부산TG   85.45   87.03   87.09   84.51\n",
       "2  0010CZE020  부산TG    노포    0.00    0.00    0.00    0.00\n",
       "3  0010CZE030  노포IC  노포JC    0.00    0.00    0.00    0.00\n",
       "4  0010CZE035  노포JC  양산JC   92.32   91.90   92.88   91.92"
      ]
     },
     "execution_count": 80,
     "metadata": {},
     "output_type": "execute_result"
    }
   ],
   "source": [
    "# add the velocity column to zone\n",
    "mdf = pd.merge(zone, vel04, on='콘존ID')\n",
    "mdf = pd.merge(mdf, vel12, on='콘존ID')\n",
    "mdf = pd.merge(mdf, vel20, on='콘존ID')\n",
    "mdf = pd.merge(mdf, vel24, on='콘존ID')\n",
    "mdf.head()"
   ]
  },
  {
   "cell_type": "code",
   "execution_count": 23,
   "id": "aeaf2e64-17d1-462d-9219-bdc4b354e552",
   "metadata": {},
   "outputs": [
    {
     "name": "stdout",
     "output_type": "stream",
     "text": [
      "<class 'pandas.core.frame.DataFrame'>\n",
      "RangeIndex: 1838 entries, 0 to 1837\n",
      "Data columns (total 7 columns):\n",
      " #   Column  Non-Null Count  Dtype  \n",
      "---  ------  --------------  -----  \n",
      " 0   콘존ID    1838 non-null   object \n",
      " 1   시작노드    1838 non-null   object \n",
      " 2   도착노드    1838 non-null   object \n",
      " 3   평균속도04  1838 non-null   float64\n",
      " 4   평균속도12  1838 non-null   float64\n",
      " 5   평균속도20  1838 non-null   float64\n",
      " 6   평균속도24  1838 non-null   float64\n",
      "dtypes: float64(4), object(3)\n",
      "memory usage: 100.6+ KB\n"
     ]
    }
   ],
   "source": [
    "mdf.info()"
   ]
  },
  {
   "cell_type": "code",
   "execution_count": 28,
   "id": "7c275217-dd81-4944-9de9-c81aa3aacc89",
   "metadata": {},
   "outputs": [],
   "source": [
    "# no NaNs exist\n",
    "# check the distribution of velocity values\n",
    "import seaborn as sns\n",
    "import matplotlib.pyplot as plt\n",
    "import numpy as np"
   ]
  },
  {
   "cell_type": "code",
   "execution_count": 54,
   "id": "ddaf4e46-a871-440a-9dd2-636dd1128b57",
   "metadata": {},
   "outputs": [
    {
     "data": {
      "image/png": "[encoded data removed]",
      "text/plain": [
       "<Figure size 640x480 with 4 Axes>"
      ]
     },
     "metadata": {},
     "output_type": "display_data"
    }
   ],
   "source": [
    "fig, axs = plt.subplots(2,2,sharex='col',sharey='row')\n",
    "axs[0,0].hist(mdf['평균속도04'])\n",
    "axs[0,1].hist(mdf['평균속도12'])\n",
    "axs[1,0].hist(mdf['평균속도20'])\n",
    "axs[1,1].hist(mdf['평균속도24'])\n",
    "plt.suptitle('Distribution of Transition Velocity in June, 2024')\n",
    "fig.supxlabel('velocity')\n",
    "fig.supylabel('count')\n",
    "axs[0,0].set_title('4th')\n",
    "axs[0,1].set_title('12th')\n",
    "axs[1,0].set_title('20th')\n",
    "axs[1,1].set_title('24th')\n",
    "# axs[0,0].set(xlabel='velocity',y='count',title='June 4th')\n",
    "# plt.xlabel('logOfTotalTraffic')\n",
    "# plt.ylabel('count')\n",
    "plt.show() "
   ]
  },
  {
   "cell_type": "code",
   "execution_count": 59,
   "id": "529b1da6-c9c8-42d2-9c29-ce68401a8c4d",
   "metadata": {},
   "outputs": [
    {
     "data": {
      "image/png": "[encoded data removed]",
      "text/plain": [
       "<Figure size 500x500 with 1 Axes>"
      ]
     },
     "metadata": {},
     "output_type": "display_data"
    }
   ],
   "source": [
    "import matplotlib as mpl\n",
    "import matplotlib.font_manager as fm\n",
    "fm.fontManager.addfont('BinggraeII.ttf')\n",
    "mpl.rcParams[\"font.family\"] = 'Binggrae?'\n",
    "sns.displot(mdf['평균속도04'])\n",
    "plt.show()"
   ]
  },
  {
   "cell_type": "code",
   "execution_count": 60,
   "id": "a29879fa-8737-4324-8ae4-c950807fb9ce",
   "metadata": {},
   "outputs": [
    {
     "data": {
      "image/png": "[encoded data removed]",
      "text/plain": [
       "<Figure size 500x500 with 1 Axes>"
      ]
     },
     "metadata": {},
     "output_type": "display_data"
    }
   ],
   "source": [
    "sns.displot(mdf['평균속도12'])\n",
    "plt.show()"
   ]
  },
  {
   "cell_type": "code",
   "execution_count": 61,
   "id": "fc9d72fa-5a6b-4597-8f08-5d3ddb5c8bca",
   "metadata": {},
   "outputs": [
    {
     "data": {
      "image/png": "[encoded data removed]",
      "text/plain": [
       "<Figure size 500x500 with 1 Axes>"
      ]
     },
     "metadata": {},
     "output_type": "display_data"
    }
   ],
   "source": [
    "sns.displot(mdf['평균속도20'])\n",
    "plt.show()"
   ]
  },
  {
   "cell_type": "code",
   "execution_count": 62,
   "id": "0e51ab7f-1439-4e31-96ed-7dfb24d55e89",
   "metadata": {},
   "outputs": [
    {
     "data": {
      "image/png": "[encoded data removed]",
      "text/plain": [
       "<Figure size 500x500 with 1 Axes>"
      ]
     },
     "metadata": {},
     "output_type": "display_data"
    }
   ],
   "source": [
    "sns.displot(mdf['평균속도24'])\n",
    "plt.show()"
   ]
  },
  {
   "cell_type": "code",
   "execution_count": 63,
   "id": "0b91fab5-f403-4b93-b80a-93018ba80ee6",
   "metadata": {},
   "outputs": [
    {
     "data": {
      "text/plain": [
       "0    72.80\n",
       "1    85.45\n",
       "2     0.00\n",
       "3     0.00\n",
       "4    92.32\n",
       "Name: 평균속도04, dtype: float64"
      ]
     },
     "execution_count": 63,
     "metadata": {},
     "output_type": "execute_result"
    }
   ],
   "source": [
    "mdf['평균속도04'][:5]"
   ]
  },
  {
   "cell_type": "code",
   "execution_count": 64,
   "id": "ca4d7cd0-ea70-43c8-9d2c-d20143bbf89a",
   "metadata": {},
   "outputs": [
    {
     "data": {
      "text/plain": [
       "np.True_"
      ]
     },
     "execution_count": 64,
     "metadata": {},
     "output_type": "execute_result"
    }
   ],
   "source": [
    "mdf['평균속도04'][3]==0"
   ]
  },
  {
   "cell_type": "code",
   "execution_count": 67,
   "id": "d0bc4a1a-64ad-432f-a048-c220605028a1",
   "metadata": {},
   "outputs": [
    {
     "data": {
      "text/plain": [
       "0        72.80\n",
       "1        85.45\n",
       "2         0.00\n",
       "3         0.00\n",
       "4        92.32\n",
       "         ...  \n",
       "1833    100.00\n",
       "1834     70.20\n",
       "1835      0.00\n",
       "1836    100.38\n",
       "1837     93.39\n",
       "Name: 평균속도04, Length: 1838, dtype: float64"
      ]
     },
     "execution_count": 67,
     "metadata": {},
     "output_type": "execute_result"
    }
   ],
   "source": [
    "# take the average of the four transition time without zero counted\n",
    "# to make use of the previous code, replace 0.0 by NaN\n",
    "temp = mdf['평균속도04'].copy()\n",
    "temp"
   ]
  },
  {
   "cell_type": "code",
   "execution_count": 69,
   "id": "64c7bc28-dbf9-4c78-b45e-55f2dd6f6a64",
   "metadata": {},
   "outputs": [
    {
     "data": {
      "text/plain": [
       "0        72.80\n",
       "1        85.45\n",
       "2          NaN\n",
       "3          NaN\n",
       "4        92.32\n",
       "         ...  \n",
       "1833    100.00\n",
       "1834     70.20\n",
       "1835       NaN\n",
       "1836    100.38\n",
       "1837     93.39\n",
       "Name: 평균속도04, Length: 1838, dtype: float64"
      ]
     },
     "execution_count": 69,
     "metadata": {},
     "output_type": "execute_result"
    }
   ],
   "source": [
    "temp = temp.apply(lambda x: np.nan if x==0 else x)\n",
    "temp"
   ]
  },
  {
   "cell_type": "code",
   "execution_count": 81,
   "id": "210ec949-9a93-45e4-857a-08ba5141ddd2",
   "metadata": {},
   "outputs": [
    {
     "data": {
      "text/html": [
       "<div>\n",
       "<style scoped>\n",
       "    .dataframe tbody tr th:only-of-type {\n",
       "        vertical-align: middle;\n",
       "    }\n",
       "\n",
       "    .dataframe tbody tr th {\n",
       "        vertical-align: top;\n",
       "    }\n",
       "\n",
       "    .dataframe thead th {\n",
       "        text-align: right;\n",
       "    }\n",
       "</style>\n",
       "<table border=\"1\" class=\"dataframe\">\n",
       "  <thead>\n",
       "    <tr style=\"text-align: right;\">\n",
       "      <th></th>\n",
       "      <th>콘존ID</th>\n",
       "      <th>시작노드</th>\n",
       "      <th>도착노드</th>\n",
       "      <th>평균속도04</th>\n",
       "      <th>평균속도12</th>\n",
       "      <th>평균속도20</th>\n",
       "      <th>평균속도24</th>\n",
       "    </tr>\n",
       "  </thead>\n",
       "  <tbody>\n",
       "    <tr>\n",
       "      <th>0</th>\n",
       "      <td>0010CZE010</td>\n",
       "      <td>구서IC</td>\n",
       "      <td>영락IC</td>\n",
       "      <td>72.80</td>\n",
       "      <td>74.75</td>\n",
       "      <td>74.94</td>\n",
       "      <td>73.35</td>\n",
       "    </tr>\n",
       "    <tr>\n",
       "      <th>1</th>\n",
       "      <td>0010CZE011</td>\n",
       "      <td>영락IC</td>\n",
       "      <td>부산TG</td>\n",
       "      <td>85.45</td>\n",
       "      <td>87.03</td>\n",
       "      <td>87.09</td>\n",
       "      <td>84.51</td>\n",
       "    </tr>\n",
       "    <tr>\n",
       "      <th>2</th>\n",
       "      <td>0010CZE020</td>\n",
       "      <td>부산TG</td>\n",
       "      <td>노포</td>\n",
       "      <td>NaN</td>\n",
       "      <td>NaN</td>\n",
       "      <td>NaN</td>\n",
       "      <td>NaN</td>\n",
       "    </tr>\n",
       "    <tr>\n",
       "      <th>3</th>\n",
       "      <td>0010CZE030</td>\n",
       "      <td>노포IC</td>\n",
       "      <td>노포JC</td>\n",
       "      <td>NaN</td>\n",
       "      <td>NaN</td>\n",
       "      <td>NaN</td>\n",
       "      <td>NaN</td>\n",
       "    </tr>\n",
       "    <tr>\n",
       "      <th>4</th>\n",
       "      <td>0010CZE035</td>\n",
       "      <td>노포JC</td>\n",
       "      <td>양산JC</td>\n",
       "      <td>92.32</td>\n",
       "      <td>91.90</td>\n",
       "      <td>92.88</td>\n",
       "      <td>91.92</td>\n",
       "    </tr>\n",
       "  </tbody>\n",
       "</table>\n",
       "</div>"
      ],
      "text/plain": [
       "         콘존ID  시작노드  도착노드  평균속도04  평균속도12  평균속도20  평균속도24\n",
       "0  0010CZE010  구서IC  영락IC   72.80   74.75   74.94   73.35\n",
       "1  0010CZE011  영락IC  부산TG   85.45   87.03   87.09   84.51\n",
       "2  0010CZE020  부산TG    노포     NaN     NaN     NaN     NaN\n",
       "3  0010CZE030  노포IC  노포JC     NaN     NaN     NaN     NaN\n",
       "4  0010CZE035  노포JC  양산JC   92.32   91.90   92.88   91.92"
      ]
     },
     "execution_count": 81,
     "metadata": {},
     "output_type": "execute_result"
    }
   ],
   "source": [
    "mdf['평균속도04'] = mdf['평균속도04'].apply(lambda x: np.nan if x==0 else x)\n",
    "mdf['평균속도12'] = mdf['평균속도12'].apply(lambda x: np.nan if x==0 else x)\n",
    "mdf['평균속도20'] = mdf['평균속도20'].apply(lambda x: np.nan if x==0 else x)\n",
    "mdf['평균속도24'] = mdf['평균속도24'].apply(lambda x: np.nan if x==0 else x)\n",
    "mdf.head()"
   ]
  },
  {
   "cell_type": "code",
   "execution_count": 82,
   "id": "88da9f48-f41c-485f-96fd-d81dad5a29a9",
   "metadata": {},
   "outputs": [
    {
     "name": "stderr",
     "output_type": "stream",
     "text": [
      "C:\\Users\\syj43\\AppData\\Local\\Temp\\ipykernel_10072\\3281240275.py:6: RuntimeWarning: Mean of empty slice\n",
      "  avgTrans.append(np.nanmean(tempZip[i]))\n"
     ]
    },
    {
     "data": {
      "text/html": [
       "<div>\n",
       "<style scoped>\n",
       "    .dataframe tbody tr th:only-of-type {\n",
       "        vertical-align: middle;\n",
       "    }\n",
       "\n",
       "    .dataframe tbody tr th {\n",
       "        vertical-align: top;\n",
       "    }\n",
       "\n",
       "    .dataframe thead th {\n",
       "        text-align: right;\n",
       "    }\n",
       "</style>\n",
       "<table border=\"1\" class=\"dataframe\">\n",
       "  <thead>\n",
       "    <tr style=\"text-align: right;\">\n",
       "      <th></th>\n",
       "      <th>콘존ID</th>\n",
       "      <th>시작노드</th>\n",
       "      <th>도착노드</th>\n",
       "      <th>평균속도04</th>\n",
       "      <th>평균속도12</th>\n",
       "      <th>평균속도20</th>\n",
       "      <th>평균속도24</th>\n",
       "      <th>평균속도</th>\n",
       "    </tr>\n",
       "  </thead>\n",
       "  <tbody>\n",
       "    <tr>\n",
       "      <th>0</th>\n",
       "      <td>0010CZE010</td>\n",
       "      <td>구서IC</td>\n",
       "      <td>영락IC</td>\n",
       "      <td>72.80</td>\n",
       "      <td>74.75</td>\n",
       "      <td>74.94</td>\n",
       "      <td>73.35</td>\n",
       "      <td>73.960</td>\n",
       "    </tr>\n",
       "    <tr>\n",
       "      <th>1</th>\n",
       "      <td>0010CZE011</td>\n",
       "      <td>영락IC</td>\n",
       "      <td>부산TG</td>\n",
       "      <td>85.45</td>\n",
       "      <td>87.03</td>\n",
       "      <td>87.09</td>\n",
       "      <td>84.51</td>\n",
       "      <td>86.020</td>\n",
       "    </tr>\n",
       "    <tr>\n",
       "      <th>2</th>\n",
       "      <td>0010CZE020</td>\n",
       "      <td>부산TG</td>\n",
       "      <td>노포</td>\n",
       "      <td>NaN</td>\n",
       "      <td>NaN</td>\n",
       "      <td>NaN</td>\n",
       "      <td>NaN</td>\n",
       "      <td>NaN</td>\n",
       "    </tr>\n",
       "    <tr>\n",
       "      <th>3</th>\n",
       "      <td>0010CZE030</td>\n",
       "      <td>노포IC</td>\n",
       "      <td>노포JC</td>\n",
       "      <td>NaN</td>\n",
       "      <td>NaN</td>\n",
       "      <td>NaN</td>\n",
       "      <td>NaN</td>\n",
       "      <td>NaN</td>\n",
       "    </tr>\n",
       "    <tr>\n",
       "      <th>4</th>\n",
       "      <td>0010CZE035</td>\n",
       "      <td>노포JC</td>\n",
       "      <td>양산JC</td>\n",
       "      <td>92.32</td>\n",
       "      <td>91.90</td>\n",
       "      <td>92.88</td>\n",
       "      <td>91.92</td>\n",
       "      <td>92.255</td>\n",
       "    </tr>\n",
       "  </tbody>\n",
       "</table>\n",
       "</div>"
      ],
      "text/plain": [
       "         콘존ID  시작노드  도착노드  평균속도04  평균속도12  평균속도20  평균속도24    평균속도\n",
       "0  0010CZE010  구서IC  영락IC   72.80   74.75   74.94   73.35  73.960\n",
       "1  0010CZE011  영락IC  부산TG   85.45   87.03   87.09   84.51  86.020\n",
       "2  0010CZE020  부산TG    노포     NaN     NaN     NaN     NaN     NaN\n",
       "3  0010CZE030  노포IC  노포JC     NaN     NaN     NaN     NaN     NaN\n",
       "4  0010CZE035  노포JC  양산JC   92.32   91.90   92.88   91.92  92.255"
      ]
     },
     "execution_count": 82,
     "metadata": {},
     "output_type": "execute_result"
    }
   ],
   "source": [
    "# take the average of the four transition time without zero counted\n",
    "tempZip = list(zip(mdf['평균속도04'].values,mdf['평균속도12'].values,\n",
    "           mdf['평균속도20'].values,mdf['평균속도24'].values))\n",
    "avgTrans = []\n",
    "for i in range(len(tempZip)):\n",
    "    avgTrans.append(np.nanmean(tempZip[i]))\n",
    "mdf['평균속도'] = pd.Series(avgTrans)\n",
    "mdf.head()"
   ]
  },
  {
   "cell_type": "code",
   "execution_count": 88,
   "id": "04c6c766-800b-4e94-bde7-748c24b81abb",
   "metadata": {},
   "outputs": [
    {
     "data": {
      "text/html": [
       "<div>\n",
       "<style scoped>\n",
       "    .dataframe tbody tr th:only-of-type {\n",
       "        vertical-align: middle;\n",
       "    }\n",
       "\n",
       "    .dataframe tbody tr th {\n",
       "        vertical-align: top;\n",
       "    }\n",
       "\n",
       "    .dataframe thead th {\n",
       "        text-align: right;\n",
       "    }\n",
       "</style>\n",
       "<table border=\"1\" class=\"dataframe\">\n",
       "  <thead>\n",
       "    <tr style=\"text-align: right;\">\n",
       "      <th></th>\n",
       "      <th>콘존ID</th>\n",
       "      <th>시작노드</th>\n",
       "      <th>도착노드</th>\n",
       "      <th>평균속도</th>\n",
       "    </tr>\n",
       "  </thead>\n",
       "  <tbody>\n",
       "    <tr>\n",
       "      <th>0</th>\n",
       "      <td>0010CZE010</td>\n",
       "      <td>구서IC</td>\n",
       "      <td>영락IC</td>\n",
       "      <td>73.9600</td>\n",
       "    </tr>\n",
       "    <tr>\n",
       "      <th>1</th>\n",
       "      <td>0010CZE011</td>\n",
       "      <td>영락IC</td>\n",
       "      <td>부산TG</td>\n",
       "      <td>86.0200</td>\n",
       "    </tr>\n",
       "    <tr>\n",
       "      <th>4</th>\n",
       "      <td>0010CZE035</td>\n",
       "      <td>노포JC</td>\n",
       "      <td>양산JC</td>\n",
       "      <td>92.2550</td>\n",
       "    </tr>\n",
       "    <tr>\n",
       "      <th>5</th>\n",
       "      <td>0010CZE040</td>\n",
       "      <td>양산JC</td>\n",
       "      <td>양산IC</td>\n",
       "      <td>87.8825</td>\n",
       "    </tr>\n",
       "    <tr>\n",
       "      <th>6</th>\n",
       "      <td>0010CZE050</td>\n",
       "      <td>양산IC</td>\n",
       "      <td>통도사Hi</td>\n",
       "      <td>90.4300</td>\n",
       "    </tr>\n",
       "  </tbody>\n",
       "</table>\n",
       "</div>"
      ],
      "text/plain": [
       "         콘존ID  시작노드   도착노드     평균속도\n",
       "0  0010CZE010  구서IC   영락IC  73.9600\n",
       "1  0010CZE011  영락IC   부산TG  86.0200\n",
       "4  0010CZE035  노포JC   양산JC  92.2550\n",
       "5  0010CZE040  양산JC   양산IC  87.8825\n",
       "6  0010CZE050  양산IC  통도사Hi  90.4300"
      ]
     },
     "execution_count": 88,
     "metadata": {},
     "output_type": "execute_result"
    }
   ],
   "source": [
    "mdf = mdf.drop(columns=['평균속도04','평균속도12','평균속도20','평균속도24'])\n",
    "mdf = mdf.dropna()\n",
    "mdf.head()"
   ]
  },
  {
   "cell_type": "code",
   "execution_count": 89,
   "id": "fde9d97b-2970-49dd-ab5e-f3f0929c4045",
   "metadata": {},
   "outputs": [
    {
     "data": {
      "text/html": [
       "<div>\n",
       "<style scoped>\n",
       "    .dataframe tbody tr th:only-of-type {\n",
       "        vertical-align: middle;\n",
       "    }\n",
       "\n",
       "    .dataframe tbody tr th {\n",
       "        vertical-align: top;\n",
       "    }\n",
       "\n",
       "    .dataframe thead th {\n",
       "        text-align: right;\n",
       "    }\n",
       "</style>\n",
       "<table border=\"1\" class=\"dataframe\">\n",
       "  <thead>\n",
       "    <tr style=\"text-align: right;\">\n",
       "      <th></th>\n",
       "      <th>콘존이름</th>\n",
       "      <th>세부주소1</th>\n",
       "    </tr>\n",
       "  </thead>\n",
       "  <tbody>\n",
       "    <tr>\n",
       "      <th>0</th>\n",
       "      <td>북창원IC</td>\n",
       "      <td>경상남도</td>\n",
       "    </tr>\n",
       "    <tr>\n",
       "      <th>1</th>\n",
       "      <td>창원1터널(동측)</td>\n",
       "      <td>경상남도</td>\n",
       "    </tr>\n",
       "    <tr>\n",
       "      <th>2</th>\n",
       "      <td>창원1터널(서측)</td>\n",
       "      <td>경상남도</td>\n",
       "    </tr>\n",
       "    <tr>\n",
       "      <th>3</th>\n",
       "      <td>철원JC</td>\n",
       "      <td>강원도</td>\n",
       "    </tr>\n",
       "    <tr>\n",
       "      <th>4</th>\n",
       "      <td>88JC</td>\n",
       "      <td>인천광역시</td>\n",
       "    </tr>\n",
       "  </tbody>\n",
       "</table>\n",
       "</div>"
      ],
      "text/plain": [
       "         콘존이름  세부주소1\n",
       "0       북창원IC   경상남도\n",
       "1   창원1터널(동측)   경상남도\n",
       "2   창원1터널(서측)   경상남도\n",
       "3        철원JC    강원도\n",
       "4        88JC  인천광역시"
      ]
     },
     "execution_count": 89,
     "metadata": {},
     "output_type": "execute_result"
    }
   ],
   "source": [
    "# add columns of node address\n",
    "zoneAdress = pd.read_excel('ETC콘존주소.xlsx')\n",
    "zoneAdress.head()"
   ]
  },
  {
   "cell_type": "code",
   "execution_count": 90,
   "id": "0e4940e4-ffa6-4048-b536-4dc0b228b39b",
   "metadata": {},
   "outputs": [
    {
     "data": {
      "text/html": [
       "<div>\n",
       "<style scoped>\n",
       "    .dataframe tbody tr th:only-of-type {\n",
       "        vertical-align: middle;\n",
       "    }\n",
       "\n",
       "    .dataframe tbody tr th {\n",
       "        vertical-align: top;\n",
       "    }\n",
       "\n",
       "    .dataframe thead th {\n",
       "        text-align: right;\n",
       "    }\n",
       "</style>\n",
       "<table border=\"1\" class=\"dataframe\">\n",
       "  <thead>\n",
       "    <tr style=\"text-align: right;\">\n",
       "      <th></th>\n",
       "      <th>콘존ID</th>\n",
       "      <th>시작노드</th>\n",
       "      <th>도착노드</th>\n",
       "      <th>평균속도</th>\n",
       "      <th>세부주소1_x</th>\n",
       "      <th>세부주소1_y</th>\n",
       "    </tr>\n",
       "  </thead>\n",
       "  <tbody>\n",
       "    <tr>\n",
       "      <th>0</th>\n",
       "      <td>0010CZE010</td>\n",
       "      <td>구서IC</td>\n",
       "      <td>영락IC</td>\n",
       "      <td>73.9600</td>\n",
       "      <td>부산광역시</td>\n",
       "      <td>부산광역시</td>\n",
       "    </tr>\n",
       "    <tr>\n",
       "      <th>1</th>\n",
       "      <td>0010CZE011</td>\n",
       "      <td>영락IC</td>\n",
       "      <td>부산TG</td>\n",
       "      <td>86.0200</td>\n",
       "      <td>부산광역시</td>\n",
       "      <td>부산광역시</td>\n",
       "    </tr>\n",
       "    <tr>\n",
       "      <th>2</th>\n",
       "      <td>0010CZE035</td>\n",
       "      <td>노포JC</td>\n",
       "      <td>양산JC</td>\n",
       "      <td>92.2550</td>\n",
       "      <td>부산광역시</td>\n",
       "      <td>경상남도</td>\n",
       "    </tr>\n",
       "    <tr>\n",
       "      <th>3</th>\n",
       "      <td>0010CZE040</td>\n",
       "      <td>양산JC</td>\n",
       "      <td>양산IC</td>\n",
       "      <td>87.8825</td>\n",
       "      <td>경상남도</td>\n",
       "      <td>경상남도</td>\n",
       "    </tr>\n",
       "    <tr>\n",
       "      <th>4</th>\n",
       "      <td>0010CZE050</td>\n",
       "      <td>양산IC</td>\n",
       "      <td>통도사Hi</td>\n",
       "      <td>90.4300</td>\n",
       "      <td>경상남도</td>\n",
       "      <td>울산광역시</td>\n",
       "    </tr>\n",
       "  </tbody>\n",
       "</table>\n",
       "</div>"
      ],
      "text/plain": [
       "         콘존ID  시작노드   도착노드     평균속도 세부주소1_x 세부주소1_y\n",
       "0  0010CZE010  구서IC   영락IC  73.9600   부산광역시   부산광역시\n",
       "1  0010CZE011  영락IC   부산TG  86.0200   부산광역시   부산광역시\n",
       "2  0010CZE035  노포JC   양산JC  92.2550   부산광역시    경상남도\n",
       "3  0010CZE040  양산JC   양산IC  87.8825    경상남도    경상남도\n",
       "4  0010CZE050  양산IC  통도사Hi  90.4300    경상남도   울산광역시"
      ]
     },
     "execution_count": 90,
     "metadata": {},
     "output_type": "execute_result"
    }
   ],
   "source": [
    "# merged zone df\n",
    "mzdf = pd.merge(mdf, zoneAdress, left_on='시작노드', right_on='콘존이름').drop('콘존이름', axis=1)\n",
    "mzdf = pd.merge(mzdf, zoneAdress, left_on='도착노드', right_on='콘존이름').drop('콘존이름', axis=1)\n",
    "mzdf.head()"
   ]
  },
  {
   "cell_type": "code",
   "execution_count": 91,
   "id": "9dfc55a8-b5ce-4fa3-9c41-0d219d32ebc9",
   "metadata": {},
   "outputs": [
    {
     "data": {
      "text/html": [
       "<div>\n",
       "<style scoped>\n",
       "    .dataframe tbody tr th:only-of-type {\n",
       "        vertical-align: middle;\n",
       "    }\n",
       "\n",
       "    .dataframe tbody tr th {\n",
       "        vertical-align: top;\n",
       "    }\n",
       "\n",
       "    .dataframe thead th {\n",
       "        text-align: right;\n",
       "    }\n",
       "</style>\n",
       "<table border=\"1\" class=\"dataframe\">\n",
       "  <thead>\n",
       "    <tr style=\"text-align: right;\">\n",
       "      <th></th>\n",
       "      <th>콘존ID</th>\n",
       "      <th>시작노드</th>\n",
       "      <th>출발노드주소</th>\n",
       "      <th>도착노드</th>\n",
       "      <th>도착노드주소</th>\n",
       "      <th>평균속도</th>\n",
       "    </tr>\n",
       "  </thead>\n",
       "  <tbody>\n",
       "    <tr>\n",
       "      <th>0</th>\n",
       "      <td>0010CZE010</td>\n",
       "      <td>구서IC</td>\n",
       "      <td>부산광역시</td>\n",
       "      <td>영락IC</td>\n",
       "      <td>부산광역시</td>\n",
       "      <td>73.9600</td>\n",
       "    </tr>\n",
       "    <tr>\n",
       "      <th>1</th>\n",
       "      <td>0010CZE011</td>\n",
       "      <td>영락IC</td>\n",
       "      <td>부산광역시</td>\n",
       "      <td>부산TG</td>\n",
       "      <td>부산광역시</td>\n",
       "      <td>86.0200</td>\n",
       "    </tr>\n",
       "    <tr>\n",
       "      <th>2</th>\n",
       "      <td>0010CZE035</td>\n",
       "      <td>노포JC</td>\n",
       "      <td>부산광역시</td>\n",
       "      <td>양산JC</td>\n",
       "      <td>경상남도</td>\n",
       "      <td>92.2550</td>\n",
       "    </tr>\n",
       "    <tr>\n",
       "      <th>3</th>\n",
       "      <td>0010CZE040</td>\n",
       "      <td>양산JC</td>\n",
       "      <td>경상남도</td>\n",
       "      <td>양산IC</td>\n",
       "      <td>경상남도</td>\n",
       "      <td>87.8825</td>\n",
       "    </tr>\n",
       "    <tr>\n",
       "      <th>4</th>\n",
       "      <td>0010CZE050</td>\n",
       "      <td>양산IC</td>\n",
       "      <td>경상남도</td>\n",
       "      <td>통도사Hi</td>\n",
       "      <td>울산광역시</td>\n",
       "      <td>90.4300</td>\n",
       "    </tr>\n",
       "  </tbody>\n",
       "</table>\n",
       "</div>"
      ],
      "text/plain": [
       "         콘존ID  시작노드 출발노드주소   도착노드 도착노드주소     평균속도\n",
       "0  0010CZE010  구서IC  부산광역시   영락IC  부산광역시  73.9600\n",
       "1  0010CZE011  영락IC  부산광역시   부산TG  부산광역시  86.0200\n",
       "2  0010CZE035  노포JC  부산광역시   양산JC   경상남도  92.2550\n",
       "3  0010CZE040  양산JC   경상남도   양산IC   경상남도  87.8825\n",
       "4  0010CZE050  양산IC   경상남도  통도사Hi  울산광역시  90.4300"
      ]
     },
     "execution_count": 91,
     "metadata": {},
     "output_type": "execute_result"
    }
   ],
   "source": [
    "# change names of the added columns and the order of columns\n",
    "mzdf = mzdf.rename(columns={'세부주소1_x':'출발노드주소','세부주소1_y':'도착노드주소'})\n",
    "mzdf = mzdf.iloc[:,[0,1,4,2,5,3]]\n",
    "mzdf.head()"
   ]
  },
  {
   "cell_type": "code",
   "execution_count": 92,
   "id": "fe9d3f54-3ddd-47d5-bdbf-1af6ceb517c8",
   "metadata": {},
   "outputs": [
    {
     "data": {
      "text/html": [
       "<div>\n",
       "<style scoped>\n",
       "    .dataframe tbody tr th:only-of-type {\n",
       "        vertical-align: middle;\n",
       "    }\n",
       "\n",
       "    .dataframe tbody tr th {\n",
       "        vertical-align: top;\n",
       "    }\n",
       "\n",
       "    .dataframe thead th {\n",
       "        text-align: right;\n",
       "    }\n",
       "</style>\n",
       "<table border=\"1\" class=\"dataframe\">\n",
       "  <thead>\n",
       "    <tr style=\"text-align: right;\">\n",
       "      <th></th>\n",
       "      <th>콘존ID</th>\n",
       "      <th>시작노드</th>\n",
       "      <th>출발노드주소</th>\n",
       "      <th>도착노드</th>\n",
       "      <th>도착노드주소</th>\n",
       "      <th>평균속도</th>\n",
       "    </tr>\n",
       "  </thead>\n",
       "  <tbody>\n",
       "    <tr>\n",
       "      <th>0</th>\n",
       "      <td>0010CZE010</td>\n",
       "      <td>구서IC</td>\n",
       "      <td>부산광역시</td>\n",
       "      <td>영락IC</td>\n",
       "      <td>부산광역시</td>\n",
       "      <td>73</td>\n",
       "    </tr>\n",
       "    <tr>\n",
       "      <th>1</th>\n",
       "      <td>0010CZE011</td>\n",
       "      <td>영락IC</td>\n",
       "      <td>부산광역시</td>\n",
       "      <td>부산TG</td>\n",
       "      <td>부산광역시</td>\n",
       "      <td>86</td>\n",
       "    </tr>\n",
       "    <tr>\n",
       "      <th>2</th>\n",
       "      <td>0010CZE035</td>\n",
       "      <td>노포JC</td>\n",
       "      <td>부산광역시</td>\n",
       "      <td>양산JC</td>\n",
       "      <td>경상남도</td>\n",
       "      <td>92</td>\n",
       "    </tr>\n",
       "    <tr>\n",
       "      <th>3</th>\n",
       "      <td>0010CZE040</td>\n",
       "      <td>양산JC</td>\n",
       "      <td>경상남도</td>\n",
       "      <td>양산IC</td>\n",
       "      <td>경상남도</td>\n",
       "      <td>87</td>\n",
       "    </tr>\n",
       "    <tr>\n",
       "      <th>4</th>\n",
       "      <td>0010CZE050</td>\n",
       "      <td>양산IC</td>\n",
       "      <td>경상남도</td>\n",
       "      <td>통도사Hi</td>\n",
       "      <td>울산광역시</td>\n",
       "      <td>90</td>\n",
       "    </tr>\n",
       "  </tbody>\n",
       "</table>\n",
       "</div>"
      ],
      "text/plain": [
       "         콘존ID  시작노드 출발노드주소   도착노드 도착노드주소  평균속도\n",
       "0  0010CZE010  구서IC  부산광역시   영락IC  부산광역시    73\n",
       "1  0010CZE011  영락IC  부산광역시   부산TG  부산광역시    86\n",
       "2  0010CZE035  노포JC  부산광역시   양산JC   경상남도    92\n",
       "3  0010CZE040  양산JC   경상남도   양산IC   경상남도    87\n",
       "4  0010CZE050  양산IC   경상남도  통도사Hi  울산광역시    90"
      ]
     },
     "execution_count": 92,
     "metadata": {},
     "output_type": "execute_result"
    }
   ],
   "source": [
    "# truncate the average values\n",
    "import math\n",
    "mzdf['평균속도'] = mzdf['평균속도'].map(lambda x:math.trunc(x))\n",
    "mzdf.head()"
   ]
  },
  {
   "cell_type": "code",
   "execution_count": 93,
   "id": "b3d0a900-5ebc-4224-990c-3e4ed93d9476",
   "metadata": {},
   "outputs": [],
   "source": [
    "# drop redundant columns and save it\n",
    "mzdf = mzdf.drop(columns=['콘존ID','시작노드','도착노드'])\n",
    "mzdf.to_csv('노드간통행속도.csv', index=False, encoding='utf-8')"
   ]
  },
  {
   "cell_type": "code",
   "execution_count": null,
   "id": "efef72dd-40e5-4080-b931-7b7dba188e9f",
   "metadata": {},
   "outputs": [],
   "source": [
    "# end of the code"
   ]
  }
 ],
 "metadata": {
  "kernelspec": {
   "display_name": "Python 3 (ipykernel)",
   "language": "python",
   "name": "python3"
  },
  "language_info": {
   "codemirror_mode": {
    "name": "ipython",
    "version": 3
   },
   "file_extension": ".py",
   "mimetype": "text/x-python",
   "name": "python",
   "nbconvert_exporter": "python",
   "pygments_lexer": "ipython3",
   "version": "3.10.0"
  }
 },
 "nbformat": 4,
 "nbformat_minor": 5
}
